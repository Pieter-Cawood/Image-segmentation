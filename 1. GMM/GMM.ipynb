{
 "cells": [
  {
   "cell_type": "code",
   "execution_count": 1,
   "metadata": {},
   "outputs": [],
   "source": [
    "from natsort import natsorted\n",
    "import matplotlib.pyplot as plt\n",
    "from glob import glob\n",
    "import json\n",
    "from functools import partial\n",
    "import numpy as np\n",
    "from cachier import cachier\n",
    "from tqdm import tqdm\n",
    "import imageio\n",
    "from skimage import img_as_float32\n",
    "import cv2 as cv2\n",
    "from math import pi, e, sqrt, cos, sin\n",
    "from scipy.stats import norm, multivariate_normal\n",
    "from scipy.spatial.distance import euclidean\n",
    "from sklearn.metrics import accuracy_score"
   ]
  },
  {
   "cell_type": "code",
   "execution_count": 2,
   "metadata": {},
   "outputs": [],
   "source": [
    "ztqdm = partial(tqdm, position=0, leave=True)\n",
    "cachier = partial(cachier, pickle_reload=False, cache_dir='data/cache')"
   ]
  },
  {
   "cell_type": "code",
   "execution_count": 3,
   "metadata": {},
   "outputs": [
    {
     "name": "stderr",
     "output_type": "stream",
     "text": [
      "Loading Images: 100%|██████████████████████████████████████████████████████████████████| 48/48 [00:01<00:00, 30.19it/s]\n",
      "Loading Masks: 100%|██████████████████████████████████████████████████████████████████| 48/48 [00:00<00:00, 168.06it/s]\n"
     ]
    }
   ],
   "source": [
    "SIZE = (768, 1024)\n",
    "\n",
    "DATA_PATH_PAIRS = list(zip(\n",
    "    natsorted(glob(f'../data/images-{SIZE[1]}x{SIZE[0]}/*.png')),\n",
    "    natsorted(glob(f'../data/masks-{SIZE[1]}x{SIZE[0]}/*.png')),\n",
    "))\n",
    "DATA_IMGS = np.array(\n",
    "    [img_as_float32(imageio.imread(img_path)) for img_path, _ in tqdm(DATA_PATH_PAIRS, 'Loading Images')])\n",
    "DATA_MSKS = np.array(\n",
    "    [img_as_float32(imageio.imread(msk_path)) for _, msk_path in tqdm(DATA_PATH_PAIRS, 'Loading Masks')])\n",
    "\n",
    "assert DATA_IMGS.shape == (48, SIZE[0], SIZE[1], 3)\n",
    "assert DATA_MSKS.shape == (48, SIZE[0], SIZE[1])"
   ]
  },
  {
   "cell_type": "code",
   "execution_count": 4,
   "metadata": {},
   "outputs": [],
   "source": [
    "def normalise_data(data):\n",
    "    return np.subtract(data, np.min(data))/ np.subtract(np.max(data), np.min(data))\n",
    "\n",
    "def show_image(image,cs=False,cmap= None, title=None):\n",
    "    if cs:\n",
    "        norm_img = normalise_data(image)\n",
    "    else:\n",
    "        norm_img = image\n",
    "    plt.title(title)\n",
    "    plt.imshow(norm_img, cmap= cmap)\n",
    "    plt.xticks([])\n",
    "    plt.yticks([])"
   ]
  },
  {
   "cell_type": "code",
   "execution_count": 5,
   "metadata": {},
   "outputs": [],
   "source": [
    "PREWITT_VERTICAL = cv2.flip(np.array([[1, 0, -1],\n",
    "                                      [1, 0, -1],\n",
    "                                      [1, 0, -1]]), -1).astype(np.float32)   \n",
    "    \n",
    "PREWITT_HORIZONTAL = cv2.flip(np.array([[-1, -1, -1],\n",
    "                                        [0, 0, 0],\n",
    "                                        [1, 1, 1]]), -1).astype(np.float32) \n",
    "\n",
    "LAPLACIAN  = cv2.flip(np.array([[0, -1, 0],\n",
    "                                [-1, 4, -1],\n",
    "                                [0, -1, 0]]), -1).astype(np.float32)  \n",
    "\n",
    "class ImageDataUtils(object):\n",
    "    \n",
    "    def train_test_split(self, images, masks, train_size=0.7, validation_size=0.15, test_size=0.15):\n",
    "        all_indices = np.arange(len(images))\n",
    "        np.random.shuffle(all_indices)\n",
    "        train_indices = all_indices[0: int(len(images)* train_size) + 1]\n",
    "        validate_inidices = all_indices[len(train_indices): len(train_indices) + int(len(images)* validation_size)]\n",
    "        test_indices = all_indices[len(train_indices)+len(validate_inidices): len(train_indices)+len(validate_inidices)+ int(len(images)* test_size)]\n",
    "\n",
    "        train_images = np.array([images[i] for i in train_indices])\n",
    "        train_masks = np.array([masks[i] for i in train_indices])\n",
    "        \n",
    "        validate_images = np.array([images[i] for i in validate_inidices])\n",
    "        validate_masks = np.array([masks[i] for i in validate_inidices])\n",
    "        \n",
    "        test_images = np.array([images[i] for i in test_indices])\n",
    "        test_masks = np.array([masks[i] for i in test_indices])\n",
    "        return train_images, train_masks, validate_images, validate_masks, test_images, test_masks\n",
    "\n",
    "\n",
    "    def _get_kernel(self, g, sigma, size, k=None):   \n",
    "        \"\"\"\n",
    "        Function to map kernel function to numpy matrix, \n",
    "        Note result is normalized.\n",
    "        \n",
    "        \"\"\"\n",
    "        # Center x and y coordinates and return a numpy matrix from g function\n",
    "        kernel =  np.fromfunction(lambda x, y: \n",
    "                                 g((x - (size - 1) / 2), (y - (size - 1) / 2), sigma, k),\n",
    "                                 (size, size))  \n",
    "        return kernel.astype(np.float32)\n",
    "\n",
    "    def _dog(self, sigma, size, k):\n",
    "        \"\"\"\n",
    "        Get a Difference of Gaussian filter\n",
    "    \n",
    "        \"\"\"\n",
    "        def _g(x, y, sigma, k):\n",
    "            return (2*pi*sigma**2) * \\\n",
    "                    e**(-1 * ((x**2 + y**2) / (2 * sigma**2))) - \\\n",
    "                    (1 / 2 * pi * k**2 * sigma**2) *\\\n",
    "                    e**(-1 * ((x**2 + y**2)/(2 * k**2 * sigma**2)))\n",
    "                \n",
    "        if k <= 1.0:\n",
    "            raise ValueError(\"k must be > 1.0\")\n",
    "        \n",
    "        return self._get_kernel(_g, sigma, size, k)\n",
    "    \n",
    "    \"\"\"\n",
    "    Get a Laplacian of Gaussian kernel\n",
    "    \n",
    "    \"\"\"\n",
    "    def _log(self, sigma, size):  \n",
    "        \n",
    "        def _g(x, y, sigma, k= None):\n",
    "            return (1/(pi * sigma**4)) * \\\n",
    "                    (1 - ((x**2 + y**2)/(2 * sigma**2))) * \\\n",
    "                    e ** (-1 * ((x**2 + y**2)/(2 * sigma**2)))\n",
    "                \n",
    "        return self._get_kernel(_g, sigma, size)\n",
    "    \n",
    "    def extract_features(self, image, gaus=(3,3), dog_sigma=30, dog_size=65, dog_k=6):\n",
    "        \"\"\"\n",
    "        Parameters\n",
    "        ----------\n",
    "        image : numpy array of shape (n_sample, col, row, n_channels)\n",
    "        gaus : tuple of gaussian kernel for blurring input image\n",
    "        dog_sigma : int, sigma value for DoG features\n",
    "        dog_size  : int, size of DoG kernel\n",
    "        dog_k : int, k parameter for DoG \n",
    "        show_feature_plots : bool, verbose option to plot features\n",
    "        \n",
    "        Returns\n",
    "        ---------- \n",
    "        numpy array : 9 x flattened image shape (786432) features of image.\n",
    "        1 - 3: R, G, B channels\n",
    "        4 - 6: DoG of RGB channels\n",
    "        7 - 9: H, S, V channels\n",
    "    \n",
    "        \"\"\"\n",
    "        # Gaussian blur image as a first step to reduce noise\n",
    "        image_ = cv2.GaussianBlur(image, gaus, 0).astype(np.float32)  \n",
    "        # RBG Features\n",
    "        features = None\n",
    "        for rgb_channel in cv2.split(image_):\n",
    "            if features is None:\n",
    "                features = np.array(normalise_data(rgb_channel.flatten().astype(np.float32)))\n",
    "            else:\n",
    "                features = np.vstack((features, normalise_data(rgb_channel.flatten().astype(np.float32))))\n",
    "                \n",
    "        # DoG features\n",
    "        dog_kernel = self._dog(dog_sigma, dog_size, dog_k)\n",
    "        convolved = cv2.filter2D(image_, -1, dog_kernel)    \n",
    "        for convolved_rgb_channel in cv2.split(convolved):\n",
    "            features = np.vstack((features, normalise_data(convolved_rgb_channel.flatten().astype(np.float32))))\n",
    "        \n",
    "        # LoG features\n",
    "        log_kernel = self._log(5, 49)\n",
    "        convolved = cv2.filter2D(image_, -1, log_kernel)     \n",
    "        for convolved_rbg_channel in cv2.split(convolved):\n",
    "            features = np.vstack((features, normalise_data(convolved_rbg_channel.flatten().astype(np.float32))))\n",
    "        \n",
    "        return features\n",
    "    \n",
    "    def apply_mask(self, features, mask, invert_mask=False):\n",
    "        \"\"\"Apply the mask to a data set\"\"\"\n",
    "        data = []\n",
    "        mask_ = mask.astype(np.bool).flatten()\n",
    "        if invert_mask:\n",
    "            mask_ = np.invert(mask_)\n",
    "        for feature in features:\n",
    "            masked_feature = feature[mask_ == True]\n",
    "            data.append(masked_feature.flatten())\n",
    "        return np.array(data)\n",
    "    "
   ]
  },
  {
   "cell_type": "code",
   "execution_count": 6,
   "metadata": {},
   "outputs": [],
   "source": [
    "data_utils = ImageDataUtils()"
   ]
  },
  {
   "cell_type": "markdown",
   "metadata": {},
   "source": [
    "# Train, validation and training split\n",
    "Split data randomly into sets of 70% training, 15% validation and 15% testing"
   ]
  },
  {
   "cell_type": "code",
   "execution_count": 7,
   "metadata": {},
   "outputs": [],
   "source": [
    "train_images, train_masks, \\\n",
    "validate_images, validate_masks, \\\n",
    "test_images, test_masks = data_utils.train_test_split(DATA_IMGS, DATA_MSKS, \n",
    "                                                      train_size=0.7, \n",
    "                                                      validation_size=0.15, \n",
    "                                                      test_size=0.15)"
   ]
  },
  {
   "cell_type": "markdown",
   "metadata": {},
   "source": [
    "# Pre-process data, and extract the features:\n",
    "Flattened and normalised feature vectors for each image of\n",
    "- RGB channels\n",
    "- DoG on RGB channels\n",
    "- HSV channels\n",
    "\n",
    "The training data is split into two sets (foreground and background) to train two GMM models. Lastly all of the training\n",
    "data are concatenated into a signle dimension so that we have data sets in the format (n_features, samples)"
   ]
  },
  {
   "cell_type": "code",
   "execution_count": 8,
   "metadata": {},
   "outputs": [],
   "source": [
    "train_data = np.array([data_utils.extract_features(train_image) for train_image in train_images])\n",
    "validate_data = np.array([data_utils.extract_features(validate_image) for validate_image in validate_images])\n",
    "test_data = np.array([data_utils.extract_features(test_image) for test_image in test_images])"
   ]
  },
  {
   "cell_type": "markdown",
   "metadata": {},
   "source": [
    "Use masks to split training data to foreground and background data sets"
   ]
  },
  {
   "cell_type": "code",
   "execution_count": 9,
   "metadata": {},
   "outputs": [],
   "source": [
    "train_bg_data = [data_utils.apply_mask(features, mask, invert_mask=True) \n",
    "                for features, mask in zip(train_data, train_masks)]\n",
    "train_fg_data = [data_utils.apply_mask(features, mask, invert_mask=False) \n",
    "                for features, mask in zip(train_data, train_masks)]"
   ]
  },
  {
   "cell_type": "code",
   "execution_count": 10,
   "metadata": {},
   "outputs": [],
   "source": [
    "train_bg_data = np.concatenate(train_bg_data, axis=1)\n",
    "train_fg_data = np.concatenate(train_fg_data, axis=1)"
   ]
  },
  {
   "cell_type": "markdown",
   "metadata": {},
   "source": [
    "## Gaussian Mixture Model (GMM)"
   ]
  },
  {
   "cell_type": "markdown",
   "metadata": {},
   "source": [
    "Since our data is composed of intensities that might be modelled using gaussian distributions, we investigate the use of a Mixture Gausssian Model (GMM), which is an unsupervised learning approach that aims to fit a mixture of gasussian distributions to model the data with $d$ dimensions of features. And we want to use the GMM to fit clusters or mixture of gaussians to our data set, but we do not know where they are, or how they are shaped.\n",
    "It differs from normal KNN, since the clusters are gaussian distributions, which are parameterised by a mean and covariance. Which allows us to model the probability that our data belongs to either clusters in elliptical shapes, as opposed to the circular shapes clustered by KNN.\n",
    "\n",
    "![GMM](resources/GMM_illistration.png)\n",
    "\n",
    "### Expectation Maximisation (EM)\n",
    "We find the gaussian mixture model by using the EM algorithm to find k to minimize $\\frac{(x-u_k)^2}{\\sigma^2}$.\n",
    "EM introduces a latent variable $h$ for each cluster $K$, and the GMM is a marginalisation of the joint probability distribution $P(\\vec{x}, h)$, where $\\vec{x}$ represents our feature vectors.  We define a variable $h \\in \\{1 \\dots K\\}$ and then the probability distribution for each categorical variable is written as <br>\n",
    "$Pr(\\times|h, \\theta) = Norm_x[\\mu_h, \\Sigma_h]$ <br>\n",
    "$Pr(h|\\theta) = Cat_h[\\lambda]$ <br>\n",
    "\n",
    "Then we can recover the density by marginalising out the $h$ from the joint probability distribution $Pr(\\vec{x},h)$ <br>\n",
    "$\n",
    "\\begin{align}\n",
    "Pr(\\vec{x}|\\theta) & = \\sum^K_{k=1} Pr(\\vec{x}, h = k | \\theta)\\\\\n",
    "                   & = \\sum^K_{k=1} Pr(\\vec{x}, h = k, \\theta) Pr(h=k|\\theta)\\\\\n",
    "                   & = \\sum^K_{k=1} \\lambda_k Norm_\\vec{x}[\\mu_k, \\Sigma_h]   \\\\\n",
    "\\end{align}\n",
    "$\n",
    "\n",
    "![GMM](resources/GMM_marginilisation.png)\n",
    "\n",
    "This formulation allows us to fit the model with the Expectation Maximisation algorithm using closed-form solutions in an iterative process. The goal is to learn the model parameters $\\theta = \\{\\lambda_{1 \\dots K}, \\mu_{1 \\dots K}, \\Sigma_{1 \\dots K} \\}$ from our training features $\\vec{x}$. The two steps of the EM algorithm include\n",
    "\n",
    "#### 1. E-Step (Expectation)\n",
    "The probability of $h$ is computed using the current estimates of the parameters $\\theta$. So for each point we estimate the probability that each Gaussian generated it $Pr(h_i = k | \\vec{x}_i, \\theta^{[t]})$, which might also be described as the responsibility of the $k^{th}$ Gaussian for the $i^{th}$ data point expressed by <br>\n",
    "$r_{ik} = \\frac{\\lambda_k Norm_{x_i} [\\mu_k, \\Sigma_k]}{\\sum^K_{j=1}\\lambda_j Norm_\\vec{x_i} [\\mu_j, \\Sigma_j]}$\n",
    "\n",
    "![GMM](resources/GMM_Estep.png)\n",
    "\n",
    "\n",
    "#### 1. M-Step (Maximisation)\n",
    "Using the computed resposibilities the maximisation step then updates the model parameters $\\theta$. And in our case we use maximum likelihood estimation that allows the following closed form update rules <br>\n",
    "\n",
    "\n",
    "$\\lambda_k^{[t + 1]} = \\frac{\\sum^I_{i=1} r_{ik}} {\\sum^K_{j=1}\\sum^I_{i=1} r_{ij}  }   $\n",
    "\n",
    "$\\mu_k^{[t + 1]} = \\frac{\\sum^I_{i=1} r_{ik} \\vec{x_i}} {\\sum^I_{i=1} r_{ik}} $\n",
    "\n",
    "$\\Sigma_k^{[t + 1]} = \\frac{\\sum^I_{i=1} r_{ik} (\\vec{x_i} - \\mu_k^{[t + 1]}) (\\vec{x_i} - \\mu_k^{[t + 1]})^T}{\\sum^I_{i=1} r_{ik}}$\n",
    "\n",
    "![GMM](resources/GMM_Mstep.png)\n",
    "\n",
    "#### The EM-flow\n",
    "![EM](resources/EM_flow.png)\n",
    "- The $k$ clusters center are randomly initialised \n",
    "- The responsibilities are recomputed during the E-Step, and the model parameters are updated during the M-Step.\n",
    "- The iterative process is repeated until convergence (Parameter change is smaller then some threshold.)\n"
   ]
  },
  {
   "cell_type": "markdown",
   "metadata": {},
   "source": [
    "### GMM using EM"
   ]
  },
  {
   "cell_type": "code",
   "execution_count": 11,
   "metadata": {},
   "outputs": [],
   "source": [
    "class GuassianParameters(object):\n",
    "    \"\"\"Distribution parameters\"\"\"\n",
    "\n",
    "    def __init__(self, lmbda, mu, cov):\n",
    "        self.lmbda = lmbda\n",
    "        self.mu = mu\n",
    "        self.cov = cov\n",
    "\n",
    "    def difference_between(self, other):\n",
    "        return abs(self.lmbda - other.lmbda) + \\\n",
    "               euclidean(self.mu, other.mu) + \\\n",
    "               euclidean(self.cov.flatten(), other.cov.flatten())\n",
    "\n",
    "\n",
    "class GaussianMixtureModel(object):\n",
    "    \"\"\"Multivariate Gaussian Mixture Model\"\"\"\n",
    "\n",
    "    def _get_init_params(self, X):\n",
    "        n_features = X.shape[1]\n",
    "        # Initial weigths evenly distributed\n",
    "        lmbda = 1 / self.k_size\n",
    "        # Initial means, random observations from input data\n",
    "        mu = np.random.choice(X.flatten(), n_features)\n",
    "        # Iniital covariance\n",
    "        cov = np.random.random((n_features, n_features))\n",
    "        cov *= cov.T\n",
    "        cov += n_features * np.eye(n_features)\n",
    "        return GuassianParameters(lmbda, mu, cov)\n",
    "\n",
    "    def __init__(self, k_size=3, tol=1e-3, min_iter=5, max_iter=30, verbose=True):\n",
    "        self.fitted = False\n",
    "        self.k_size = k_size\n",
    "        self.tol = tol\n",
    "        self.min_iter = min_iter\n",
    "        self.max_iter = max_iter\n",
    "        self.verbose = verbose\n",
    "        self.fitted_parameters = None\n",
    "\n",
    "    def _estep(self, X, gaussian_parameters):\n",
    "        \"\"\"Calculate the responsibility for each cluster for all of the data points,\"\"\"\n",
    "        n_samples = X.shape[0]\n",
    "        responsibilities = np.zeros((n_samples, self.k_size))\n",
    "        weighted_gaussians = np.zeros((n_samples, self.k_size))\n",
    "        # Get normal distributions using current parameter set\n",
    "        for k in range(self.k_size):\n",
    "            weighted_gaussians[:, k] = gaussian_parameters[k].lmbda * \\\n",
    "                                       multivariate_normal.pdf(X, gaussian_parameters[k].mu, gaussian_parameters[k].cov)\n",
    "        # Compute responsibility for each cluster\n",
    "        for k in range(self.k_size):\n",
    "            responsibilities[:, k] = weighted_gaussians[:, k] / np.sum(weighted_gaussians, axis=1, initial=1e-10)\n",
    "        return responsibilities\n",
    "\n",
    "    def _mstep(self, X, responsibilities):\n",
    "        \"\"\"Compute model parameters using maximum likelikhood closed form solutions\"\"\"\n",
    "        gaussian_parameters = []\n",
    "        for k in range(self.k_size):\n",
    "            k_sum_responsibility = np.sum(responsibilities[:, k])\n",
    "            lmbda = k_sum_responsibility / (np.sum(np.sum(responsibilities, axis=1)))\n",
    "            mu = np.dot(responsibilities[:, k], X) / k_sum_responsibility\n",
    "            standardised_x = X - mu\n",
    "            cov = np.dot((standardised_x.T * responsibilities[:, k]), standardised_x) / k_sum_responsibility\n",
    "            # Add small value to diagonal to prevent singular matrix\n",
    "            cov += np.eye(len(cov)) * 1e-10\n",
    "            gaussian_parameters.append(GuassianParameters(lmbda, mu, cov))\n",
    "        return gaussian_parameters\n",
    "    \n",
    "    def save_parameters(self, filename):\n",
    "        \"\"\"Save the model parameters to file\"\"\"\n",
    "        assert self.fitted, \"Model is not yet fitted.\"\n",
    "        np.save(filename, self.fitted_parameters)\n",
    "    \n",
    "    def load_parameters(self, filename):\n",
    "        \"\"\"Load the model parameters from file\"\"\"\n",
    "        self.fitted_parameters = np.load(filename +'.npy',allow_pickle=True)\n",
    "        self.fitted = True\n",
    "        \n",
    "    def fit(self, X):\n",
    "        \"\"\"Fit the model according to the given training data.\n",
    "\n",
    "        Parameters\n",
    "        ----------\n",
    "        X : numpy array, of shape (n_samples, n_features)\n",
    "            Training vector, where n_samples is the number of samples/pixels and\n",
    "            n_features is the number of features.\n",
    "\n",
    "        \"\"\"\n",
    "        converged = False\n",
    "        run_iteration = 1\n",
    "        # Initialise parameters\n",
    "        gaussian_parameters = [self._get_init_params(X) for _k in range(self.k_size)]\n",
    "        while not converged and run_iteration <= self.max_iter:\n",
    "            # E-step\n",
    "            responsibilities = self._estep(X, gaussian_parameters)\n",
    "            # M-step\n",
    "            new_gaussian_parameters = self._mstep(X, responsibilities)\n",
    "            # Iterate until parameters experience change smaller than tolerance\n",
    "            total_change = 0\n",
    "            for k, parameters in enumerate(new_gaussian_parameters):\n",
    "                total_change += parameters.difference_between(gaussian_parameters[k])\n",
    "            if total_change < self.tol and run_iteration > self.min_iter:\n",
    "                converged = True\n",
    "            gaussian_parameters = new_gaussian_parameters\n",
    "            if self.verbose:\n",
    "                print(\"Iteration #{0}, change in parameters {1}\".format(run_iteration, total_change))\n",
    "            run_iteration += 1\n",
    "            \n",
    "        self.fitted_parameters = gaussian_parameters\n",
    "        self.fitted = True\n",
    "        \n",
    "        if self.verbose:\n",
    "            print(\"Finished in {0} iterations\".format(run_iteration - 1))\n",
    "            \n",
    "    def predict(self, X):\n",
    "        \"\"\" Predict's the probability density the input observations by marginalising\n",
    "        out the joint probability distributions.\n",
    "        \n",
    "        Parameters\n",
    "        ----------\n",
    "        X : numpy array, of shape (n_samples, n_features)\n",
    "            Testing vector, where n_samples is the number of samples/pixels and\n",
    "            n_features is the number of features.\n",
    "        \n",
    "        Returns\n",
    "        ----------\n",
    "        y : numpy array, of shape (n_samples)\n",
    "            Estimated probability density from the mixture of gaussian models.\n",
    "        \"\"\"\n",
    "        assert self.fitted, \"Model is not yet fitted.\"\n",
    "        n_samples = X.shape[0]\n",
    "        gaussian_pdfs = np.zeros((n_samples, self.k_size))\n",
    "        for k in range(self.k_size):\n",
    "            gaussian_pdfs[:, k] = self.fitted_parameters[k].lmbda *\\\n",
    "            multivariate_normal.pdf(X, self.fitted_parameters[k].mu, self.fitted_parameters[k].cov)\n",
    "        # Return marginalised distribution\n",
    "        return np.sum(gaussian_pdfs, axis=1)"
   ]
  },
  {
   "cell_type": "markdown",
   "metadata": {},
   "source": [
    "**Background model**"
   ]
  },
  {
   "cell_type": "code",
   "execution_count": 12,
   "metadata": {},
   "outputs": [
    {
     "name": "stdout",
     "output_type": "stream",
     "text": [
      "Iteration #1, change in parameters 86.54543470546878\n",
      "Iteration #2, change in parameters 0.006747265007568687\n",
      "Iteration #3, change in parameters 0.03267706037182126\n",
      "Iteration #4, change in parameters 0.1009280385058941\n",
      "Iteration #5, change in parameters 0.165903418065849\n",
      "Iteration #6, change in parameters 0.15796604432535524\n",
      "Iteration #7, change in parameters 0.09303215653791468\n",
      "Iteration #8, change in parameters 0.13906160409224916\n",
      "Iteration #9, change in parameters 0.16526871011476907\n",
      "Iteration #10, change in parameters 0.113876817605396\n",
      "Iteration #11, change in parameters 0.06412694594325236\n",
      "Iteration #12, change in parameters 0.04449769664259237\n",
      "Iteration #13, change in parameters 0.03626830826461742\n",
      "Iteration #14, change in parameters 0.030591928038766515\n",
      "Iteration #15, change in parameters 0.025030897399869842\n",
      "Iteration #16, change in parameters 0.020480344631008434\n",
      "Iteration #17, change in parameters 0.019440624898681147\n",
      "Iteration #18, change in parameters 0.020655145649550503\n",
      "Iteration #19, change in parameters 0.02397396978966542\n",
      "Iteration #20, change in parameters 0.023780079246429994\n",
      "Iteration #21, change in parameters 0.017848364779661386\n",
      "Iteration #22, change in parameters 0.019936125631546196\n",
      "Iteration #23, change in parameters 0.017837407600665295\n",
      "Iteration #24, change in parameters 0.010650565694188353\n",
      "Iteration #25, change in parameters 0.0061507552960240195\n",
      "Iteration #26, change in parameters 0.004358011415248074\n",
      "Iteration #27, change in parameters 0.0036507161927832074\n",
      "Iteration #28, change in parameters 0.0032095991754410354\n",
      "Iteration #29, change in parameters 0.0028457302707244813\n",
      "Iteration #30, change in parameters 0.0024848372085596263\n",
      "Finished in 30 iterations\n"
     ]
    }
   ],
   "source": [
    "bg_gmm = GaussianMixtureModel()\n",
    "bg_gmm.fit(train_bg_data.T)"
   ]
  },
  {
   "cell_type": "markdown",
   "metadata": {},
   "source": [
    "**Foreground model**"
   ]
  },
  {
   "cell_type": "code",
   "execution_count": 13,
   "metadata": {},
   "outputs": [
    {
     "name": "stdout",
     "output_type": "stream",
     "text": [
      "Iteration #1, change in parameters 86.46664250756578\n",
      "Iteration #2, change in parameters 0.019036563853490576\n",
      "Iteration #3, change in parameters 0.06579713297072236\n",
      "Iteration #4, change in parameters 0.229394669868293\n",
      "Iteration #5, change in parameters 0.3728029350272175\n",
      "Iteration #6, change in parameters 0.3040476557494744\n",
      "Iteration #7, change in parameters 0.17406112061660617\n",
      "Iteration #8, change in parameters 0.11643073238943648\n",
      "Iteration #9, change in parameters 0.113809317615058\n",
      "Iteration #10, change in parameters 0.11982698129873427\n",
      "Iteration #11, change in parameters 0.13107178129742275\n",
      "Iteration #12, change in parameters 0.1511368072913354\n",
      "Iteration #13, change in parameters 0.09117084070349656\n",
      "Iteration #14, change in parameters 0.05300562720458168\n",
      "Iteration #15, change in parameters 0.04064328730750913\n",
      "Iteration #16, change in parameters 0.04258541320454039\n",
      "Iteration #17, change in parameters 0.04768730633224155\n",
      "Iteration #18, change in parameters 0.051597458939580954\n",
      "Iteration #19, change in parameters 0.05047554675937119\n",
      "Iteration #20, change in parameters 0.04706526408092483\n",
      "Iteration #21, change in parameters 0.043924825171610116\n",
      "Iteration #22, change in parameters 0.04225238313782666\n",
      "Iteration #23, change in parameters 0.041491197192846115\n",
      "Iteration #24, change in parameters 0.039946853170722454\n",
      "Iteration #25, change in parameters 0.037201795407746145\n",
      "Iteration #26, change in parameters 0.03325798327923885\n",
      "Iteration #27, change in parameters 0.028095218337330093\n",
      "Iteration #28, change in parameters 0.022269758686599868\n",
      "Iteration #29, change in parameters 0.01705548925487633\n",
      "Iteration #30, change in parameters 0.012989704227756232\n",
      "Finished in 30 iterations\n"
     ]
    }
   ],
   "source": [
    "fg_gmm = GaussianMixtureModel()\n",
    "fg_gmm.fit(train_fg_data.T)"
   ]
  },
  {
   "cell_type": "markdown",
   "metadata": {},
   "source": [
    "**Posterior probabilities** <br>\n",
    "\n",
    "$P(class=fg\\  | \\ \\vec{x}) =  \\frac{\\lambda Norm_\\vec{x} [\\vec{\\mu}_{fg} , \\Sigma_{fg}]}\n",
    "                                   {\\lambda Norm_\\vec{x} [\\vec{\\mu}_{fg} , \\Sigma_{fg}] \\ + \\ (1 - \\lambda)\n",
    "                                   Norm_\\vec{x} [\\vec{\\mu}_{bg} , \\Sigma_{bg}]   }        $"
   ]
  },
  {
   "cell_type": "code",
   "execution_count": 16,
   "metadata": {},
   "outputs": [],
   "source": [
    "def predict_foreground(X, bg_gmm, fg_gmm, lmbda):\n",
    "    fg_dist = fg_gmm.predict(X)\n",
    "    bg_dist = bg_gmm.predict(X)\n",
    "    y = (lmbda * fg_dist) / ((lmbda * fg_dist) + ((1 - lmbda) * bg_dist))\n",
    "    return (y >= 0.5).astype(np.float32)\n",
    "\n",
    "def validate_predictions(validation_data, validation_masks, bg_gmm, fg_gmm, lmbda, plot=True):\n",
    "    predict_count = 0\n",
    "    total_score = 0\n",
    "    for data, mask in zip (validation_data, validation_masks):\n",
    "        predict_count += 1\n",
    "        y = predict_foreground(data.T, bg_gmm, fg_gmm, lmbda=lmbda)\n",
    "        score = accuracy_score(y, mask.flatten())\n",
    "        print(\"Prediction #{0}, accuracy:{1}%\".format(predict_count, round(score *100, 2)) )\n",
    "        total_score += score\n",
    "        if plot:\n",
    "            show_image(y.reshape(SIZE), cmap='gray')\n",
    "            plt.show()\n",
    "    print(\"Average accuracy:{0}%\".format(round(total_score/predict_count *100, 2)) )"
   ]
  },
  {
   "cell_type": "code",
   "execution_count": 21,
   "metadata": {
    "scrolled": false
   },
   "outputs": [
    {
     "name": "stdout",
     "output_type": "stream",
     "text": [
      "Prediction #1, accuracy:95.88%\n"
     ]
    },
    {
     "data": {
      "image/png": "[encoded data removed]",
      "text/plain": [
       "<Figure size 432x288 with 1 Axes>"
      ]
     },
     "metadata": {},
     "output_type": "display_data"
    },
    {
     "name": "stdout",
     "output_type": "stream",
     "text": [
      "Prediction #2, accuracy:95.07%\n"
     ]
    },
    {
     "data": {
      "image/png": "[encoded data removed]",
      "text/plain": [
       "<Figure size 432x288 with 1 Axes>"
      ]
     },
     "metadata": {},
     "output_type": "display_data"
    },
    {
     "name": "stdout",
     "output_type": "stream",
     "text": [
      "Prediction #3, accuracy:97.43%\n"
     ]
    },
    {
     "data": {
      "image/png": "[encoded data removed]",
      "text/plain": [
       "<Figure size 432x288 with 1 Axes>"
      ]
     },
     "metadata": {},
     "output_type": "display_data"
    },
    {
     "name": "stdout",
     "output_type": "stream",
     "text": [
      "Prediction #4, accuracy:98.81%\n"
     ]
    },
    {
     "data": {
      "image/png": "[encoded data removed]",
      "text/plain": [
       "<Figure size 432x288 with 1 Axes>"
      ]
     },
     "metadata": {},
     "output_type": "display_data"
    },
    {
     "name": "stdout",
     "output_type": "stream",
     "text": [
      "Prediction #5, accuracy:98.01%\n"
     ]
    },
    {
     "data": {
      "image/png": "[encoded data removed]",
      "text/plain": [
       "<Figure size 432x288 with 1 Axes>"
      ]
     },
     "metadata": {},
     "output_type": "display_data"
    },
    {
     "name": "stdout",
     "output_type": "stream",
     "text": [
      "Prediction #6, accuracy:92.22%\n"
     ]
    },
    {
     "data": {
      "image/png": "[encoded data removed]",
      "text/plain": [
       "<Figure size 432x288 with 1 Axes>"
      ]
     },
     "metadata": {},
     "output_type": "display_data"
    },
    {
     "name": "stdout",
     "output_type": "stream",
     "text": [
      "Prediction #7, accuracy:98.02%\n"
     ]
    },
    {
     "data": {
      "image/png": "[encoded data removed]",
      "text/plain": [
       "<Figure size 432x288 with 1 Axes>"
      ]
     },
     "metadata": {},
     "output_type": "display_data"
    },
    {
     "name": "stdout",
     "output_type": "stream",
     "text": [
      "Average accuracy:96.49%\n"
     ]
    }
   ],
   "source": [
    "validate_predictions(validate_data, validate_masks, bg_gmm, fg_gmm, lmbda=0.05)"
   ]
  },
  {
   "cell_type": "markdown",
   "metadata": {},
   "source": [
    "## 6-Fold Cross-Validation\n",
    "Since the data set is limited, cross-validation might be used to evaluate the skill of the GMM for the unseen test data. A 6-Fold method is used, which splits the data into 6 groups of 8 puzzle pieces each. The method is popular since it results in a less biased estimate of the model's skill than other methods. The procedure used follows:\n",
    "- Shuffle the test set data randomly\n",
    "- Split the data set randomly into the 6 groups (with 8 image data each.)\n",
    "- Then for each of these groups\n",
    " - Assign the group as a test set\n",
    " - Use all the remaining groups as the training set\n",
    " - Fit the model on the training set and evaluate it using the test set\n",
    " - Compute the score and discard the model\n",
    "- Model performance is then the mean value of all scores\n",
    " "
   ]
  },
  {
   "cell_type": "code",
   "execution_count": null,
   "metadata": {},
   "outputs": [],
   "source": []
  }
 ],
 "metadata": {
  "kernelspec": {
   "display_name": "Python 3",
   "language": "python",
   "name": "python3"
  },
  "language_info": {
   "codemirror_mode": {
    "name": "ipython",
    "version": 3
   },
   "file_extension": ".py",
   "mimetype": "text/x-python",
   "name": "python",
   "nbconvert_exporter": "python",
   "pygments_lexer": "ipython3",
   "version": "3.7.6"
  }
 },
 "nbformat": 4,
 "nbformat_minor": 4
}
