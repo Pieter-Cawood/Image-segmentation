{
 "cells": [
  {
   "cell_type": "code",
   "execution_count": 1,
   "metadata": {},
   "outputs": [],
   "source": [
    "from natsort import natsorted\n",
    "import matplotlib.pyplot as plt\n",
    "from glob import glob\n",
    "import json\n",
    "from functools import partial\n",
    "import numpy as np\n",
    "from cachier import cachier\n",
    "from tqdm import tqdm\n",
    "import imageio\n",
    "from skimage import img_as_float32\n",
    "import cv2 as cv2\n",
    "from math import pi, e, sqrt, cos, sin\n",
    "from scipy.stats import norm, multivariate_normal\n",
    "from scipy.spatial.distance import euclidean\n",
    "from sklearn.metrics import accuracy_score\n",
    "from skimage.feature import hog\n",
    "from sklearn.decomposition import PCA\n",
    "import pandas as pd"
   ]
  },
  {
   "cell_type": "code",
   "execution_count": 2,
   "metadata": {},
   "outputs": [],
   "source": [
    "ztqdm = partial(tqdm, position=0, leave=True)\n",
    "cachier = partial(cachier, pickle_reload=False, cache_dir='data/cache')"
   ]
  },
  {
   "cell_type": "code",
   "execution_count": 3,
   "metadata": {},
   "outputs": [
    {
     "name": "stderr",
     "output_type": "stream",
     "text": [
      "Loading Images: 100%|██████████████████████████████████████████████████████████████████| 48/48 [00:01<00:00, 28.02it/s]\n",
      "Loading Masks: 100%|██████████████████████████████████████████████████████████████████| 48/48 [00:00<00:00, 148.59it/s]\n"
     ]
    }
   ],
   "source": [
    "SIZE = (768, 1024)\n",
    "NEW_SIZE = SIZE[::-1]\n",
    "DATA_PATH_PAIRS = list(zip(\n",
    "    natsorted(glob(f'../data/images-{SIZE[1]}x{SIZE[0]}/*.png')),\n",
    "    natsorted(glob(f'../data/masks-{SIZE[1]}x{SIZE[0]}/*.png')),\n",
    "))\n",
    "DATA_IMGS = np.array(\n",
    "    [cv2.resize(img_as_float32(imageio.imread(img_path)), NEW_SIZE)\n",
    "     for img_path, _ in tqdm(DATA_PATH_PAIRS, 'Loading Images')])\n",
    "DATA_MSKS = np.array(\n",
    "    [cv2.resize(img_as_float32(imageio.imread(msk_path)), NEW_SIZE,  interpolation = cv2.INTER_NEAREST)\n",
    "     for _, msk_path in tqdm(DATA_PATH_PAIRS, 'Loading Masks')])\n"
   ]
  },
  {
   "cell_type": "code",
   "execution_count": 4,
   "metadata": {},
   "outputs": [],
   "source": [
    "def normalise_data(data):\n",
    "    return np.subtract(data, np.min(data)) / np.subtract(np.max(data), np.min(data))\n",
    "\n",
    "def show_image(image,cs=False,cmap= None, title=None):\n",
    "    if cs:\n",
    "        norm_img = normalise_data(image)\n",
    "    else:\n",
    "        norm_img = image\n",
    "    plt.title(title)\n",
    "    plt.imshow(norm_img, cmap= cmap)\n",
    "    plt.xticks([])\n",
    "    plt.yticks([])"
   ]
  },
  {
   "cell_type": "code",
   "execution_count": 5,
   "metadata": {},
   "outputs": [],
   "source": [
    "class ImageDataUtils(object):\n",
    "    \n",
    "    def train_test_split(self, images, masks, train_size=0.7, validation_size=0.15, test_size=0.15, seed=5):\n",
    "        \"\"\"\n",
    "        Split a set of images and masks according to a random specified set sizes.\n",
    "\n",
    "        \"\"\"\n",
    "        # Get indices\n",
    "        np.random.seed(seed)\n",
    "        all_indices = np.arange(len(images))\n",
    "        np.random.shuffle(all_indices)\n",
    "        train_indices = all_indices[0: int(len(images)* train_size) + 1]\n",
    "        validate_inidices = all_indices[len(train_indices): len(train_indices) + int(len(images)* validation_size)]\n",
    "        test_indices = all_indices[len(train_indices)+len(validate_inidices): len(train_indices)+\n",
    "                                   len(validate_inidices) + int(len(images)* test_size)]\n",
    "        # Train data\n",
    "        train_images = np.array([images[i] for i in train_indices])\n",
    "        train_masks = np.array([masks[i] for i in train_indices])\n",
    "        # Validate data\n",
    "        validate_images = np.array([images[i] for i in validate_inidices])\n",
    "        validate_masks = np.array([masks[i] for i in validate_inidices])\n",
    "        # Test data\n",
    "        test_images = np.array([images[i] for i in test_indices])\n",
    "        test_masks = np.array([masks[i] for i in test_indices])\n",
    "        return train_images, train_masks, validate_images, validate_masks, test_images, test_masks\n",
    "\n",
    "\n",
    "    def _get_kernel(self, g, sigma, size, k=None):   \n",
    "        \"\"\"\n",
    "        Function to map kernel function to numpy matrix, \n",
    "        Note result is normalized.\n",
    "        \n",
    "        \"\"\"\n",
    "        # Center x and y coordinates and return a numpy matrix from g function\n",
    "        kernel =  np.fromfunction(lambda x, y: \n",
    "                                 g((x - (size - 1) / 2), (y - (size - 1) / 2), sigma, k),\n",
    "                                 (size, size))  \n",
    "        return kernel.astype(np.float32)\n",
    "\n",
    "    def _dog(self, sigma, size, k):\n",
    "        \"\"\"\n",
    "        Get a Difference of Gaussian filter\n",
    "    \n",
    "        \"\"\"\n",
    "        def _g(x, y, sigma, k):\n",
    "            return (2*pi*sigma**2) * \\\n",
    "                    e**(-1 * ((x**2 + y**2) / (2 * sigma**2))) - \\\n",
    "                    (1 / 2 * pi * k**2 * sigma**2) *\\\n",
    "                    e**(-1 * ((x**2 + y**2)/(2 * k**2 * sigma**2)))\n",
    "                \n",
    "        if k <= 1.0:\n",
    "            raise ValueError(\"k must be > 1.0\")\n",
    "        \n",
    "        return self._get_kernel(_g, sigma, size, k)\n",
    "    \n",
    "    \"\"\"\n",
    "    Get a Laplacian of Gaussian kernel\n",
    "    \n",
    "    \"\"\"\n",
    "    def _log(self, sigma, size):  \n",
    "        \n",
    "        def _g(x, y, sigma, k= None):\n",
    "            return (1/(pi * sigma**4)) * \\\n",
    "                    (1 - ((x**2 + y**2)/(2 * sigma**2))) * \\\n",
    "                    e ** (-1 * ((x**2 + y**2)/(2 * sigma**2)))\n",
    "                \n",
    "        return self._get_kernel(_g, sigma, size)\n",
    "    \n",
    "    def extract_features(self, image, gaus=(3,3), dog_sigma=30, dog_size=65, dog_k=6):\n",
    "        \"\"\"\n",
    "        Parameters\n",
    "        ----------\n",
    "        image : numpy array of shape (n_sample, col, row, n_channels)\n",
    "        gaus : tuple of gaussian kernel for blurring input image\n",
    "        dog_sigma : int, sigma value for DoG features\n",
    "        dog_size  : int, size of DoG kernel\n",
    "        dog_k : int, k parameter for DoG \n",
    "        show_feature_plots : bool, verbose option to plot features\n",
    "        \n",
    "        Returns\n",
    "        ---------- \n",
    "        numpy array : 9 x flattened image shape (786432) features of image.\n",
    "        1 - 3: R, G, B channels\n",
    "        4 - 6: DoG of RGB channels\n",
    "        7 - 9: H, S, V channels\n",
    "    \n",
    "        \"\"\"\n",
    "         # Gaussian blur image as a first step to reduce noise\n",
    "        image_ = cv2.GaussianBlur(image, gaus, 0).astype(np.float32)  \n",
    "        # RBG Features\n",
    "        features = None\n",
    "        for rgb_channel in cv2.split(image_):\n",
    "            if features is None:\n",
    "                features = np.array(normalise_data(rgb_channel.flatten().astype(np.float32)))\n",
    "            else:\n",
    "                features = np.vstack((features, normalise_data(rgb_channel.flatten().astype(np.float32))))\n",
    "                \n",
    "        dog_kernel = self._dog(dog_sigma, dog_size, dog_k)\n",
    "        convolved = cv2.filter2D(image_, -1, dog_kernel)    \n",
    "        for convolved_rgb_channel in cv2.split(convolved):\n",
    "            if features is None:\n",
    "                features = np.array(normalise_data(convolved_rgb_channel.flatten().astype(np.float32))) \n",
    "            else:\n",
    "                features = np.vstack((features, normalise_data(convolved_rgb_channel.flatten().astype(np.float32))))\n",
    "            \n",
    "        return features\n",
    "    \n",
    "    def apply_mask(self, features, mask, invert_mask=False):\n",
    "        \"\"\"Apply the mask to a data set\"\"\"\n",
    "        data = []\n",
    "        mask_ = mask.astype(np.bool).flatten()\n",
    "        if invert_mask:\n",
    "            mask_ = np.invert(mask_)\n",
    "        for feature in features:\n",
    "            masked_feature = feature[mask_ == True]\n",
    "            data.append(masked_feature.flatten())\n",
    "        return np.array(data)"
   ]
  },
  {
   "cell_type": "markdown",
   "metadata": {},
   "source": [
    "# Train, validation and training split\n",
    "Split data randomly into sets of 70% training, 15% validation and 15% testing"
   ]
  },
  {
   "cell_type": "code",
   "execution_count": 6,
   "metadata": {},
   "outputs": [],
   "source": [
    "data_utils = ImageDataUtils()\n",
    "\n",
    "train_images, train_masks, \\\n",
    "validate_images, validate_masks, \\\n",
    "test_images, test_masks = data_utils.train_test_split(DATA_IMGS, DATA_MSKS, \n",
    "                                                      train_size=0.7, \n",
    "                                                      validation_size=0.15, \n",
    "                                                      test_size=0.15)"
   ]
  },
  {
   "cell_type": "markdown",
   "metadata": {},
   "source": [
    "# Pre-process data, and extract the features:\n",
    "Flattened and normalised feature vectors for each image of\n",
    "- RGB channels\n",
    "- DoG on RGB channels\n",
    "\n",
    "The training data is split into two sets (foreground and background) to train two GMM models. Lastly all of the training\n",
    "data are concatenated into a signle dimension so that we have data sets in the format (n_features, samples)"
   ]
  },
  {
   "cell_type": "code",
   "execution_count": 7,
   "metadata": {},
   "outputs": [],
   "source": [
    "train_data = np.array([data_utils.extract_features(train_image) for train_image in train_images])\n",
    "validate_data = np.array([data_utils.extract_features(validate_image) for validate_image in validate_images])\n",
    "test_data = np.array([data_utils.extract_features(test_image) for test_image in test_images])"
   ]
  },
  {
   "cell_type": "markdown",
   "metadata": {},
   "source": [
    "Use masks to split training data to foreground and background data sets"
   ]
  },
  {
   "cell_type": "code",
   "execution_count": 8,
   "metadata": {},
   "outputs": [],
   "source": [
    "train_bg_data = [data_utils.apply_mask(features, mask, invert_mask=True) \n",
    "                for features, mask in zip(train_data, train_masks)]\n",
    "train_fg_data = [data_utils.apply_mask(features, mask, invert_mask=False) \n",
    "                for features, mask in zip(train_data, train_masks)]"
   ]
  },
  {
   "cell_type": "code",
   "execution_count": 9,
   "metadata": {},
   "outputs": [],
   "source": [
    "train_bg_data = np.concatenate(train_bg_data, axis=1)\n",
    "train_fg_data = np.concatenate(train_fg_data, axis=1)"
   ]
  },
  {
   "cell_type": "markdown",
   "metadata": {},
   "source": [
    "## Gaussian Mixture Model (GMM)"
   ]
  },
  {
   "cell_type": "markdown",
   "metadata": {},
   "source": [
    "Since our data is composed of intensities that might be modelled using gaussian distributions, we investigate the use of a Mixture Gausssian Model (GMM), which is an unsupervised learning approach that aims to fit a mixture of gasussian distributions to model the data with $d$ dimensions of features. And we want to use the GMM to fit clusters or mixture of gaussians to our data set, but we do not know where they are, or how they are shaped.\n",
    "It differs from normal KNN, since the clusters are gaussian distributions, which are parameterised by a mean and covariance. Which allows us to model the probability that our data belongs to either clusters in elliptical shapes, as opposed to the circular shapes clustered by KNN.\n",
    "\n",
    "![GMM](resources/GMM_illistration.png)\n",
    "\n",
    "### Expectation Maximisation (EM)\n",
    "We find the gaussian mixture model by using the EM algorithm to find k to minimize $\\frac{(x-u_k)^2}{\\sigma^2}$.\n",
    "EM introduces a latent variable $h$ for each cluster $K$, and the GMM is a marginalisation of the joint probability distribution $P(\\vec{x}, h)$, where $\\vec{x}$ represents our feature vectors.  We define a variable $h \\in \\{1 \\dots K\\}$ and then the probability distribution for each categorical variable is written as <br>\n",
    "$Pr(\\times|h, \\theta) = Norm_x[\\mu_h, \\Sigma_h]$ <br>\n",
    "$Pr(h|\\theta) = Cat_h[\\lambda]$ <br>\n",
    "\n",
    "Then we can recover the density by marginalising out the $h$ from the joint probability distribution $Pr(\\vec{x},h)$ <br>\n",
    "$\n",
    "\\begin{align}\n",
    "Pr(\\vec{x}|\\theta) & = \\sum^K_{k=1} Pr(\\vec{x}, h = k | \\theta)\\\\\n",
    "                   & = \\sum^K_{k=1} Pr(\\vec{x}, h = k, \\theta) Pr(h=k|\\theta)\\\\\n",
    "                   & = \\sum^K_{k=1} \\lambda_k Norm_\\vec{x}[\\mu_k, \\Sigma_h]   \\\\\n",
    "\\end{align}\n",
    "$\n",
    "\n",
    "![GMM](resources/GMM_marginilisation.png)\n",
    "\n",
    "This formulation allows us to fit the model with the Expectation Maximisation algorithm using closed-form solutions in an iterative process. The goal is to learn the model parameters $\\theta = \\{\\lambda_{1 \\dots K}, \\mu_{1 \\dots K}, \\Sigma_{1 \\dots K} \\}$ from our training features $\\vec{x}$. The two steps of the EM algorithm include\n",
    "\n",
    "#### 1. E-Step (Expectation)\n",
    "The probability of $h$ is computed using the current estimates of the parameters $\\theta$. So for each point we estimate the probability that each Gaussian generated it $Pr(h_i = k | \\vec{x}_i, \\theta^{[t]})$, which might also be described as the responsibility of the $k^{th}$ Gaussian for the $i^{th}$ data point expressed by <br>\n",
    "$r_{ik} = \\frac{\\lambda_k Norm_{x_i} [\\mu_k, \\Sigma_k]}{\\sum^K_{j=1}\\lambda_j Norm_\\vec{x_i} [\\mu_j, \\Sigma_j]}$\n",
    "\n",
    "![GMM](resources/GMM_Estep.png)\n",
    "\n",
    "\n",
    "#### 1. M-Step (Maximisation)\n",
    "Using the computed resposibilities the maximisation step then updates the model parameters $\\theta$. And in our case we use maximum likelihood estimation that allows the following closed form update rules <br>\n",
    "\n",
    "\n",
    "$\\lambda_k^{[t + 1]} = \\frac{\\sum^I_{i=1} r_{ik}} {\\sum^K_{j=1}\\sum^I_{i=1} r_{ij}  }   $\n",
    "\n",
    "$\\mu_k^{[t + 1]} = \\frac{\\sum^I_{i=1} r_{ik} \\vec{x_i}} {\\sum^I_{i=1} r_{ik}} $\n",
    "\n",
    "$\\Sigma_k^{[t + 1]} = \\frac{\\sum^I_{i=1} r_{ik} (\\vec{x_i} - \\mu_k^{[t + 1]}) (\\vec{x_i} - \\mu_k^{[t + 1]})^T}{\\sum^I_{i=1} r_{ik}}$\n",
    "\n",
    "![GMM](resources/GMM_Mstep.png)\n",
    "\n",
    "#### The EM-flow\n",
    "![EM](resources/EM_flow.png)\n",
    "- The $k$ clusters center are randomly initialised \n",
    "- The responsibilities are recomputed during the E-Step, and the model parameters are updated during the M-Step.\n",
    "- The iterative process is repeated until convergence (Parameter change is smaller then some threshold.)\n"
   ]
  },
  {
   "cell_type": "markdown",
   "metadata": {},
   "source": [
    "### GMM using EM"
   ]
  },
  {
   "cell_type": "code",
   "execution_count": 10,
   "metadata": {},
   "outputs": [],
   "source": [
    "class GuassianParameters(object):\n",
    "    \"\"\"Distribution parameters\"\"\"\n",
    "\n",
    "    def __init__(self, lmbda, mu, cov):\n",
    "        self.lmbda = lmbda\n",
    "        self.mu = mu\n",
    "        self.cov = cov\n",
    "\n",
    "    def difference_between(self, other):\n",
    "        return abs(self.lmbda - other.lmbda) + \\\n",
    "               euclidean(self.mu, other.mu) + \\\n",
    "               euclidean(self.cov.flatten(), other.cov.flatten())\n",
    "\n",
    "\n",
    "class GaussianMixtureModel(object):\n",
    "    \"\"\"Multivariate Gaussian Mixture Model\"\"\"\n",
    "\n",
    "    def _get_init_params(self, X):\n",
    "        n_features = X.shape[1]\n",
    "        # Initial weigths evenly distributed\n",
    "        lmbda = 1 / self.k_size\n",
    "        # Initial means, random observations from input data\n",
    "        mu = np.random.choice(X.flatten(), n_features)\n",
    "        # Iniital covariance\n",
    "        cov = np.random.random((n_features, n_features))\n",
    "        cov *= cov.T\n",
    "        cov += n_features * np.eye(n_features)\n",
    "        return GuassianParameters(lmbda, mu, cov)\n",
    "\n",
    "    def __init__(self, k_size=5, tol=1e-3, min_iter=5, max_iter=60, verbose=True):\n",
    "        self.fitted = False\n",
    "        self.k_size = k_size\n",
    "        self.tol = tol\n",
    "        self.min_iter = min_iter\n",
    "        self.max_iter = max_iter\n",
    "        self.verbose = verbose\n",
    "        self.fitted_parameters = None\n",
    "\n",
    "    def _estep(self, X, gaussian_parameters):\n",
    "        \"\"\"Calculate the responsibility for each cluster for all of the data points,\"\"\"\n",
    "        n_samples = X.shape[0]\n",
    "        responsibilities = np.zeros((n_samples, self.k_size))\n",
    "        weighted_gaussians = np.zeros((n_samples, self.k_size))\n",
    "        # Get normal distributions using current parameter set\n",
    "        for k in range(self.k_size):\n",
    "            weighted_gaussians[:, k] = gaussian_parameters[k].lmbda * \\\n",
    "                                       multivariate_normal.pdf(X, gaussian_parameters[k].mu, gaussian_parameters[k].cov)\n",
    "        # Compute responsibility for each cluster\n",
    "        for k in range(self.k_size):\n",
    "            responsibilities[:, k] = weighted_gaussians[:, k] / np.sum(weighted_gaussians, axis=1, initial=1e-10)\n",
    "        return responsibilities\n",
    "\n",
    "    def _mstep(self, X, responsibilities):\n",
    "        \"\"\"Compute model parameters using maximum likelikhood closed form solutions\"\"\"\n",
    "        gaussian_parameters = []\n",
    "        for k in range(self.k_size):\n",
    "            k_sum_responsibility = np.sum(responsibilities[:, k])\n",
    "            lmbda = k_sum_responsibility / (np.sum(np.sum(responsibilities, axis=1)))\n",
    "            mu = np.dot(responsibilities[:, k], X) / k_sum_responsibility\n",
    "            standardised_x = X - mu\n",
    "            cov = np.dot((standardised_x.T * responsibilities[:, k]), standardised_x) / k_sum_responsibility\n",
    "            # Add small value to diagonal to prevent singular matrix\n",
    "            cov += np.eye(len(cov)) * 1e-10\n",
    "            gaussian_parameters.append(GuassianParameters(lmbda, mu, cov))\n",
    "        return gaussian_parameters\n",
    "    \n",
    "    def save_parameters(self, filename):\n",
    "        \"\"\"Save the model parameters to file\"\"\"\n",
    "        assert self.fitted, \"Model is not yet fitted.\"\n",
    "        np.save(filename, self.fitted_parameters)\n",
    "    \n",
    "    def load_parameters(self, filename):\n",
    "        \"\"\"Load the model parameters from file\"\"\"\n",
    "        self.fitted_parameters = np.load(filename +'.npy',allow_pickle=True)\n",
    "        self.fitted = True\n",
    "        \n",
    "    def plot_gaussian(self, X, feature_1_index, feature_2_index, component_number):\n",
    "        \"\"\"Plots a gaussian distribution for two random variables\"\"\"\n",
    "        assert self.fitted, \"Model is not yet fitted.\"\n",
    "        n_samples = X.shape[0]\n",
    "        gaussian_pdfs = np.zeros((n_samples, self.k_size))\n",
    "        for k in range(self.k_size):\n",
    "            gaussian_pdfs[:, k] = self.fitted_parameters[k].lmbda *\\\n",
    "            multivariate_normal.pdf(X, self.fitted_parameters[k].mu, self.fitted_parameters[k].cov)\n",
    "        fig = plt.figure()\n",
    "        ax = fig.gca(projection='3d')\n",
    "        ax.plot_surface(X[:, feature_1_index], \n",
    "                        X[:, feature_2_index], \n",
    "                        gaussian_pdfs[:, component_number] ,cmap='viridis',linewidth=0)\n",
    "        ax.set_xlabel('Feature 1')\n",
    "        ax.set_ylabel('Feature 2')\n",
    "        ax.set_zlabel('Likelihood')\n",
    "        plt.show()\n",
    "        \n",
    "    def fit(self, X):\n",
    "        \"\"\"Fit the model according to the given training data.\n",
    "\n",
    "        Parameters\n",
    "        ----------\n",
    "        X : numpy array, of shape (n_samples, n_features)\n",
    "            Training vector, where n_samples is the number of samples/pixels and\n",
    "            n_features is the number of features.\n",
    "\n",
    "        \"\"\"\n",
    "        converged = False\n",
    "        run_iteration = 1\n",
    "        # Initialise parameters\n",
    "        gaussian_parameters = [self._get_init_params(X) for _k in range(self.k_size)]\n",
    "        while not converged and run_iteration <= self.max_iter:\n",
    "            # E-step\n",
    "            responsibilities = self._estep(X, gaussian_parameters)\n",
    "            # M-step\n",
    "            new_gaussian_parameters = self._mstep(X, responsibilities)\n",
    "            # Iterate until parameters experience change smaller than tolerance\n",
    "            total_change = 0\n",
    "            for k, parameters in enumerate(new_gaussian_parameters):\n",
    "                total_change += parameters.difference_between(gaussian_parameters[k])\n",
    "            if total_change < self.tol and run_iteration > self.min_iter:\n",
    "                converged = True\n",
    "            gaussian_parameters = new_gaussian_parameters\n",
    "            if self.verbose:\n",
    "                print(\"Iteration #{0}, change in parameters {1}\".format(run_iteration, total_change))\n",
    "            run_iteration += 1\n",
    "            \n",
    "        self.fitted_parameters = gaussian_parameters\n",
    "        self.fitted = True\n",
    "        \n",
    "        if self.verbose:\n",
    "            print(\"Finished in {0} iterations\".format(run_iteration - 1))\n",
    "            \n",
    "    def predict(self, X):\n",
    "        \"\"\" Predict's the probability density the input observations by marginalising\n",
    "        out the joint probability distributions.\n",
    "        \n",
    "        Parameters\n",
    "        ----------\n",
    "        X : numpy array, of shape (n_samples, n_features)\n",
    "            Testing vector, where n_samples is the number of samples/pixels and\n",
    "            n_features is the number of features.\n",
    "        \n",
    "        Returns\n",
    "        ----------\n",
    "        y : numpy array, of shape (n_samples)\n",
    "            Estimated probability density from the mixture of gaussian models.\n",
    "        \"\"\"\n",
    "        assert self.fitted, \"Model is not yet fitted.\"\n",
    "        n_samples = X.shape[0]\n",
    "        gaussian_pdfs = np.zeros((n_samples, self.k_size))\n",
    "        for k in range(self.k_size):\n",
    "            gaussian_pdfs[:, k] = self.fitted_parameters[k].lmbda *\\\n",
    "            multivariate_normal.pdf(X, self.fitted_parameters[k].mu, self.fitted_parameters[k].cov)\n",
    "        # Return marginalised distribution\n",
    "        return np.sum(gaussian_pdfs, axis=1)"
   ]
  },
  {
   "cell_type": "markdown",
   "metadata": {},
   "source": [
    "**Background model**"
   ]
  },
  {
   "cell_type": "code",
   "execution_count": 11,
   "metadata": {},
   "outputs": [
    {
     "name": "stdout",
     "output_type": "stream",
     "text": [
      "Iteration #1, change in parameters 79.43740975072042\n",
      "Iteration #2, change in parameters 0.012996177606300752\n",
      "Iteration #3, change in parameters 0.05620474937803228\n",
      "Iteration #4, change in parameters 0.15217696315190313\n",
      "Iteration #5, change in parameters 0.16459611788670195\n",
      "Iteration #6, change in parameters 0.1801253563594018\n",
      "Iteration #7, change in parameters 0.17338621119328285\n",
      "Iteration #8, change in parameters 0.16127863504672205\n",
      "Iteration #9, change in parameters 0.18812908819012855\n",
      "Iteration #10, change in parameters 0.1918986604731479\n",
      "Iteration #11, change in parameters 0.16152831159366782\n",
      "Iteration #12, change in parameters 0.14854045908629326\n",
      "Iteration #13, change in parameters 0.12878702603274825\n",
      "Iteration #14, change in parameters 0.10796152600020921\n",
      "Iteration #15, change in parameters 0.08238704157607385\n",
      "Iteration #16, change in parameters 0.0595499222562206\n",
      "Iteration #17, change in parameters 0.050130647123780125\n",
      "Iteration #18, change in parameters 0.04436345150232728\n",
      "Iteration #19, change in parameters 0.04045598350277784\n",
      "Iteration #20, change in parameters 0.03921934349134461\n",
      "Iteration #21, change in parameters 0.04225088121104163\n",
      "Iteration #22, change in parameters 0.04513150069755301\n",
      "Iteration #23, change in parameters 0.030877525122151264\n",
      "Iteration #24, change in parameters 0.02451158597988397\n",
      "Iteration #25, change in parameters 0.023613428452386877\n",
      "Iteration #26, change in parameters 0.019503341260520342\n",
      "Iteration #27, change in parameters 0.015038064686111092\n",
      "Iteration #28, change in parameters 0.01128552470883976\n",
      "Iteration #29, change in parameters 0.008328619317375817\n",
      "Iteration #30, change in parameters 0.0060788117151650365\n",
      "Iteration #31, change in parameters 0.004425028136590352\n",
      "Iteration #32, change in parameters 0.0032312690793125437\n",
      "Iteration #33, change in parameters 0.0023924982052138492\n",
      "Iteration #34, change in parameters 0.001785954371456925\n",
      "Iteration #35, change in parameters 0.0013440235922544692\n",
      "Iteration #36, change in parameters 0.0010198464438408118\n",
      "Iteration #37, change in parameters 0.0007801482360644345\n",
      "Finished in 37 iterations\n"
     ]
    }
   ],
   "source": [
    "bg_gmm = GaussianMixtureModel()\n",
    "bg_gmm.fit(train_bg_data.T)"
   ]
  },
  {
   "cell_type": "markdown",
   "metadata": {},
   "source": [
    "**Foreground model**"
   ]
  },
  {
   "cell_type": "code",
   "execution_count": 12,
   "metadata": {},
   "outputs": [
    {
     "name": "stdout",
     "output_type": "stream",
     "text": [
      "Iteration #1, change in parameters 80.03211249178665\n",
      "Iteration #2, change in parameters 0.03378099767418124\n",
      "Iteration #3, change in parameters 0.07936074909766108\n",
      "Iteration #4, change in parameters 0.21321926222194243\n",
      "Iteration #5, change in parameters 0.3985531762798284\n",
      "Iteration #6, change in parameters 0.47948086524062483\n",
      "Iteration #7, change in parameters 0.3783289749983527\n",
      "Iteration #8, change in parameters 0.2794349137987201\n",
      "Iteration #9, change in parameters 0.2810133008285232\n",
      "Iteration #10, change in parameters 0.3432099936386448\n",
      "Iteration #11, change in parameters 0.3853426560621266\n",
      "Iteration #12, change in parameters 0.3160843215610648\n",
      "Iteration #13, change in parameters 0.17995805608688792\n",
      "Iteration #14, change in parameters 0.14105029356580798\n",
      "Iteration #15, change in parameters 0.12481403692095244\n",
      "Iteration #16, change in parameters 0.11260745375752639\n",
      "Iteration #17, change in parameters 0.10308677849261977\n",
      "Iteration #18, change in parameters 0.09628679182602906\n",
      "Iteration #19, change in parameters 0.09017210324079891\n",
      "Iteration #20, change in parameters 0.08425394804444208\n",
      "Iteration #21, change in parameters 0.07817840151639496\n",
      "Iteration #22, change in parameters 0.07184228583893187\n",
      "Iteration #23, change in parameters 0.06522383391631603\n",
      "Iteration #24, change in parameters 0.05808204202634088\n",
      "Iteration #25, change in parameters 0.05054030349348687\n",
      "Iteration #26, change in parameters 0.043119395075037995\n",
      "Iteration #27, change in parameters 0.036228337286009916\n",
      "Iteration #28, change in parameters 0.03025215785687432\n",
      "Iteration #29, change in parameters 0.02528106751986077\n",
      "Iteration #30, change in parameters 0.021173001066641682\n",
      "Iteration #31, change in parameters 0.017792893996548587\n",
      "Iteration #32, change in parameters 0.014926258180491401\n",
      "Iteration #33, change in parameters 0.012485741931145974\n",
      "Iteration #34, change in parameters 0.01043113803889918\n",
      "Iteration #35, change in parameters 0.008719046261628687\n",
      "Iteration #36, change in parameters 0.007300638215990642\n",
      "Iteration #37, change in parameters 0.006126282703606314\n",
      "Iteration #38, change in parameters 0.0051511108134122095\n",
      "Iteration #39, change in parameters 0.004338120714050568\n",
      "Iteration #40, change in parameters 0.0036579610492355587\n",
      "Iteration #41, change in parameters 0.003087375616531636\n",
      "Iteration #42, change in parameters 0.002607735129130816\n",
      "Iteration #43, change in parameters 0.002203944150768061\n",
      "Iteration #44, change in parameters 0.0018636517093872339\n",
      "Iteration #45, change in parameters 0.0015766719286707663\n",
      "Iteration #46, change in parameters 0.0013345495328648612\n",
      "Iteration #47, change in parameters 0.0011302257451215817\n",
      "Iteration #48, change in parameters 0.0009577744873276903\n",
      "Finished in 48 iterations\n"
     ]
    }
   ],
   "source": [
    "fg_gmm = GaussianMixtureModel()\n",
    "fg_gmm.fit(train_fg_data.T)"
   ]
  },
  {
   "cell_type": "markdown",
   "metadata": {},
   "source": [
    "**Posterior probabilities** <br>\n",
    "\n",
    "$P(class=fg\\  | \\ \\vec{x}) =  \\frac{\\lambda Norm_\\vec{x} [\\vec{\\mu}_{fg} , \\Sigma_{fg}]}\n",
    "                                   {\\lambda Norm_\\vec{x} [\\vec{\\mu}_{fg} , \\Sigma_{fg}] \\ + \\ (1 - \\lambda)\n",
    "                                   Norm_\\vec{x} [\\vec{\\mu}_{bg} , \\Sigma_{bg}]   }        $"
   ]
  },
  {
   "cell_type": "code",
   "execution_count": 18,
   "metadata": {},
   "outputs": [],
   "source": [
    "def post_processing(fg_bg_pred, kernel_dims=5):\n",
    "    \"\"\"Apply morhpolical transformations of closing\n",
    "    and opening\"\"\"\n",
    "    kernel = np.ones((kernel_dims, kernel_dims),np.uint8)\n",
    "    fg_bg_pred = cv2.morphologyEx(fg_bg_pred, cv2.MORPH_OPEN, kernel)\n",
    "    fg_bg_pred = cv2.morphologyEx(fg_bg_pred, cv2.MORPH_CLOSE, kernel)\n",
    "    return fg_bg_pred\n",
    "\n",
    "def predict_foreground(X, bg_gmm, fg_gmm, lmbda):\n",
    "    \"\"\"Use Bayes' rule to predict the posterior probability of\n",
    "    of pixels belonging to the foreground.\"\"\"\n",
    "    fg_dist = fg_gmm.predict(X)\n",
    "    bg_dist = bg_gmm.predict(X)\n",
    "    y = (lmbda * fg_dist) / ((lmbda * fg_dist) + ((1 - lmbda) * bg_dist))\n",
    "    return post_processing((y >= 0.5).astype(np.float32))\n",
    "\n",
    "def validate_predictions(validation_data, validation_masks, bg_gmm, fg_gmm, lmbda, plot=True):\n",
    "    \"\"\"Predictions on validation set, and average results\"\"\"\n",
    "    predict_count = 0\n",
    "    total_score = 0\n",
    "    for data, mask in zip(validation_data, validation_masks):\n",
    "        predict_count += 1\n",
    "        y = predict_foreground(data.T, bg_gmm, fg_gmm, lmbda=lmbda)\n",
    "        score = accuracy_score(y + 1, mask.flatten().round() + 1)\n",
    "        print(\"Prediction #{0}, accuracy:{1}%\".format(predict_count, round(score *100, 2)) )\n",
    "        total_score += score\n",
    "        if plot:\n",
    "            show_image(y.reshape(NEW_SIZE[::-1]), cmap='gray')\n",
    "            plt.show()\n",
    "    print(\"Average accuracy:{0}%\".format(round(total_score/predict_count *100, 2)) )"
   ]
  },
  {
   "cell_type": "code",
   "execution_count": 14,
   "metadata": {
    "scrolled": false
   },
   "outputs": [
    {
     "name": "stdout",
     "output_type": "stream",
     "text": [
      "Prediction #1, accuracy:97.36%\n"
     ]
    },
    {
     "data": {
      "image/png": "[encoded data removed]",
      "text/plain": [
       "<Figure size 432x288 with 1 Axes>"
      ]
     },
     "metadata": {},
     "output_type": "display_data"
    },
    {
     "name": "stdout",
     "output_type": "stream",
     "text": [
      "Prediction #2, accuracy:96.47%\n"
     ]
    },
    {
     "data": {
      "image/png": "[encoded data removed]",
      "text/plain": [
       "<Figure size 432x288 with 1 Axes>"
      ]
     },
     "metadata": {},
     "output_type": "display_data"
    },
    {
     "name": "stdout",
     "output_type": "stream",
     "text": [
      "Prediction #3, accuracy:99.02%\n"
     ]
    },
    {
     "data": {
      "image/png": "[encoded data removed]",
      "text/plain": [
       "<Figure size 432x288 with 1 Axes>"
      ]
     },
     "metadata": {},
     "output_type": "display_data"
    },
    {
     "name": "stdout",
     "output_type": "stream",
     "text": [
      "Prediction #4, accuracy:88.12%\n"
     ]
    },
    {
     "data": {
      "image/png": "[encoded data removed]",
      "text/plain": [
       "<Figure size 432x288 with 1 Axes>"
      ]
     },
     "metadata": {},
     "output_type": "display_data"
    },
    {
     "name": "stdout",
     "output_type": "stream",
     "text": [
      "Prediction #5, accuracy:99.46%\n"
     ]
    },
    {
     "data": {
      "image/png": "[encoded data removed]",
      "text/plain": [
       "<Figure size 432x288 with 1 Axes>"
      ]
     },
     "metadata": {},
     "output_type": "display_data"
    },
    {
     "name": "stdout",
     "output_type": "stream",
     "text": [
      "Prediction #6, accuracy:99.06%\n"
     ]
    },
    {
     "data": {
      "image/png": "[encoded data removed]",
      "text/plain": [
       "<Figure size 432x288 with 1 Axes>"
      ]
     },
     "metadata": {},
     "output_type": "display_data"
    },
    {
     "name": "stdout",
     "output_type": "stream",
     "text": [
      "Prediction #7, accuracy:98.23%\n"
     ]
    },
    {
     "data": {
      "image/png": "[encoded data removed]",
      "text/plain": [
       "<Figure size 432x288 with 1 Axes>"
      ]
     },
     "metadata": {},
     "output_type": "display_data"
    },
    {
     "name": "stdout",
     "output_type": "stream",
     "text": [
      "Average accuracy:96.82%\n"
     ]
    }
   ],
   "source": [
    "validate_predictions(validate_data, validate_masks, bg_gmm, fg_gmm, lmbda=0.4)"
   ]
  },
  {
   "cell_type": "markdown",
   "metadata": {},
   "source": [
    "## 6-Fold Cross-Validation\n",
    "Since the data set is limited, cross-validation might be used to evaluate the skill of the GMM for the unseen test data. A 6-Fold method is used, which splits the data into 6 groups of 8 puzzle pieces each. The method is popular since it results in a less biased estimate of the model's skill than other methods. The procedure used follows:\n",
    "- Shuffle the test set data randomly\n",
    "- Split the data set randomly into the 6 groups (with 8 image data each.)\n",
    "- Then for each of these groups\n",
    " - Assign the group as a test set\n",
    " - Use all the remaining groups as the training set\n",
    " - Fit the model on the training set and evaluate it using the test set\n",
    " - Compute the score and discard the model\n",
    "- Model performance is then the mean value of all scores\n",
    " "
   ]
  },
  {
   "cell_type": "code",
   "execution_count": 15,
   "metadata": {},
   "outputs": [],
   "source": [
    "def validate_predictions_cv(validation_data, validation_masks, bg_gmm, fg_gmm, lmbda, plot=True):\n",
    "    predict_count = 0\n",
    "    total_score = 0\n",
    "    for data, mask in zip(validation_data, validation_masks):\n",
    "        predict_count += 1\n",
    "        y = predict_foreground(data.T, bg_gmm, fg_gmm, lmbda=lmbda)\n",
    "        score = accuracy_score(y + 1, mask.flatten().round() + 1)\n",
    "        print(\"Prediction #{0}, accuracy:{1}%\".format(predict_count, round(score *100, 2)) )\n",
    "        total_score += score\n",
    "        if plot:\n",
    "            show_image(y.reshape(NEW_SIZE[::-1]), cmap='gray')\n",
    "            plt.show()\n",
    "    print(\"Average accuracy:{0}%\".format(round(total_score/predict_count *100, 2)) )\n",
    "    \n",
    "    return  round(total_score/predict_count *100, 2)"
   ]
  },
  {
   "cell_type": "code",
   "execution_count": 16,
   "metadata": {},
   "outputs": [],
   "source": [
    "def cross_val_manager(folds = 6, k_foreground=3, k_background=3, lmbda=0.1):\n",
    "    #initialize accuracy list\n",
    "    acc = []\n",
    "    \n",
    "    # copy the data\n",
    "    data_imgs = DATA_IMGS.copy()\n",
    "    data_msks = DATA_MSKS.copy()\n",
    "    \n",
    "    #create groups\n",
    "    #create a random array containing the index of each img number in the data set\n",
    "    #each row of this array will be a group\n",
    "    img_indices = np.random.choice(np.arange(0, data_imgs.shape[0]), replace=False, \n",
    "                                   size=(folds, int(data_imgs.shape[0]/folds)))\n",
    "    \n",
    "    \n",
    "    #main loop that selects one group of images as the test set and the remainder as the training sets\n",
    "    for i in tqdm(range(img_indices.shape[0])):\n",
    "        print('Fold: {}'.format(i))\n",
    "        training_indices = []\n",
    "        testing_indices = img_indices[i]\n",
    "        for row in range(img_indices.shape[0]):\n",
    "\n",
    "            if row != i:\n",
    "                #print('row: {}'.format(row))\n",
    "                training_indices.append(list(img_indices[row]))\n",
    "        training_indices = np.asarray(training_indices)\n",
    "        #print('\\ntest: {}'. format(testing_indices))\n",
    "        #print('\\ntrain: {}'.format(training_indices))\n",
    "\n",
    "        #flatten the array\n",
    "        train_indices = training_indices.flatten()\n",
    "        \n",
    "        #get training imgs and masks\n",
    "        train_imgs = np.array([data_imgs[i] for i in train_indices])\n",
    "        train_msks = np.array([data_msks[j] for j in train_indices])\n",
    "        \n",
    "        #extract features for training data\n",
    "        x_train = np.array([data_utils.extract_features(img) for img in train_imgs])\n",
    "\n",
    "        #extract bg and fg pixels\n",
    "        x_train_bg = [data_utils.apply_mask(features, mask, invert_mask=True) \n",
    "                      for features, mask in zip(x_train, train_msks)]\n",
    "        x_train_fg = [data_utils.apply_mask(features, mask, invert_mask=False) \n",
    "                      for features, mask in zip(x_train, train_masks)]\n",
    "        x_train_bg = np.concatenate(x_train_bg, axis=1)\n",
    "        x_train_fg = np.concatenate(x_train_fg, axis=1)\n",
    "\n",
    "        #train bg_gmm\n",
    "        print('\\nTraining bg_gmm:')\n",
    "        print('')\n",
    "        bg_gmm_cv = GaussianMixtureModel(k_size=k_background)\n",
    "        bg_gmm_cv.fit(x_train_bg.T)\n",
    "\n",
    "        #train fg_gmm\n",
    "        print('\\nTraining fg_gmm:')\n",
    "        print('')\n",
    "        fg_gmm_cv = GaussianMixtureModel(k_size=k_foreground, tol= 1e-2)\n",
    "        fg_gmm_cv.fit(x_train_fg.T)\n",
    "        \n",
    "        #get test imgs and masks\n",
    "        test_imgs = np.array([data_imgs[i] for i in testing_indices])\n",
    "        test_msks = np.array([data_msks[j] for j in testing_indices])\n",
    "        \n",
    "        #extract features for test set\n",
    "        x_test = np.array([data_utils.extract_features(test_img) for test_img in test_imgs])\n",
    "        \n",
    "        #get accuracy score for test set\n",
    "        test_acc = validate_predictions_cv(x_test, test_msks, bg_gmm_cv, fg_gmm_cv, lmbda = lmbda, plot=True)\n",
    "        \n",
    "        #append accuracy to acc list\n",
    "        acc.append(test_acc)\n",
    "        \n",
    "    print('\\nThe accuracy scores achieved for each fold:')\n",
    "    print(acc)\n",
    "    \n",
    "    final_acc = sum(acc)/len(acc)\n",
    "    print('\\nThe final accuracy of the system: {}'.format(final_acc))"
   ]
  },
  {
   "cell_type": "code",
   "execution_count": 17,
   "metadata": {
    "scrolled": false
   },
   "outputs": [
    {
     "name": "stderr",
     "output_type": "stream",
     "text": [
      "\r",
      "  0%|                                                                                            | 0/6 [00:00<?, ?it/s]"
     ]
    },
    {
     "name": "stdout",
     "output_type": "stream",
     "text": [
      "Fold: 0\n",
      "\n",
      "Training bg_gmm:\n",
      "\n",
      "Iteration #1, change in parameters 48.751519321813724\n",
      "Iteration #2, change in parameters 0.01402147227167682\n",
      "Iteration #3, change in parameters 0.05215188919494142\n",
      "Iteration #4, change in parameters 0.1228613892048595\n",
      "Iteration #5, change in parameters 0.1568809627936656\n",
      "Iteration #6, change in parameters 0.14844645003022539\n",
      "Iteration #7, change in parameters 0.11399635775410473\n",
      "Iteration #8, change in parameters 0.09920899295820201\n",
      "Iteration #9, change in parameters 0.09452740909563562\n",
      "Iteration #10, change in parameters 0.07699883524442769\n",
      "Iteration #11, change in parameters 0.07256813755748878\n",
      "Iteration #12, change in parameters 0.06327181869610372\n",
      "Iteration #13, change in parameters 0.04657673980937067\n",
      "Iteration #14, change in parameters 0.0329475127288224\n",
      "Iteration #15, change in parameters 0.02524706175506544\n",
      "Iteration #16, change in parameters 0.021466141978465733\n",
      "Iteration #17, change in parameters 0.020223015819489397\n",
      "Iteration #18, change in parameters 0.0202134026281303\n",
      "Iteration #19, change in parameters 0.019860493253573454\n",
      "Iteration #20, change in parameters 0.019872740553601095\n",
      "Iteration #21, change in parameters 0.019442654688418867\n",
      "Iteration #22, change in parameters 0.018655633958503177\n",
      "Iteration #23, change in parameters 0.017649618148705096\n",
      "Iteration #24, change in parameters 0.016499126831805752\n",
      "Iteration #25, change in parameters 0.015245312099464914\n",
      "Iteration #26, change in parameters 0.01392167234135099\n",
      "Iteration #27, change in parameters 0.01256634733094374\n",
      "Iteration #28, change in parameters 0.011379925249457568\n",
      "Iteration #29, change in parameters 0.010197293180771578\n",
      "Iteration #30, change in parameters 0.009052579457625373\n",
      "Iteration #31, change in parameters 0.007982179013502582\n",
      "Iteration #32, change in parameters 0.007019708438751797\n",
      "Iteration #33, change in parameters 0.006191679070045697\n",
      "Iteration #34, change in parameters 0.005487525654241718\n",
      "Iteration #35, change in parameters 0.004878451153637535\n",
      "Iteration #36, change in parameters 0.004347005038501731\n",
      "Iteration #37, change in parameters 0.0038837075498150235\n",
      "Iteration #38, change in parameters 0.003483052347067939\n",
      "Iteration #39, change in parameters 0.0031424768959533453\n",
      "Iteration #40, change in parameters 0.002913175698225675\n",
      "Iteration #41, change in parameters 0.0027414093292759665\n",
      "Iteration #42, change in parameters 0.002670579041850654\n",
      "Iteration #43, change in parameters 0.0027317823674144264\n",
      "Iteration #44, change in parameters 0.0028490220898824336\n",
      "Iteration #45, change in parameters 0.0030237282474631874\n",
      "Iteration #46, change in parameters 0.003274705292430464\n",
      "Iteration #47, change in parameters 0.003636161712847332\n",
      "Iteration #48, change in parameters 0.004167524574215359\n",
      "Iteration #49, change in parameters 0.004971126443022283\n",
      "Iteration #50, change in parameters 0.006217671134688757\n",
      "Iteration #51, change in parameters 0.008162656273497578\n",
      "Iteration #52, change in parameters 0.011080050008550998\n",
      "Iteration #53, change in parameters 0.01479765330408094\n",
      "Iteration #54, change in parameters 0.017866997306433357\n",
      "Iteration #55, change in parameters 0.02037054530424765\n",
      "Iteration #56, change in parameters 0.023595871415282174\n",
      "Iteration #57, change in parameters 0.02686694318606981\n",
      "Iteration #58, change in parameters 0.029302520672689278\n",
      "Iteration #59, change in parameters 0.028085173761463838\n",
      "Iteration #60, change in parameters 0.021830274056361443\n",
      "Finished in 60 iterations\n",
      "\n",
      "Training fg_gmm:\n",
      "\n",
      "Iteration #1, change in parameters 49.12152419717788\n",
      "Iteration #2, change in parameters 0.013100314980414552\n",
      "Iteration #3, change in parameters 0.027164688553088692\n",
      "Iteration #4, change in parameters 0.09187668398797896\n",
      "Iteration #5, change in parameters 0.25906437593233145\n",
      "Iteration #6, change in parameters 0.36064641412144527\n",
      "Iteration #7, change in parameters 0.23883278962863394\n",
      "Iteration #8, change in parameters 0.16751162002148173\n",
      "Iteration #9, change in parameters 0.14625545069693782\n",
      "Iteration #10, change in parameters 0.1135124665319748\n",
      "Iteration #11, change in parameters 0.0956701099264343\n",
      "Iteration #12, change in parameters 0.08493777476762082\n",
      "Iteration #13, change in parameters 0.07616351175653827\n",
      "Iteration #14, change in parameters 0.06313655280815955\n",
      "Iteration #15, change in parameters 0.049220755683046645\n",
      "Iteration #16, change in parameters 0.0376418486793128\n",
      "Iteration #17, change in parameters 0.02896387703361285\n",
      "Iteration #18, change in parameters 0.02299256376626207\n",
      "Iteration #19, change in parameters 0.019068753119100196\n",
      "Iteration #20, change in parameters 0.01658067939420369\n",
      "Iteration #21, change in parameters 0.01506246401877102\n",
      "Iteration #22, change in parameters 0.014173571441060965\n",
      "Iteration #23, change in parameters 0.013670379394359415\n",
      "Iteration #24, change in parameters 0.013383920909135767\n",
      "Iteration #25, change in parameters 0.013200369956327816\n",
      "Iteration #26, change in parameters 0.013043565014820444\n",
      "Iteration #27, change in parameters 0.012863835388941572\n",
      "Iteration #28, change in parameters 0.012635898161036776\n",
      "Iteration #29, change in parameters 0.012347918465480796\n",
      "Iteration #30, change in parameters 0.011989723544636028\n",
      "Iteration #31, change in parameters 0.01156552468188513\n",
      "Iteration #32, change in parameters 0.011104536208012345\n",
      "Iteration #33, change in parameters 0.010649094577648144\n",
      "Iteration #34, change in parameters 0.010235549196968891\n",
      "Iteration #35, change in parameters 0.009883949280550412\n",
      "Finished in 35 iterations\n",
      "Prediction #1, accuracy:99.66%\n"
     ]
    },
    {
     "data": {
      "image/png": "[encoded data removed]",
      "text/plain": [
       "<Figure size 432x288 with 1 Axes>"
      ]
     },
     "metadata": {},
     "output_type": "display_data"
    },
    {
     "name": "stdout",
     "output_type": "stream",
     "text": [
      "Prediction #2, accuracy:94.59%\n"
     ]
    },
    {
     "data": {
      "image/png": "[encoded data removed]",
      "text/plain": [
       "<Figure size 432x288 with 1 Axes>"
      ]
     },
     "metadata": {},
     "output_type": "display_data"
    },
    {
     "name": "stdout",
     "output_type": "stream",
     "text": [
      "Prediction #3, accuracy:90.89%\n"
     ]
    },
    {
     "data": {
      "image/png": "[encoded data removed]",
      "text/plain": [
       "<Figure size 432x288 with 1 Axes>"
      ]
     },
     "metadata": {},
     "output_type": "display_data"
    },
    {
     "name": "stdout",
     "output_type": "stream",
     "text": [
      "Prediction #4, accuracy:97.66%\n"
     ]
    },
    {
     "data": {
      "image/png": "[encoded data removed]",
      "text/plain": [
       "<Figure size 432x288 with 1 Axes>"
      ]
     },
     "metadata": {},
     "output_type": "display_data"
    },
    {
     "name": "stdout",
     "output_type": "stream",
     "text": [
      "Prediction #5, accuracy:96.88%\n"
     ]
    },
    {
     "data": {
      "image/png": "[encoded data removed]",
      "text/plain": [
       "<Figure size 432x288 with 1 Axes>"
      ]
     },
     "metadata": {},
     "output_type": "display_data"
    },
    {
     "name": "stdout",
     "output_type": "stream",
     "text": [
      "Prediction #6, accuracy:98.78%\n"
     ]
    },
    {
     "data": {
      "image/png": "[encoded data removed]",
      "text/plain": [
       "<Figure size 432x288 with 1 Axes>"
      ]
     },
     "metadata": {},
     "output_type": "display_data"
    },
    {
     "name": "stdout",
     "output_type": "stream",
     "text": [
      "Prediction #7, accuracy:98.64%\n"
     ]
    },
    {
     "data": {
      "image/png": "[encoded data removed]",
      "text/plain": [
       "<Figure size 432x288 with 1 Axes>"
      ]
     },
     "metadata": {},
     "output_type": "display_data"
    },
    {
     "name": "stdout",
     "output_type": "stream",
     "text": [
      "Prediction #8, accuracy:97.94%\n"
     ]
    },
    {
     "data": {
      "image/png": "[encoded data removed]",
      "text/plain": [
       "<Figure size 432x288 with 1 Axes>"
      ]
     },
     "metadata": {},
     "output_type": "display_data"
    },
    {
     "name": "stderr",
     "output_type": "stream",
     "text": [
      "\r",
      " 17%|█████████████▎                                                                  | 1/6 [26:45<2:13:47, 1605.48s/it]"
     ]
    },
    {
     "name": "stdout",
     "output_type": "stream",
     "text": [
      "Average accuracy:96.88%\n",
      "Fold: 1\n",
      "\n",
      "Training bg_gmm:\n",
      "\n",
      "Iteration #1, change in parameters 49.21211586110143\n",
      "Iteration #2, change in parameters 0.013533835784904778\n",
      "Iteration #3, change in parameters 0.0494544532744908\n",
      "Iteration #4, change in parameters 0.11331528953107946\n",
      "Iteration #5, change in parameters 0.1476951014332219\n",
      "Iteration #6, change in parameters 0.14007777153593243\n",
      "Iteration #7, change in parameters 0.10201363750061596\n",
      "Iteration #8, change in parameters 0.0857178886769897\n",
      "Iteration #9, change in parameters 0.09872281501473411\n",
      "Iteration #10, change in parameters 0.0961829920332297\n",
      "Iteration #11, change in parameters 0.0687559637786748\n",
      "Iteration #12, change in parameters 0.038405249196826904\n",
      "Iteration #13, change in parameters 0.027674757437788605\n",
      "Iteration #14, change in parameters 0.0327132722362148\n",
      "Iteration #15, change in parameters 0.036802598479569834\n",
      "Iteration #16, change in parameters 0.03939547986511804\n",
      "Iteration #17, change in parameters 0.04112271303480507\n",
      "Iteration #18, change in parameters 0.041688462865238085\n",
      "Iteration #19, change in parameters 0.04049544124720446\n",
      "Iteration #20, change in parameters 0.03742794829440534\n",
      "Iteration #21, change in parameters 0.033211829473259374\n",
      "Iteration #22, change in parameters 0.028750745354736287\n",
      "Iteration #23, change in parameters 0.024646239359587686\n",
      "Iteration #24, change in parameters 0.021140948399224237\n",
      "Iteration #25, change in parameters 0.01826469332309906\n",
      "Iteration #26, change in parameters 0.015952698246463275\n",
      "Iteration #27, change in parameters 0.014116629486442628\n",
      "Iteration #28, change in parameters 0.012664108873359798\n",
      "Iteration #29, change in parameters 0.01152332150946895\n",
      "Iteration #30, change in parameters 0.010638752441809708\n",
      "Iteration #31, change in parameters 0.009997293462282009\n",
      "Iteration #32, change in parameters 0.009727408081635835\n",
      "Iteration #33, change in parameters 0.009524368395603175\n",
      "Iteration #34, change in parameters 0.009364598835957558\n",
      "Iteration #35, change in parameters 0.009233827012373658\n",
      "Iteration #36, change in parameters 0.009127429239750448\n",
      "Iteration #37, change in parameters 0.009049101993577913\n",
      "Iteration #38, change in parameters 0.009008740431221384\n",
      "Iteration #39, change in parameters 0.00902051663017871\n",
      "Iteration #40, change in parameters 0.009101830538741107\n",
      "Iteration #41, change in parameters 0.009273413024632944\n",
      "Iteration #42, change in parameters 0.009560546750182024\n",
      "Iteration #43, change in parameters 0.009995073379412463\n",
      "Iteration #44, change in parameters 0.010617455583397613\n",
      "Iteration #45, change in parameters 0.011477237145125925\n",
      "Iteration #46, change in parameters 0.012628178310982667\n",
      "Iteration #47, change in parameters 0.014110850801561334\n",
      "Iteration #48, change in parameters 0.01607138561870381\n",
      "Iteration #49, change in parameters 0.01816748447119332\n",
      "Iteration #50, change in parameters 0.01989388157307581\n",
      "Iteration #51, change in parameters 0.020670365023910668\n",
      "Iteration #52, change in parameters 0.02021618183035919\n",
      "Iteration #53, change in parameters 0.018627830038833587\n",
      "Iteration #54, change in parameters 0.01627345992801158\n",
      "Iteration #55, change in parameters 0.013918384779684531\n",
      "Iteration #56, change in parameters 0.0118024818302813\n",
      "Iteration #57, change in parameters 0.00994724577002041\n",
      "Iteration #58, change in parameters 0.008407529461370517\n",
      "Iteration #59, change in parameters 0.007194215651513338\n",
      "Iteration #60, change in parameters 0.006297461605767737\n",
      "Finished in 60 iterations\n",
      "\n",
      "Training fg_gmm:\n",
      "\n",
      "Iteration #1, change in parameters 47.99608931694761\n",
      "Iteration #2, change in parameters 0.011336780390645312\n",
      "Iteration #3, change in parameters 0.02029496502189365\n",
      "Iteration #4, change in parameters 0.07223616944858632\n",
      "Iteration #5, change in parameters 0.19143338394787346\n",
      "Iteration #6, change in parameters 0.3503001655374409\n",
      "Iteration #7, change in parameters 0.2795432248632743\n",
      "Iteration #8, change in parameters 0.10415219871119683\n",
      "Iteration #9, change in parameters 0.08467436689940207\n",
      "Iteration #10, change in parameters 0.0842588202728691\n",
      "Iteration #11, change in parameters 0.07920733887576244\n",
      "Iteration #12, change in parameters 0.07290449114328518\n",
      "Iteration #13, change in parameters 0.06632559137351317\n",
      "Iteration #14, change in parameters 0.05926741506224632\n",
      "Iteration #15, change in parameters 0.05137823993167589\n",
      "Iteration #16, change in parameters 0.043021120857869605\n",
      "Iteration #17, change in parameters 0.0344153409170385\n",
      "Iteration #18, change in parameters 0.026634056907282475\n",
      "Iteration #19, change in parameters 0.0204597103448015\n",
      "Iteration #20, change in parameters 0.016291228430096272\n",
      "Iteration #21, change in parameters 0.013699879017588087\n",
      "Iteration #22, change in parameters 0.012113938306614192\n",
      "Iteration #23, change in parameters 0.011288838993530587\n",
      "Iteration #24, change in parameters 0.010780356858609948\n",
      "Iteration #25, change in parameters 0.010428267707990714\n",
      "Iteration #26, change in parameters 0.010173167451122416\n",
      "Iteration #27, change in parameters 0.009940387134914196\n",
      "Finished in 27 iterations\n",
      "Prediction #1, accuracy:87.65%\n"
     ]
    },
    {
     "data": {
      "image/png": "[encoded data removed]",
      "text/plain": [
       "<Figure size 432x288 with 1 Axes>"
      ]
     },
     "metadata": {},
     "output_type": "display_data"
    },
    {
     "name": "stdout",
     "output_type": "stream",
     "text": [
      "Prediction #2, accuracy:97.68%\n"
     ]
    },
    {
     "data": {
      "image/png": "[encoded data removed]",
      "text/plain": [
       "<Figure size 432x288 with 1 Axes>"
      ]
     },
     "metadata": {},
     "output_type": "display_data"
    },
    {
     "name": "stdout",
     "output_type": "stream",
     "text": [
      "Prediction #3, accuracy:96.95%\n"
     ]
    },
    {
     "data": {
      "image/png": "[encoded data removed]",
      "text/plain": [
       "<Figure size 432x288 with 1 Axes>"
      ]
     },
     "metadata": {},
     "output_type": "display_data"
    },
    {
     "name": "stdout",
     "output_type": "stream",
     "text": [
      "Prediction #4, accuracy:98.79%\n"
     ]
    },
    {
     "data": {
      "image/png": "[encoded data removed]",
      "text/plain": [
       "<Figure size 432x288 with 1 Axes>"
      ]
     },
     "metadata": {},
     "output_type": "display_data"
    },
    {
     "name": "stdout",
     "output_type": "stream",
     "text": [
      "Prediction #5, accuracy:98.76%\n"
     ]
    },
    {
     "data": {
      "image/png": "[encoded data removed]",
      "text/plain": [
       "<Figure size 432x288 with 1 Axes>"
      ]
     },
     "metadata": {},
     "output_type": "display_data"
    },
    {
     "name": "stdout",
     "output_type": "stream",
     "text": [
      "Prediction #6, accuracy:97.5%\n"
     ]
    },
    {
     "data": {
      "image/png": "[encoded data removed]",
      "text/plain": [
       "<Figure size 432x288 with 1 Axes>"
      ]
     },
     "metadata": {},
     "output_type": "display_data"
    },
    {
     "name": "stdout",
     "output_type": "stream",
     "text": [
      "Prediction #7, accuracy:97.59%\n"
     ]
    },
    {
     "data": {
      "image/png": "[encoded data removed]",
      "text/plain": [
       "<Figure size 432x288 with 1 Axes>"
      ]
     },
     "metadata": {},
     "output_type": "display_data"
    },
    {
     "name": "stdout",
     "output_type": "stream",
     "text": [
      "Prediction #8, accuracy:95.8%\n"
     ]
    },
    {
     "data": {
      "image/png": "[encoded data removed]",
      "text/plain": [
       "<Figure size 432x288 with 1 Axes>"
      ]
     },
     "metadata": {},
     "output_type": "display_data"
    },
    {
     "name": "stderr",
     "output_type": "stream",
     "text": [
      "\r",
      " 33%|██████████████████████████▋                                                     | 2/6 [52:07<1:45:22, 1580.54s/it]"
     ]
    },
    {
     "name": "stdout",
     "output_type": "stream",
     "text": [
      "Average accuracy:96.34%\n",
      "Fold: 2\n",
      "\n",
      "Training bg_gmm:\n",
      "\n",
      "Iteration #1, change in parameters 48.67151968592083\n",
      "Iteration #2, change in parameters 0.009871012672012604\n",
      "Iteration #3, change in parameters 0.03210991590735214\n",
      "Iteration #4, change in parameters 0.09925804912861193\n",
      "Iteration #5, change in parameters 0.1667507796730459\n",
      "Iteration #6, change in parameters 0.15770130346900216\n",
      "Iteration #7, change in parameters 0.12119722876109412\n",
      "Iteration #8, change in parameters 0.10207737129597705\n",
      "Iteration #9, change in parameters 0.11105040429270342\n",
      "Iteration #10, change in parameters 0.09555115052710154\n",
      "Iteration #11, change in parameters 0.06720916859015028\n",
      "Iteration #12, change in parameters 0.047560079984394696\n",
      "Iteration #13, change in parameters 0.044984464552802236\n",
      "Iteration #14, change in parameters 0.042091601286200514\n",
      "Iteration #15, change in parameters 0.03881830481906152\n",
      "Iteration #16, change in parameters 0.037577298951175134\n",
      "Iteration #17, change in parameters 0.0417845771407723\n",
      "Iteration #18, change in parameters 0.04731993719608415\n",
      "Iteration #19, change in parameters 0.05076014540677757\n",
      "Iteration #20, change in parameters 0.04903317132378876\n",
      "Iteration #21, change in parameters 0.04357507567026049\n",
      "Iteration #22, change in parameters 0.03733089792164175\n",
      "Iteration #23, change in parameters 0.03205586398486546\n",
      "Iteration #24, change in parameters 0.027798828678851417\n",
      "Iteration #25, change in parameters 0.024311389294283142\n",
      "Iteration #26, change in parameters 0.021175631791264044\n",
      "Iteration #27, change in parameters 0.01835304272834834\n",
      "Iteration #28, change in parameters 0.015870759941894616\n",
      "Iteration #29, change in parameters 0.013736227760145926\n",
      "Iteration #30, change in parameters 0.01193476156291319\n",
      "Iteration #31, change in parameters 0.0104343205829417\n",
      "Iteration #32, change in parameters 0.009190060053564793\n",
      "Iteration #33, change in parameters 0.008155850967659962\n",
      "Iteration #34, change in parameters 0.0072920398836265245\n",
      "Iteration #35, change in parameters 0.006565569319506891\n",
      "Iteration #36, change in parameters 0.00594928087228401\n",
      "Iteration #37, change in parameters 0.00542138370713023\n",
      "Iteration #38, change in parameters 0.004964806205967251\n",
      "Iteration #39, change in parameters 0.004566447375797684\n",
      "Iteration #40, change in parameters 0.004216428195519622\n",
      "Iteration #41, change in parameters 0.0039074184874475955\n",
      "Iteration #42, change in parameters 0.0036340333682074654\n",
      "Iteration #43, change in parameters 0.0033921422145922046\n",
      "Iteration #44, change in parameters 0.0031779975765332587\n",
      "Iteration #45, change in parameters 0.002987746724826461\n",
      "Iteration #46, change in parameters 0.002817791542263829\n",
      "Iteration #47, change in parameters 0.0026652465223236787\n",
      "Iteration #48, change in parameters 0.002527955883071531\n",
      "Iteration #49, change in parameters 0.002404299146882325\n",
      "Iteration #50, change in parameters 0.0022930099671953736\n",
      "Iteration #51, change in parameters 0.002193054229089708\n",
      "Iteration #52, change in parameters 0.002103554104162625\n",
      "Iteration #53, change in parameters 0.002023741143443036\n",
      "Iteration #54, change in parameters 0.0019529270492742497\n",
      "Iteration #55, change in parameters 0.0018904852607026512\n",
      "Iteration #56, change in parameters 0.0018358390929947021\n",
      "Iteration #57, change in parameters 0.001788453868342904\n",
      "Iteration #58, change in parameters 0.0017478313677777356\n",
      "Iteration #59, change in parameters 0.0017135055490371442\n",
      "Iteration #60, change in parameters 0.0016850389640557135\n",
      "Finished in 60 iterations\n",
      "\n",
      "Training fg_gmm:\n",
      "\n",
      "Iteration #1, change in parameters 48.343186172943646\n",
      "Iteration #2, change in parameters 0.010051500919109745\n",
      "Iteration #3, change in parameters 0.023443510772300204\n",
      "Iteration #4, change in parameters 0.12210167299631003\n",
      "Iteration #5, change in parameters 0.3241285831280782\n",
      "Iteration #6, change in parameters 0.3339472255965047\n",
      "Iteration #7, change in parameters 0.16730754222820368\n",
      "Iteration #8, change in parameters 0.08163233953901894\n",
      "Iteration #9, change in parameters 0.08788458815011686\n",
      "Iteration #10, change in parameters 0.09885043870197951\n",
      "Iteration #11, change in parameters 0.10573601315680531\n",
      "Iteration #12, change in parameters 0.10568069299930109\n",
      "Iteration #13, change in parameters 0.09632868041702493\n",
      "Iteration #14, change in parameters 0.08049610435041367\n",
      "Iteration #15, change in parameters 0.06467711628941747\n",
      "Iteration #16, change in parameters 0.05257878679287972\n",
      "Iteration #17, change in parameters 0.04478426760591567\n",
      "Iteration #18, change in parameters 0.04056869080821452\n",
      "Iteration #19, change in parameters 0.038543916074709604\n",
      "Iteration #20, change in parameters 0.03685614865811118\n",
      "Iteration #21, change in parameters 0.03441975977590403\n",
      "Iteration #22, change in parameters 0.030008268686399536\n",
      "Iteration #23, change in parameters 0.024769118857852084\n",
      "Iteration #24, change in parameters 0.019677403669137717\n",
      "Iteration #25, change in parameters 0.015192735960723718\n",
      "Iteration #26, change in parameters 0.01184404392571955\n",
      "Iteration #27, change in parameters 0.009348453855841835\n",
      "Finished in 27 iterations\n",
      "Prediction #1, accuracy:94.33%\n"
     ]
    },
    {
     "data": {
      "image/png": "[encoded data removed]",
      "text/plain": [
       "<Figure size 432x288 with 1 Axes>"
      ]
     },
     "metadata": {},
     "output_type": "display_data"
    },
    {
     "name": "stdout",
     "output_type": "stream",
     "text": [
      "Prediction #2, accuracy:88.7%\n"
     ]
    },
    {
     "data": {
      "image/png": "[encoded data removed]",
      "text/plain": [
       "<Figure size 432x288 with 1 Axes>"
      ]
     },
     "metadata": {},
     "output_type": "display_data"
    },
    {
     "name": "stdout",
     "output_type": "stream",
     "text": [
      "Prediction #3, accuracy:94.83%\n"
     ]
    },
    {
     "data": {
      "image/png": "[encoded data removed]",
      "text/plain": [
       "<Figure size 432x288 with 1 Axes>"
      ]
     },
     "metadata": {},
     "output_type": "display_data"
    },
    {
     "name": "stdout",
     "output_type": "stream",
     "text": [
      "Prediction #4, accuracy:95.69%\n"
     ]
    },
    {
     "data": {
      "image/png": "[encoded data removed]",
      "text/plain": [
       "<Figure size 432x288 with 1 Axes>"
      ]
     },
     "metadata": {},
     "output_type": "display_data"
    },
    {
     "name": "stdout",
     "output_type": "stream",
     "text": [
      "Prediction #5, accuracy:99.22%\n"
     ]
    },
    {
     "data": {
      "image/png": "[encoded data removed]",
      "text/plain": [
       "<Figure size 432x288 with 1 Axes>"
      ]
     },
     "metadata": {},
     "output_type": "display_data"
    },
    {
     "name": "stdout",
     "output_type": "stream",
     "text": [
      "Prediction #6, accuracy:98.52%\n"
     ]
    },
    {
     "data": {
      "image/png": "[encoded data removed]",
      "text/plain": [
       "<Figure size 432x288 with 1 Axes>"
      ]
     },
     "metadata": {},
     "output_type": "display_data"
    },
    {
     "name": "stdout",
     "output_type": "stream",
     "text": [
      "Prediction #7, accuracy:97.31%\n"
     ]
    },
    {
     "data": {
      "image/png": "[encoded data removed]",
      "text/plain": [
       "<Figure size 432x288 with 1 Axes>"
      ]
     },
     "metadata": {},
     "output_type": "display_data"
    },
    {
     "name": "stdout",
     "output_type": "stream",
     "text": [
      "Prediction #8, accuracy:99.12%\n"
     ]
    },
    {
     "data": {
      "image/png": "[encoded data removed]",
      "text/plain": [
       "<Figure size 432x288 with 1 Axes>"
      ]
     },
     "metadata": {},
     "output_type": "display_data"
    },
    {
     "name": "stderr",
     "output_type": "stream",
     "text": [
      "\r",
      " 50%|███████████████████████████████████████                                       | 3/6 [1:16:47<1:17:30, 1550.29s/it]"
     ]
    },
    {
     "name": "stdout",
     "output_type": "stream",
     "text": [
      "Average accuracy:95.97%\n",
      "Fold: 3\n",
      "\n",
      "Training bg_gmm:\n",
      "\n",
      "Iteration #1, change in parameters 48.362621952513464\n",
      "Iteration #2, change in parameters 0.003114823627288445\n",
      "Iteration #3, change in parameters 0.011982656243098272\n",
      "Iteration #4, change in parameters 0.05053076361746674\n",
      "Iteration #5, change in parameters 0.11661770711023138\n",
      "Iteration #6, change in parameters 0.157390762974084\n",
      "Iteration #7, change in parameters 0.14597656948376148\n",
      "Iteration #8, change in parameters 0.10050298813194777\n",
      "Iteration #9, change in parameters 0.08449647963412285\n",
      "Iteration #10, change in parameters 0.07885222032877016\n",
      "Iteration #11, change in parameters 0.07534686824165701\n",
      "Iteration #12, change in parameters 0.06700650492528812\n",
      "Iteration #13, change in parameters 0.05619938948821126\n",
      "Iteration #14, change in parameters 0.04464835558161569\n",
      "Iteration #15, change in parameters 0.03339804827569115\n",
      "Iteration #16, change in parameters 0.02374369074049104\n",
      "Iteration #17, change in parameters 0.01706611958674857\n",
      "Iteration #18, change in parameters 0.013191410941559754\n",
      "Iteration #19, change in parameters 0.010970505435121645\n",
      "Iteration #20, change in parameters 0.009424746124114666\n",
      "Iteration #21, change in parameters 0.008216170800055825\n",
      "Iteration #22, change in parameters 0.007235062653360502\n",
      "Iteration #23, change in parameters 0.006422599509934315\n",
      "Iteration #24, change in parameters 0.00574656914093764\n",
      "Iteration #25, change in parameters 0.005201747756533577\n",
      "Iteration #26, change in parameters 0.004805161224150865\n",
      "Iteration #27, change in parameters 0.004521725597683993\n",
      "Iteration #28, change in parameters 0.004299273642966124\n",
      "Iteration #29, change in parameters 0.004117693662842573\n",
      "Iteration #30, change in parameters 0.003968673662491758\n",
      "Iteration #31, change in parameters 0.0038455426229827105\n",
      "Iteration #32, change in parameters 0.00373872230108775\n",
      "Iteration #33, change in parameters 0.0036351894484712233\n",
      "Iteration #34, change in parameters 0.0035225619946520586\n",
      "Iteration #35, change in parameters 0.0033929344165064598\n",
      "Iteration #36, change in parameters 0.0032437648121693623\n",
      "Iteration #37, change in parameters 0.0030766296531404493\n",
      "Iteration #38, change in parameters 0.002895180151004072\n",
      "Iteration #39, change in parameters 0.0027034724092736993\n",
      "Iteration #40, change in parameters 0.002505254901135039\n",
      "Iteration #41, change in parameters 0.002304003580910756\n",
      "Iteration #42, change in parameters 0.0021031350537202027\n",
      "Iteration #43, change in parameters 0.001906017199846192\n",
      "Iteration #44, change in parameters 0.001715755426170851\n",
      "Iteration #45, change in parameters 0.0015628901391008918\n",
      "Iteration #46, change in parameters 0.00142441138316474\n",
      "Iteration #47, change in parameters 0.0012957328537481117\n",
      "Iteration #48, change in parameters 0.0011771598081875612\n",
      "Iteration #49, change in parameters 0.0010685443204374897\n",
      "Iteration #50, change in parameters 0.0009694257165679886\n",
      "Finished in 50 iterations\n",
      "\n",
      "Training fg_gmm:\n",
      "\n",
      "Iteration #1, change in parameters 49.37128445924091\n",
      "Iteration #2, change in parameters 0.010906670834841143\n",
      "Iteration #3, change in parameters 0.02473292872607102\n",
      "Iteration #4, change in parameters 0.08197661685072839\n",
      "Iteration #5, change in parameters 0.17950865607995967\n",
      "Iteration #6, change in parameters 0.25998119889263976\n",
      "Iteration #7, change in parameters 0.2679865266463546\n",
      "Iteration #8, change in parameters 0.22321911228015667\n",
      "Iteration #9, change in parameters 0.12042551506771956\n",
      "Iteration #10, change in parameters 0.08935389651876957\n",
      "Iteration #11, change in parameters 0.08493143775580715\n",
      "Iteration #12, change in parameters 0.08639475988358439\n",
      "Iteration #13, change in parameters 0.08274823027344025\n",
      "Iteration #14, change in parameters 0.07155174460602176\n",
      "Iteration #15, change in parameters 0.05865636064342469\n",
      "Iteration #16, change in parameters 0.0487183240640552\n",
      "Iteration #17, change in parameters 0.04216290108927109\n",
      "Iteration #18, change in parameters 0.03710986238647552\n",
      "Iteration #19, change in parameters 0.032899707444488425\n",
      "Iteration #20, change in parameters 0.029340661055327892\n",
      "Iteration #21, change in parameters 0.026403614391731636\n",
      "Iteration #22, change in parameters 0.02418113898671423\n",
      "Iteration #23, change in parameters 0.022841995013047296\n",
      "Iteration #24, change in parameters 0.022189078667015846\n",
      "Iteration #25, change in parameters 0.02209245562337951\n",
      "Iteration #26, change in parameters 0.022552225086694473\n",
      "Iteration #27, change in parameters 0.023625971285528433\n",
      "Iteration #28, change in parameters 0.025426792461199086\n",
      "Iteration #29, change in parameters 0.028137534993942333\n",
      "Iteration #30, change in parameters 0.032024898272215066\n",
      "Iteration #31, change in parameters 0.03741695877038006\n",
      "Iteration #32, change in parameters 0.04452759460173588\n",
      "Iteration #33, change in parameters 0.0528322729286835\n",
      "Iteration #34, change in parameters 0.059619429914864075\n",
      "Iteration #35, change in parameters 0.0591530756662173\n",
      "Iteration #36, change in parameters 0.048793763914361604\n",
      "Iteration #37, change in parameters 0.03470680866423773\n",
      "Iteration #38, change in parameters 0.02351222232664821\n",
      "Iteration #39, change in parameters 0.016790774827313632\n",
      "Iteration #40, change in parameters 0.013619775562128978\n",
      "Iteration #41, change in parameters 0.011912506294702824\n",
      "Iteration #42, change in parameters 0.010831750724793419\n",
      "Iteration #43, change in parameters 0.010033436643657214\n",
      "Iteration #44, change in parameters 0.009342335933999685\n",
      "Finished in 44 iterations\n",
      "Prediction #1, accuracy:96.54%\n"
     ]
    },
    {
     "data": {
      "image/png": "[encoded data removed]",
      "text/plain": [
       "<Figure size 432x288 with 1 Axes>"
      ]
     },
     "metadata": {},
     "output_type": "display_data"
    },
    {
     "name": "stdout",
     "output_type": "stream",
     "text": [
      "Prediction #2, accuracy:87.28%\n"
     ]
    },
    {
     "data": {
      "image/png": "[encoded data removed]",
      "text/plain": [
       "<Figure size 432x288 with 1 Axes>"
      ]
     },
     "metadata": {},
     "output_type": "display_data"
    },
    {
     "name": "stdout",
     "output_type": "stream",
     "text": [
      "Prediction #3, accuracy:99.19%\n"
     ]
    },
    {
     "data": {
      "image/png": "[encoded data removed]",
      "text/plain": [
       "<Figure size 432x288 with 1 Axes>"
      ]
     },
     "metadata": {},
     "output_type": "display_data"
    },
    {
     "name": "stdout",
     "output_type": "stream",
     "text": [
      "Prediction #4, accuracy:98.64%\n"
     ]
    },
    {
     "data": {
      "image/png": "[encoded data removed]",
      "text/plain": [
       "<Figure size 432x288 with 1 Axes>"
      ]
     },
     "metadata": {},
     "output_type": "display_data"
    },
    {
     "name": "stdout",
     "output_type": "stream",
     "text": [
      "Prediction #5, accuracy:98.31%\n"
     ]
    },
    {
     "data": {
      "image/png": "[encoded data removed]",
      "text/plain": [
       "<Figure size 432x288 with 1 Axes>"
      ]
     },
     "metadata": {},
     "output_type": "display_data"
    },
    {
     "name": "stdout",
     "output_type": "stream",
     "text": [
      "Prediction #6, accuracy:98.06%\n"
     ]
    },
    {
     "data": {
      "image/png": "[encoded data removed]",
      "text/plain": [
       "<Figure size 432x288 with 1 Axes>"
      ]
     },
     "metadata": {},
     "output_type": "display_data"
    },
    {
     "name": "stdout",
     "output_type": "stream",
     "text": [
      "Prediction #7, accuracy:84.46%\n"
     ]
    },
    {
     "data": {
      "image/png": "[encoded data removed]",
      "text/plain": [
       "<Figure size 432x288 with 1 Axes>"
      ]
     },
     "metadata": {},
     "output_type": "display_data"
    },
    {
     "name": "stdout",
     "output_type": "stream",
     "text": [
      "Prediction #8, accuracy:93.93%\n"
     ]
    },
    {
     "data": {
      "image/png": "[encoded data removed]",
      "text/plain": [
       "<Figure size 432x288 with 1 Axes>"
      ]
     },
     "metadata": {},
     "output_type": "display_data"
    },
    {
     "name": "stderr",
     "output_type": "stream",
     "text": [
      "\r",
      " 67%|█████████████████████████████████████████████████████▎                          | 4/6 [1:39:46<49:57, 1498.83s/it]"
     ]
    },
    {
     "name": "stdout",
     "output_type": "stream",
     "text": [
      "Average accuracy:94.55%\n",
      "Fold: 4\n",
      "\n",
      "Training bg_gmm:\n",
      "\n",
      "Iteration #1, change in parameters 48.29818918360368\n",
      "Iteration #2, change in parameters 0.005688935895066758\n",
      "Iteration #3, change in parameters 0.022491094189082676\n",
      "Iteration #4, change in parameters 0.0806234925000478\n",
      "Iteration #5, change in parameters 0.14376062962825895\n",
      "Iteration #6, change in parameters 0.16065834226801762\n",
      "Iteration #7, change in parameters 0.14481332184171022\n",
      "Iteration #8, change in parameters 0.12789268115948513\n",
      "Iteration #9, change in parameters 0.11741043963669212\n",
      "Iteration #10, change in parameters 0.10149914659988572\n",
      "Iteration #11, change in parameters 0.07139693186737751\n",
      "Iteration #12, change in parameters 0.04172714132580556\n",
      "Iteration #13, change in parameters 0.036101012673261705\n",
      "Iteration #14, change in parameters 0.030377234860849842\n",
      "Iteration #15, change in parameters 0.02108163937161693\n",
      "Iteration #16, change in parameters 0.014401798150027761\n",
      "Iteration #17, change in parameters 0.014024354644567787\n",
      "Iteration #18, change in parameters 0.015536889221542997\n",
      "Iteration #19, change in parameters 0.01708035006961822\n",
      "Iteration #20, change in parameters 0.01732432365060536\n",
      "Iteration #21, change in parameters 0.01670175557201572\n",
      "Iteration #22, change in parameters 0.015647097834184782\n",
      "Iteration #23, change in parameters 0.01444124754342164\n",
      "Iteration #24, change in parameters 0.013245470510599329\n",
      "Iteration #25, change in parameters 0.012141059359042474\n",
      "Iteration #26, change in parameters 0.011186569663816025\n",
      "Iteration #27, change in parameters 0.01082896380301116\n",
      "Iteration #28, change in parameters 0.010570379105372946\n",
      "Iteration #29, change in parameters 0.010400245371921812\n",
      "Iteration #30, change in parameters 0.01030703841168602\n",
      "Iteration #31, change in parameters 0.010287004407872228\n",
      "Iteration #32, change in parameters 0.010341773968689192\n",
      "Iteration #33, change in parameters 0.010475683734921198\n",
      "Iteration #34, change in parameters 0.010697871663534229\n",
      "Iteration #35, change in parameters 0.011049717496865728\n",
      "Iteration #36, change in parameters 0.011563737001915531\n",
      "Iteration #37, change in parameters 0.01219132526700432\n",
      "Iteration #38, change in parameters 0.012925081430306403\n",
      "Iteration #39, change in parameters 0.013766175321266647\n",
      "Iteration #40, change in parameters 0.014714543083330409\n",
      "Iteration #41, change in parameters 0.01576854059151488\n",
      "Iteration #42, change in parameters 0.01692752224365229\n",
      "Iteration #43, change in parameters 0.018197594573081698\n",
      "Iteration #44, change in parameters 0.019601459559507102\n",
      "Iteration #45, change in parameters 0.021192868383133806\n",
      "Iteration #46, change in parameters 0.02307343460477146\n",
      "Iteration #47, change in parameters 0.0253982158300592\n",
      "Iteration #48, change in parameters 0.02831484749776126\n",
      "Iteration #49, change in parameters 0.03167473080472538\n",
      "Iteration #50, change in parameters 0.034410450063379845\n",
      "Iteration #51, change in parameters 0.03471882451617788\n",
      "Iteration #52, change in parameters 0.032337500459031596\n",
      "Iteration #53, change in parameters 0.028831281886613866\n",
      "Iteration #54, change in parameters 0.02531138920266706\n",
      "Iteration #55, change in parameters 0.022103028624218056\n",
      "Iteration #56, change in parameters 0.019705816596309867\n",
      "Iteration #57, change in parameters 0.01935261892814237\n",
      "Iteration #58, change in parameters 0.02007515784170076\n",
      "Iteration #59, change in parameters 0.020821308580968728\n",
      "Iteration #60, change in parameters 0.020759377226867153\n",
      "Finished in 60 iterations\n",
      "\n",
      "Training fg_gmm:\n",
      "\n",
      "Iteration #1, change in parameters 48.63092498041333\n",
      "Iteration #2, change in parameters 0.011546827761984513\n",
      "Iteration #3, change in parameters 0.017758083076616166\n",
      "Iteration #4, change in parameters 0.08233387988440474\n",
      "Iteration #5, change in parameters 0.20526187939729046\n",
      "Iteration #6, change in parameters 0.2475453322337581\n",
      "Iteration #7, change in parameters 0.20236458445861533\n",
      "Iteration #8, change in parameters 0.2320693666037248\n",
      "Iteration #9, change in parameters 0.21747946207484392\n",
      "Iteration #10, change in parameters 0.16394365085962465\n",
      "Iteration #11, change in parameters 0.12125541655179765\n",
      "Iteration #12, change in parameters 0.09170901403800005\n",
      "Iteration #13, change in parameters 0.06716439455018414\n",
      "Iteration #14, change in parameters 0.04989590419805005\n",
      "Iteration #15, change in parameters 0.03943204789052141\n",
      "Iteration #16, change in parameters 0.0330680748108516\n",
      "Iteration #17, change in parameters 0.028764891312432553\n",
      "Iteration #18, change in parameters 0.025482863591096177\n",
      "Iteration #19, change in parameters 0.022828448371977526\n",
      "Iteration #20, change in parameters 0.020642568414857107\n",
      "Iteration #21, change in parameters 0.01883125885479917\n",
      "Iteration #22, change in parameters 0.01732814399334914\n",
      "Iteration #23, change in parameters 0.01612793020349384\n",
      "Iteration #24, change in parameters 0.015233130271655912\n",
      "Iteration #25, change in parameters 0.014530576694802361\n",
      "Iteration #26, change in parameters 0.01394900178341291\n",
      "Iteration #27, change in parameters 0.013466908056705605\n",
      "Iteration #28, change in parameters 0.013077714533182502\n",
      "Iteration #29, change in parameters 0.012780984498410619\n",
      "Iteration #30, change in parameters 0.01258304975999918\n",
      "Iteration #31, change in parameters 0.012508327013845244\n",
      "Iteration #32, change in parameters 0.012585535521355171\n",
      "Iteration #33, change in parameters 0.012800223310431697\n",
      "Iteration #34, change in parameters 0.013156086834946524\n",
      "Iteration #35, change in parameters 0.013676448869254608\n",
      "Iteration #36, change in parameters 0.014395957814549805\n",
      "Iteration #37, change in parameters 0.015360624369333718\n",
      "Iteration #38, change in parameters 0.01662926970678738\n",
      "Iteration #39, change in parameters 0.018273502784703098\n",
      "Iteration #40, change in parameters 0.020372579169561193\n",
      "Iteration #41, change in parameters 0.022996087071012382\n",
      "Iteration #42, change in parameters 0.026161608215411733\n",
      "Iteration #43, change in parameters 0.02974926912615212\n",
      "Iteration #44, change in parameters 0.03336539159476166\n",
      "Iteration #45, change in parameters 0.03622582955151075\n",
      "Iteration #46, change in parameters 0.037338077208409884\n",
      "Iteration #47, change in parameters 0.03624304124878017\n",
      "Iteration #48, change in parameters 0.033596920825131285\n",
      "Iteration #49, change in parameters 0.03031467536541007\n",
      "Iteration #50, change in parameters 0.026434949642487788\n",
      "Iteration #51, change in parameters 0.02204763648778464\n",
      "Iteration #52, change in parameters 0.01798303698335206\n",
      "Iteration #53, change in parameters 0.014553923575517788\n",
      "Iteration #54, change in parameters 0.011706467716533686\n",
      "Iteration #55, change in parameters 0.009468974019505501\n",
      "Finished in 55 iterations\n",
      "Prediction #1, accuracy:99.18%\n"
     ]
    },
    {
     "data": {
      "image/png": "[encoded data removed]",
      "text/plain": [
       "<Figure size 432x288 with 1 Axes>"
      ]
     },
     "metadata": {},
     "output_type": "display_data"
    },
    {
     "name": "stdout",
     "output_type": "stream",
     "text": [
      "Prediction #2, accuracy:85.3%\n"
     ]
    },
    {
     "data": {
      "image/png": "[encoded data removed]",
      "text/plain": [
       "<Figure size 432x288 with 1 Axes>"
      ]
     },
     "metadata": {},
     "output_type": "display_data"
    },
    {
     "name": "stdout",
     "output_type": "stream",
     "text": [
      "Prediction #3, accuracy:85.04%\n"
     ]
    },
    {
     "data": {
      "image/png": "[encoded data removed]",
      "text/plain": [
       "<Figure size 432x288 with 1 Axes>"
      ]
     },
     "metadata": {},
     "output_type": "display_data"
    },
    {
     "name": "stdout",
     "output_type": "stream",
     "text": [
      "Prediction #4, accuracy:88.67%\n"
     ]
    },
    {
     "data": {
      "image/png": "[encoded data removed]",
      "text/plain": [
       "<Figure size 432x288 with 1 Axes>"
      ]
     },
     "metadata": {},
     "output_type": "display_data"
    },
    {
     "name": "stdout",
     "output_type": "stream",
     "text": [
      "Prediction #5, accuracy:82.11%\n"
     ]
    },
    {
     "data": {
      "image/png": "[encoded data removed]",
      "text/plain": [
       "<Figure size 432x288 with 1 Axes>"
      ]
     },
     "metadata": {},
     "output_type": "display_data"
    },
    {
     "name": "stdout",
     "output_type": "stream",
     "text": [
      "Prediction #6, accuracy:91.65%\n"
     ]
    },
    {
     "data": {
      "image/png": "[encoded data removed]",
      "text/plain": [
       "<Figure size 432x288 with 1 Axes>"
      ]
     },
     "metadata": {},
     "output_type": "display_data"
    },
    {
     "name": "stdout",
     "output_type": "stream",
     "text": [
      "Prediction #7, accuracy:98.04%\n"
     ]
    },
    {
     "data": {
      "image/png": "[encoded data removed]",
      "text/plain": [
       "<Figure size 432x288 with 1 Axes>"
      ]
     },
     "metadata": {},
     "output_type": "display_data"
    },
    {
     "name": "stdout",
     "output_type": "stream",
     "text": [
      "Prediction #8, accuracy:86.91%\n"
     ]
    },
    {
     "data": {
      "image/png": "[encoded data removed]",
      "text/plain": [
       "<Figure size 432x288 with 1 Axes>"
      ]
     },
     "metadata": {},
     "output_type": "display_data"
    },
    {
     "name": "stderr",
     "output_type": "stream",
     "text": [
      "\r",
      " 83%|██████████████████████████████████████████████████████████████████▋             | 5/6 [2:08:05<25:58, 1558.79s/it]"
     ]
    },
    {
     "name": "stdout",
     "output_type": "stream",
     "text": [
      "Average accuracy:89.61%\n",
      "Fold: 5\n",
      "\n",
      "Training bg_gmm:\n",
      "\n",
      "Iteration #1, change in parameters 48.89550318981494\n",
      "Iteration #2, change in parameters 0.0020014797027247226\n",
      "Iteration #3, change in parameters 0.0052420227023579945\n",
      "Iteration #4, change in parameters 0.0178124807410677\n",
      "Iteration #5, change in parameters 0.06152001951682863\n",
      "Iteration #6, change in parameters 0.12265330952100836\n",
      "Iteration #7, change in parameters 0.16576664975380193\n",
      "Iteration #8, change in parameters 0.1684633522829388\n",
      "Iteration #9, change in parameters 0.14302117334312897\n",
      "Iteration #10, change in parameters 0.09979366036559524\n",
      "Iteration #11, change in parameters 0.040132578071230315\n",
      "Iteration #12, change in parameters 0.014825395744644887\n",
      "Iteration #13, change in parameters 0.018795809262439726\n",
      "Iteration #14, change in parameters 0.018067092160979892\n",
      "Iteration #15, change in parameters 0.015785976755465198\n",
      "Iteration #16, change in parameters 0.013559051131992083\n",
      "Iteration #17, change in parameters 0.011760654825916261\n",
      "Iteration #18, change in parameters 0.010371406012256957\n",
      "Iteration #19, change in parameters 0.00930898713681054\n",
      "Iteration #20, change in parameters 0.0085013558611223\n",
      "Iteration #21, change in parameters 0.007892452914620204\n",
      "Iteration #22, change in parameters 0.007438269178709393\n",
      "Iteration #23, change in parameters 0.00710352478749102\n",
      "Iteration #24, change in parameters 0.00686182157412414\n",
      "Iteration #25, change in parameters 0.006695647859416176\n",
      "Iteration #26, change in parameters 0.006594190400713695\n",
      "Iteration #27, change in parameters 0.006550715679639004\n",
      "Iteration #28, change in parameters 0.006560756144216525\n",
      "Iteration #29, change in parameters 0.006621193422887117\n",
      "Iteration #30, change in parameters 0.0067300580972449895\n",
      "Iteration #31, change in parameters 0.0068868412838855855\n",
      "Iteration #32, change in parameters 0.0070930894919121095\n",
      "Iteration #33, change in parameters 0.007352920650952042\n",
      "Iteration #34, change in parameters 0.0076727539476331595\n",
      "Iteration #35, change in parameters 0.008060096421928026\n",
      "Iteration #36, change in parameters 0.008522357584133639\n",
      "Iteration #37, change in parameters 0.009064555969721711\n",
      "Iteration #38, change in parameters 0.009684045614544544\n",
      "Iteration #39, change in parameters 0.010363749022742015\n",
      "Iteration #40, change in parameters 0.011069793039800073\n",
      "Iteration #41, change in parameters 0.011764760130526474\n",
      "Iteration #42, change in parameters 0.012435309786291846\n",
      "Iteration #43, change in parameters 0.013116301864957814\n",
      "Iteration #44, change in parameters 0.013822815395896238\n",
      "Iteration #45, change in parameters 0.014429072127054235\n",
      "Iteration #46, change in parameters 0.014858941574481883\n",
      "Iteration #47, change in parameters 0.015155047919820247\n",
      "Iteration #48, change in parameters 0.015395971993023871\n",
      "Iteration #49, change in parameters 0.015650604262429226\n",
      "Iteration #50, change in parameters 0.015963183192278286\n",
      "Iteration #51, change in parameters 0.016348105791009513\n",
      "Iteration #52, change in parameters 0.016771884851860205\n",
      "Iteration #53, change in parameters 0.017144582602467803\n",
      "Iteration #54, change in parameters 0.01735126884785271\n",
      "Iteration #55, change in parameters 0.017286659562916622\n",
      "Iteration #56, change in parameters 0.016884793829141823\n",
      "Iteration #57, change in parameters 0.016143263580123007\n",
      "Iteration #58, change in parameters 0.015170905075526472\n",
      "Iteration #59, change in parameters 0.01402735232150127\n",
      "Iteration #60, change in parameters 0.012783651465153499\n",
      "Finished in 60 iterations\n",
      "\n",
      "Training fg_gmm:\n",
      "\n",
      "Iteration #1, change in parameters 47.44150338331251\n",
      "Iteration #2, change in parameters 0.020212841229596695\n",
      "Iteration #3, change in parameters 0.04179451604086728\n",
      "Iteration #4, change in parameters 0.14052425683251846\n",
      "Iteration #5, change in parameters 0.3035978180675506\n",
      "Iteration #6, change in parameters 0.29323805579795287\n",
      "Iteration #7, change in parameters 0.22123059510797005\n",
      "Iteration #8, change in parameters 0.18192059217794976\n",
      "Iteration #9, change in parameters 0.13716729235334388\n",
      "Iteration #10, change in parameters 0.1008590932987827\n",
      "Iteration #11, change in parameters 0.0902663744566701\n",
      "Iteration #12, change in parameters 0.09013490257497571\n",
      "Iteration #13, change in parameters 0.0877647745764141\n",
      "Iteration #14, change in parameters 0.07573732456819868\n",
      "Iteration #15, change in parameters 0.05987511534721152\n",
      "Iteration #16, change in parameters 0.04683899232656734\n",
      "Iteration #17, change in parameters 0.03807231076540644\n",
      "Iteration #18, change in parameters 0.0321661526124978\n",
      "Iteration #19, change in parameters 0.02795877464817597\n",
      "Iteration #20, change in parameters 0.024841655158634603\n",
      "Iteration #21, change in parameters 0.022478677602446023\n",
      "Iteration #22, change in parameters 0.020612096550928598\n",
      "Iteration #23, change in parameters 0.019089070883220007\n",
      "Iteration #24, change in parameters 0.0178336140249822\n",
      "Iteration #25, change in parameters 0.016806482871860255\n",
      "Iteration #26, change in parameters 0.015989048204464236\n",
      "Iteration #27, change in parameters 0.015375646995353447\n",
      "Iteration #28, change in parameters 0.014969701561592818\n",
      "Iteration #29, change in parameters 0.014782428295842576\n",
      "Iteration #30, change in parameters 0.01483335415319852\n",
      "Iteration #31, change in parameters 0.01515204038875709\n",
      "Iteration #32, change in parameters 0.015780504053076724\n",
      "Iteration #33, change in parameters 0.016775783546532613\n",
      "Iteration #34, change in parameters 0.018211652472509453\n",
      "Iteration #35, change in parameters 0.020176629117991812\n",
      "Iteration #36, change in parameters 0.022760944737740384\n",
      "Iteration #37, change in parameters 0.026017509074025644\n",
      "Iteration #38, change in parameters 0.02987233639087179\n",
      "Iteration #39, change in parameters 0.033960810347082954\n",
      "Iteration #40, change in parameters 0.03743319852707034\n",
      "Iteration #41, change in parameters 0.039019524436293335\n",
      "Iteration #42, change in parameters 0.03781016143353881\n",
      "Iteration #43, change in parameters 0.03423710505658259\n",
      "Iteration #44, change in parameters 0.029682993787994123\n",
      "Iteration #45, change in parameters 0.025041822495185804\n",
      "Iteration #46, change in parameters 0.02058777355548116\n",
      "Iteration #47, change in parameters 0.01662033598354278\n",
      "Iteration #48, change in parameters 0.01324327016280035\n",
      "Iteration #49, change in parameters 0.010485110592212538\n",
      "Iteration #50, change in parameters 0.008337493315128263\n",
      "Finished in 50 iterations\n",
      "Prediction #1, accuracy:98.53%\n"
     ]
    },
    {
     "data": {
      "image/png": "[encoded data removed]",
      "text/plain": [
       "<Figure size 432x288 with 1 Axes>"
      ]
     },
     "metadata": {},
     "output_type": "display_data"
    },
    {
     "name": "stdout",
     "output_type": "stream",
     "text": [
      "Prediction #2, accuracy:97.29%\n"
     ]
    },
    {
     "data": {
      "image/png": "[encoded data removed]",
      "text/plain": [
       "<Figure size 432x288 with 1 Axes>"
      ]
     },
     "metadata": {},
     "output_type": "display_data"
    },
    {
     "name": "stdout",
     "output_type": "stream",
     "text": [
      "Prediction #3, accuracy:97.89%\n"
     ]
    },
    {
     "data": {
      "image/png": "[encoded data removed]",
      "text/plain": [
       "<Figure size 432x288 with 1 Axes>"
      ]
     },
     "metadata": {},
     "output_type": "display_data"
    },
    {
     "name": "stdout",
     "output_type": "stream",
     "text": [
      "Prediction #4, accuracy:92.07%\n"
     ]
    },
    {
     "data": {
      "image/png": "[encoded data removed]",
      "text/plain": [
       "<Figure size 432x288 with 1 Axes>"
      ]
     },
     "metadata": {},
     "output_type": "display_data"
    },
    {
     "name": "stdout",
     "output_type": "stream",
     "text": [
      "Prediction #5, accuracy:94.24%\n"
     ]
    },
    {
     "data": {
      "image/png": "[encoded data removed]",
      "text/plain": [
       "<Figure size 432x288 with 1 Axes>"
      ]
     },
     "metadata": {},
     "output_type": "display_data"
    },
    {
     "name": "stdout",
     "output_type": "stream",
     "text": [
      "Prediction #6, accuracy:98.23%\n"
     ]
    },
    {
     "data": {
      "image/png": "[encoded data removed]",
      "text/plain": [
       "<Figure size 432x288 with 1 Axes>"
      ]
     },
     "metadata": {},
     "output_type": "display_data"
    },
    {
     "name": "stdout",
     "output_type": "stream",
     "text": [
      "Prediction #7, accuracy:99.14%\n"
     ]
    },
    {
     "data": {
      "image/png": "[encoded data removed]",
      "text/plain": [
       "<Figure size 432x288 with 1 Axes>"
      ]
     },
     "metadata": {},
     "output_type": "display_data"
    },
    {
     "name": "stdout",
     "output_type": "stream",
     "text": [
      "Prediction #8, accuracy:87.63%\n"
     ]
    },
    {
     "data": {
      "image/png": "[encoded data removed]",
      "text/plain": [
       "<Figure size 432x288 with 1 Axes>"
      ]
     },
     "metadata": {},
     "output_type": "display_data"
    },
    {
     "name": "stderr",
     "output_type": "stream",
     "text": [
      "100%|████████████████████████████████████████████████████████████████████████████████| 6/6 [2:36:19<00:00, 1563.33s/it]"
     ]
    },
    {
     "name": "stdout",
     "output_type": "stream",
     "text": [
      "Average accuracy:95.63%\n",
      "\n",
      "The accuracy scores achieved for each fold:\n",
      "[96.88, 96.34, 95.97, 94.55, 89.61, 95.63]\n",
      "\n",
      "The final accuracy of the system: 94.83\n"
     ]
    },
    {
     "name": "stderr",
     "output_type": "stream",
     "text": [
      "\n"
     ]
    }
   ],
   "source": [
    "cross_val_manager(folds=6)"
   ]
  },
  {
   "cell_type": "code",
   "execution_count": null,
   "metadata": {},
   "outputs": [],
   "source": []
  }
 ],
 "metadata": {
  "kernelspec": {
   "display_name": "Python 3",
   "language": "python",
   "name": "python3"
  },
  "language_info": {
   "codemirror_mode": {
    "name": "ipython",
    "version": 3
   },
   "file_extension": ".py",
   "mimetype": "text/x-python",
   "name": "python",
   "nbconvert_exporter": "python",
   "pygments_lexer": "ipython3",
   "version": "3.7.6"
  }
 },
 "nbformat": 4,
 "nbformat_minor": 4
}
