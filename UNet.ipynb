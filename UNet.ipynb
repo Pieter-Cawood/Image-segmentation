{
 "cells": [
  {
   "cell_type": "code",
   "execution_count": 1,
   "metadata": {},
   "outputs": [],
   "source": [
    "import tensorflow as tf"
   ]
  },
  {
   "cell_type": "code",
   "execution_count": null,
   "metadata": {},
   "outputs": [],
   "source": [
    "from tensorflow.keras.model"
   ]
  },
  {
   "cell_type": "code",
   "execution_count": 5,
   "metadata": {},
   "outputs": [
    {
     "name": "stdout",
     "output_type": "stream",
     "text": [
      "Downloading data from https://storage.googleapis.com/tensorflow/keras-applications/vgg16/vgg16_weights_tf_dim_ordering_tf_kernels_notop.h5\n",
      "58892288/58889256 [==============================] - 53s 1us/step\n"
     ]
    }
   ],
   "source": [
    "model =tf.keras.applications.VGG16(\n",
    "    include_top=False, weights='imagenet', input_tensor=None, input_shape=None,\n",
    "    pooling=None, classes=1000, classifier_activation='softmax'\n",
    ")"
   ]
  },
  {
   "cell_type": "code",
   "execution_count": 6,
   "metadata": {},
   "outputs": [
    {
     "data": {
      "text/plain": [
       "[<tensorflow.python.keras.engine.input_layer.InputLayer at 0x249f96c0508>,\n",
       " <tensorflow.python.keras.layers.convolutional.Conv2D at 0x249f96c0ac8>,\n",
       " <tensorflow.python.keras.layers.convolutional.Conv2D at 0x249fb1f8bc8>,\n",
       " <tensorflow.python.keras.layers.pooling.MaxPooling2D at 0x249f96bd448>,\n",
       " <tensorflow.python.keras.layers.convolutional.Conv2D at 0x249f9d8e188>,\n",
       " <tensorflow.python.keras.layers.convolutional.Conv2D at 0x249f96a8bc8>,\n",
       " <tensorflow.python.keras.layers.pooling.MaxPooling2D at 0x249fa472a88>,\n",
       " <tensorflow.python.keras.layers.convolutional.Conv2D at 0x249fa48f488>,\n",
       " <tensorflow.python.keras.layers.convolutional.Conv2D at 0x249fa49a308>,\n",
       " <tensorflow.python.keras.layers.convolutional.Conv2D at 0x249fa52bc08>,\n",
       " <tensorflow.python.keras.layers.pooling.MaxPooling2D at 0x249fb20b648>,\n",
       " <tensorflow.python.keras.layers.convolutional.Conv2D at 0x249f96c3788>,\n",
       " <tensorflow.python.keras.layers.convolutional.Conv2D at 0x249f9324a48>,\n",
       " <tensorflow.python.keras.layers.convolutional.Conv2D at 0x249fac9e408>,\n",
       " <tensorflow.python.keras.layers.pooling.MaxPooling2D at 0x249fb475508>,\n",
       " <tensorflow.python.keras.layers.convolutional.Conv2D at 0x249fb47f408>,\n",
       " <tensorflow.python.keras.layers.convolutional.Conv2D at 0x249fb469808>,\n",
       " <tensorflow.python.keras.layers.convolutional.Conv2D at 0x249fa664288>,\n",
       " <tensorflow.python.keras.layers.pooling.MaxPooling2D at 0x249fa7e0748>]"
      ]
     },
     "execution_count": 6,
     "metadata": {},
     "output_type": "execute_result"
    }
   ],
   "source": [
    "model.layers"
   ]
  },
  {
   "cell_type": "code",
   "execution_count": null,
   "metadata": {},
   "outputs": [],
   "source": []
  }
 ],
 "metadata": {
  "kernelspec": {
   "display_name": "Python 3",
   "language": "python",
   "name": "python3"
  },
  "language_info": {
   "codemirror_mode": {
    "name": "ipython",
    "version": 3
   },
   "file_extension": ".py",
   "mimetype": "text/x-python",
   "name": "python",
   "nbconvert_exporter": "python",
   "pygments_lexer": "ipython3",
   "version": "3.7.6"
  }
 },
 "nbformat": 4,
 "nbformat_minor": 4
}
