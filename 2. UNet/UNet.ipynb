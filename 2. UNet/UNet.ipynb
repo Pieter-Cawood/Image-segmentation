{
 "cells": [
  {
   "cell_type": "code",
   "execution_count": 6,
   "metadata": {
    "scrolled": true
   },
   "outputs": [],
   "source": [
    "import time\n",
    "import tensorflow as tf\n",
    "from tensorflow.keras.applications.vgg16 import VGG16\n",
    "from skimage import img_as_float32\n",
    "from tensorflow.keras.models import Model\n",
    "from tensorflow.keras.optimizers import Adam\n",
    "from tensorflow.keras.layers import Conv2D, Conv2DTranspose, concatenate, Dense, Softmax\n",
    "from IPython.display import SVG\n",
    "from tensorflow.keras.utils import model_to_dot\n",
    "from natsort import natsorted\n",
    "import matplotlib.pyplot as plt\n",
    "from glob import glob\n",
    "import json\n",
    "from functools import partial\n",
    "import numpy as np\n",
    "from cachier import cachier\n",
    "from tqdm import tqdm\n",
    "import imageio\n",
    "import cv2 as cv2\n",
    "from math import pi, e, sqrt, cos, sin\n",
    "from scipy.stats import norm, multivariate_normal\n",
    "from scipy.spatial.distance import euclidean\n",
    "from sklearn.metrics import accuracy_score\n",
    "import os\n",
    "from collections import defaultdict\n",
    "os.environ[\"CUDA_VISIBLE_DEVICES\"] = '2'"
   ]
  },
  {
   "cell_type": "code",
   "execution_count": 29,
   "metadata": {
    "scrolled": true
   },
   "outputs": [],
   "source": [
    "HYPER_PARAMS = {\n",
    "                'MODEL_LEARN_EPOCHS' : 10,\n",
    "                'MODEL_LEARN_RATE' : 1e-5,\n",
    "                'BASE_IMAGE_SIZE' : (768, 1024),\n",
    "                'SCALED_IMAGE_SIZE' : (192, 256),\n",
    "                'CORNER_RECT_DIMS' : (10, 10),\n",
    "                'MORPH_KERNEL_DIMS' : 5 # Morphological transformations kernel size\n",
    "               }"
   ]
  },
  {
   "cell_type": "code",
   "execution_count": 8,
   "metadata": {
    "scrolled": true
   },
   "outputs": [],
   "source": [
    "ztqdm = partial(tqdm, position=0, leave=True)\n",
    "cachier = partial(cachier, pickle_reload=False, cache_dir='data/cache')"
   ]
  },
  {
   "cell_type": "code",
   "execution_count": 9,
   "metadata": {
    "scrolled": true
   },
   "outputs": [
    {
     "name": "stderr",
     "output_type": "stream",
     "text": [
      "Loading Images: 100%|██████████████████████████████████████████████████████████████████| 48/48 [00:01<00:00, 36.48it/s]\n",
      "Loading Masks: 100%|██████████████████████████████████████████████████████████████████| 48/48 [00:00<00:00, 267.84it/s]\n"
     ]
    }
   ],
   "source": [
    "SIZE = (768, 1024)\n",
    "NEW_SIZE = (256, 192)\n",
    "DATA_PATH_PAIRS = list(zip(\n",
    "    natsorted(glob(f'../data/images-{SIZE[1]}x{SIZE[0]}/*.png')),\n",
    "    natsorted(glob(f'../data/masks-{SIZE[1]}x{SIZE[0]}/*.png')),\n",
    "))\n",
    "DATA_IMGS = np.array(\n",
    "    [cv2.resize(img_as_float32(imageio.imread(img_path)), NEW_SIZE) \n",
    "     for img_path, _ in tqdm(DATA_PATH_PAIRS, 'Loading Images')])\n",
    "DATA_MSKS = np.array(\n",
    "    [cv2.resize(img_as_float32(imageio.imread(msk_path)), NEW_SIZE, interpolation = cv2.INTER_NEAREST) \n",
    "     for _, msk_path in tqdm(DATA_PATH_PAIRS, 'Loading Masks')])"
   ]
  },
  {
   "cell_type": "code",
   "execution_count": 10,
   "metadata": {
    "scrolled": true
   },
   "outputs": [],
   "source": [
    "with open(f'../data/corners.json', mode='r') as f:\n",
    "    DATA_CORNER_NAMES, DATA_CORNERS = json.load(f)\n",
    "    DATA_CORNERS = np.array(DATA_CORNERS)"
   ]
  },
  {
   "cell_type": "code",
   "execution_count": 11,
   "metadata": {
    "scrolled": true
   },
   "outputs": [],
   "source": [
    "def normalise_data(data):\n",
    "    return np.subtract(data, np.min(data))/ np.subtract(np.max(data), np.min(data))\n",
    "\n",
    "def show_image(image,cs=False,cmap= None, title=None):\n",
    "    if cs:\n",
    "        norm_img = normalise_data(image)\n",
    "    else:\n",
    "        norm_img = image\n",
    "    plt.title(title)\n",
    "    plt.imshow(norm_img, cmap= cmap)\n",
    "    plt.xticks([])\n",
    "    plt.yticks([])"
   ]
  },
  {
   "cell_type": "code",
   "execution_count": 12,
   "metadata": {
    "scrolled": true
   },
   "outputs": [],
   "source": [
    "def get_corner_targets(image_ratios, masks, indices):\n",
    "    corner_targets = []\n",
    "    index_count = 0\n",
    "    for corner_ratios in image_ratios[indices]:\n",
    "        corner_mask = masks[indices[index_count]].copy()\n",
    "        for corner_ratio in corner_ratios:\n",
    "            y = int(corner_ratio[1] * HYPER_PARAMS['SCALED_IMAGE_SIZE'][0])\n",
    "            x = int(corner_ratio[0] * HYPER_PARAMS['SCALED_IMAGE_SIZE'][1])\n",
    "            w =  HYPER_PARAMS['CORNER_RECT_DIMS'][0]\n",
    "            h =  HYPER_PARAMS['CORNER_RECT_DIMS'][1]\n",
    "            # Third class between 0 and 255\n",
    "            corner_mask = cv2.rectangle(corner_mask, \n",
    "                                        (int(x - w / 2), int(y - h / 2)),\n",
    "                                        (int(x + w / 2), int(y + h / 2)),\n",
    "                                        (2, 2, 2), \n",
    "                                        -1)\n",
    "                \n",
    "        corner_targets.append(corner_mask)\n",
    "        index_count += 1\n",
    "    return np.array(corner_targets)\n",
    "    \n",
    "def train_test_split(images, masks, corner_ratios, train_size=0.7, validation_size=0.15, test_size=0.15):\n",
    "    all_indices = np.arange(len(images))\n",
    "    np.random.shuffle(all_indices)\n",
    "    train_indices = all_indices[0: int(len(images)* train_size) + 1]\n",
    "    validate_inidices = all_indices[len(train_indices): len(train_indices) + int(len(images)* validation_size)]\n",
    "    test_indices = all_indices[len(train_indices)+len(validate_inidices): len(train_indices)+len(validate_inidices)+ int(len(images)* test_size)]\n",
    "\n",
    "    train_images = np.array([images[i] for i in train_indices])\n",
    "    train_masks = np.array([masks[i] for i in train_indices])\n",
    "    train_masks_corners = get_corner_targets(corner_ratios, masks, train_indices)\n",
    "        \n",
    "    validate_images = np.array([images[i] for i in validate_inidices])\n",
    "    validate_masks = np.array([masks[i] for i in validate_inidices])\n",
    "    validate_masks_corners = get_corner_targets(corner_ratios, masks, validate_inidices)\n",
    "        \n",
    "    test_images = np.array([images[i] for i in test_indices])\n",
    "    test_masks = np.array([masks[i] for i in test_indices])\n",
    "    test_masks_corners = get_corner_targets(corner_ratios, masks, test_indices)\n",
    "        \n",
    "    return train_images, train_masks, train_masks_corners,\\\n",
    "           validate_images, validate_masks, validate_masks_corners,\\\n",
    "           test_images, test_masks, test_masks_corners\n",
    "\n",
    "\n",
    "def get_augmented_lists(num_classes, image, mask, gaus=(3, 3)):\n",
    "    \"\"\"\n",
    "    Returns RGB, Gaussian blurred, vertically flipped and horizontally flipped image\n",
    "    and mask augmentations.\n",
    "    \"\"\"\n",
    "        \n",
    "    # RGB image\n",
    "    image_list = [\n",
    "        np.expand_dims(normalise_data(image.astype(np.float32)), axis=0)]\n",
    "    mask_list = [\n",
    "        tf.one_hot(\n",
    "        np.expand_dims(mask.astype(np.int32), axis=0),\n",
    "        depth=num_classes,\n",
    "        dtype=tf.int32)]\n",
    "        \n",
    "    # Gaussian blurred image\n",
    "    image_ = cv2.GaussianBlur(image, gaus, 0).astype(np.float32)  \n",
    "    image_list.append(\n",
    "        np.expand_dims(normalise_data(image_.astype(np.float32)), axis=0))\n",
    "    mask_list.append(\n",
    "                tf.one_hot(\n",
    "                np.expand_dims(mask.astype(np.int32), axis=0),\n",
    "                depth=num_classes,\n",
    "                dtype=tf.int32)\n",
    "                )\n",
    "        \n",
    "    # Vertical flip image \n",
    "    image_ = cv2.flip(image, 0)\n",
    "    image_list.append(\n",
    "        np.expand_dims(normalise_data(image_.astype(np.float32)), axis=0))\n",
    "    mask_ = cv2.flip(mask, 0)\n",
    "    mask_list.append(\n",
    "                tf.one_hot(\n",
    "                np.expand_dims(mask_.astype(np.int32), axis=0),\n",
    "                depth=num_classes,\n",
    "                dtype=tf.int32)\n",
    "                )\n",
    "        \n",
    "    # Horizontal flip image\n",
    "    image_ = cv2.flip(image, 1)\n",
    "    image_list.append(\n",
    "        np.expand_dims(normalise_data(image_.astype(np.float32)), axis=0))\n",
    "    mask_ = cv2.flip(mask, 1)\n",
    "    mask_list.append(\n",
    "                tf.one_hot(\n",
    "                np.expand_dims(mask_.astype(np.int32), axis=0),\n",
    "                depth=num_classes,\n",
    "                dtype=tf.int32)\n",
    "                )\n",
    "    return image_list, mask_list"
   ]
  },
  {
   "cell_type": "markdown",
   "metadata": {},
   "source": [
    "# Train, validation and training split\n",
    "Split data randomly into sets of 70% training, 15% validation and 15% testing"
   ]
  },
  {
   "cell_type": "code",
   "execution_count": 15,
   "metadata": {
    "scrolled": true
   },
   "outputs": [],
   "source": [
    "train_images, train_masks, train_masks_corners, \\\n",
    "validate_images, validate_masks, validate_masks_corners, \\\n",
    "test_images, test_masks, test_masks_corners = train_test_split(DATA_IMGS, DATA_MSKS, DATA_CORNERS,\n",
    "                                                              train_size=0.7, validation_size=0.15, test_size=0.15)"
   ]
  },
  {
   "cell_type": "code",
   "execution_count": 16,
   "metadata": {
    "scrolled": true
   },
   "outputs": [
    {
     "data": {
      "image/png": "[encoded data removed]",
      "text/plain": [
       "<Figure size 432x288 with 1 Axes>"
      ]
     },
     "metadata": {},
     "output_type": "display_data"
    }
   ],
   "source": [
    "show_image(train_images[3])"
   ]
  },
  {
   "cell_type": "code",
   "execution_count": 17,
   "metadata": {
    "scrolled": true
   },
   "outputs": [
    {
     "data": {
      "image/png": "[encoded data removed]",
      "text/plain": [
       "<Figure size 432x288 with 1 Axes>"
      ]
     },
     "metadata": {},
     "output_type": "display_data"
    }
   ],
   "source": [
    "show_image(train_masks[3], cmap='gray')"
   ]
  },
  {
   "cell_type": "code",
   "execution_count": 18,
   "metadata": {
    "scrolled": true
   },
   "outputs": [
    {
     "data": {
      "image/png": "[encoded data removed]",
      "text/plain": [
       "<Figure size 432x288 with 1 Axes>"
      ]
     },
     "metadata": {},
     "output_type": "display_data"
    }
   ],
   "source": [
    "show_image(train_masks_corners[3])"
   ]
  },
  {
   "cell_type": "markdown",
   "metadata": {},
   "source": [
    "# Pre-process data:\n",
    "Create augmented training set (Includes pre-processing of images and masks)"
   ]
  },
  {
   "cell_type": "code",
   "execution_count": 20,
   "metadata": {
    "scrolled": true
   },
   "outputs": [],
   "source": [
    "def preprocess_image_data(train_images, train_masks, train_masks_corners,\n",
    "                          validate_images, validate_masks, validate_masks_corners,\n",
    "                          test_images=None, test_masks=None, test_masks_corners=None, num_classes=3):\n",
    "    \"\"\"Apply augmentation to training set, and one hot encode masks for model training and predictions\"\"\"\n",
    "\n",
    "    augmented_data = []\n",
    "    augmented_masks = []\n",
    "    validate_images_ = []\n",
    "    validate_masks_ = []\n",
    "    test_images_ = []\n",
    "    test_masks_ = []\n",
    "    \n",
    "    if num_classes == 3:\n",
    "        train_masks = train_masks_corners\n",
    "        validate_masks = validate_masks_corners\n",
    "    \n",
    "    # Augmented training data\n",
    "    for train_image, train_mask in zip(train_images, train_masks):\n",
    "        image_list, mask_list = get_augmented_lists(num_classes, train_image, train_mask)\n",
    "        augmented_data += image_list\n",
    "        augmented_masks += mask_list\n",
    "    \n",
    "    # Validation data\n",
    "    for validate_image, validate_mask in zip(validate_images, validate_masks):\n",
    "        validate_images_.append(np.expand_dims(normalise_data(validate_image), axis=0))\n",
    "        validate_masks_.append(\n",
    "                                tf.one_hot(\n",
    "                                np.expand_dims(validate_mask.astype(np.int32), axis=0),\n",
    "                                depth=num_classes,\n",
    "                                dtype=tf.int32))\n",
    "    # Optional testing data\n",
    "    if test_images is not None:\n",
    "        for test_image, test_mask in zip(test_images, test_masks):\n",
    "            test_images_.append(np.expand_dims(normalise_data(test_image), axis=0))\n",
    "            test_masks_.append(test_mask)\n",
    "    \n",
    "    # Create tf dataset\n",
    "    training_data = tf.data.Dataset.from_tensor_slices((\n",
    "        {\n",
    "            'input_image': augmented_data\n",
    "        },\n",
    "        {\n",
    "            'output_mask': augmented_masks\n",
    "        }))\n",
    "\n",
    "    validation_data = tf.data.Dataset.from_tensor_slices((\n",
    "        {\n",
    "            'input_image': validate_images_\n",
    "        },\n",
    "        {\n",
    "            'output_mask': validate_masks_\n",
    "        }))    \n",
    "        \n",
    "    return training_data, validation_data, test_images_, test_masks_"
   ]
  },
  {
   "cell_type": "markdown",
   "metadata": {},
   "source": [
    "## VGG-16\n",
    "\n",
    "The VGG16 model proposed was tested using the ImageNet data set, which contains over 15 million hand labeled high-resolution images, that belong to around 22-thousand categories. The model was trained for weeks, and pre-trained models are commonly available using deep learning APIs."
   ]
  },
  {
   "cell_type": "code",
   "execution_count": 21,
   "metadata": {
    "scrolled": true
   },
   "outputs": [
    {
     "name": "stdout",
     "output_type": "stream",
     "text": [
      "Model: \"vgg16\"\n",
      "_________________________________________________________________\n",
      "Layer (type)                 Output Shape              Param #   \n",
      "=================================================================\n",
      "input_1 (InputLayer)         [(None, 192, 256, 3)]     0         \n",
      "_________________________________________________________________\n",
      "block1_conv1 (Conv2D)        (None, 192, 256, 64)      1792      \n",
      "_________________________________________________________________\n",
      "block1_conv2 (Conv2D)        (None, 192, 256, 64)      36928     \n",
      "_________________________________________________________________\n",
      "block1_pool (MaxPooling2D)   (None, 96, 128, 64)       0         \n",
      "_________________________________________________________________\n",
      "block2_conv1 (Conv2D)        (None, 96, 128, 128)      73856     \n",
      "_________________________________________________________________\n",
      "block2_conv2 (Conv2D)        (None, 96, 128, 128)      147584    \n",
      "_________________________________________________________________\n",
      "block2_pool (MaxPooling2D)   (None, 48, 64, 128)       0         \n",
      "_________________________________________________________________\n",
      "block3_conv1 (Conv2D)        (None, 48, 64, 256)       295168    \n",
      "_________________________________________________________________\n",
      "block3_conv2 (Conv2D)        (None, 48, 64, 256)       590080    \n",
      "_________________________________________________________________\n",
      "block3_conv3 (Conv2D)        (None, 48, 64, 256)       590080    \n",
      "_________________________________________________________________\n",
      "block3_pool (MaxPooling2D)   (None, 24, 32, 256)       0         \n",
      "_________________________________________________________________\n",
      "block4_conv1 (Conv2D)        (None, 24, 32, 512)       1180160   \n",
      "_________________________________________________________________\n",
      "block4_conv2 (Conv2D)        (None, 24, 32, 512)       2359808   \n",
      "_________________________________________________________________\n",
      "block4_conv3 (Conv2D)        (None, 24, 32, 512)       2359808   \n",
      "_________________________________________________________________\n",
      "block4_pool (MaxPooling2D)   (None, 12, 16, 512)       0         \n",
      "_________________________________________________________________\n",
      "block5_conv1 (Conv2D)        (None, 12, 16, 512)       2359808   \n",
      "_________________________________________________________________\n",
      "block5_conv2 (Conv2D)        (None, 12, 16, 512)       2359808   \n",
      "_________________________________________________________________\n",
      "block5_conv3 (Conv2D)        (None, 12, 16, 512)       2359808   \n",
      "_________________________________________________________________\n",
      "block5_pool (MaxPooling2D)   (None, 6, 8, 512)         0         \n",
      "=================================================================\n",
      "Total params: 14,714,688\n",
      "Trainable params: 14,714,688\n",
      "Non-trainable params: 0\n",
      "_________________________________________________________________\n"
     ]
    }
   ],
   "source": [
    "vgg16_pretrained = VGG16(include_top=False, weights='imagenet', input_shape=(192,256,3))\n",
    "vgg16_pretrained.summary()"
   ]
  },
  {
   "cell_type": "markdown",
   "metadata": {},
   "source": [
    "## The U-Net architecture\n",
    "U-Net was originally published as a convolutional network for biomedical image segmentation. The U-Net model was named after its U-shape that consists of two paths, which are commonly referred to in deep learning as the encoder- and decoder networks. U-Net's encoder captures the context of input images, and it contains a symmetric decoder that allows to localization using a technique called upsampling (fractional convolution or transposed convolution.)\n",
    "<br><br>\n",
    "![Unet](resources/Unet.PNG)\n",
    "\n",
    "\n",
    "### VGG16-U-Net\n",
    "The idea is to use the pre-trained VGG16 model as the encoder to a U-Net model, and also to construct a symmetric decoder network."
   ]
  },
  {
   "cell_type": "code",
   "execution_count": 32,
   "metadata": {
    "scrolled": true
   },
   "outputs": [],
   "source": [
    "class VGGUnet(object):\n",
    "    \n",
    "    def __init__(self, input_shape=(192, 256, 3), num_classes=3, learning_rate=1e-4):\n",
    "        self.input_shape = input_shape\n",
    "        self.num_classes = num_classes\n",
    "        self.model = self._build_model(self.input_shape, self.num_classes)\n",
    "        self.optimizer = Adam(learning_rate=learning_rate)\n",
    "        self.model.compile(optimizer=self.optimizer, loss='binary_crossentropy', metrics=['accuracy'])\n",
    "        \n",
    "    def _build_model(self, input_shape, num_classes):\n",
    "        \"\"\"Builds a UNet model from Keras' pretrained VGG16 model.\"\"\"\n",
    "        encoder = VGG16(include_top=False, weights='imagenet', input_shape=input_shape)\n",
    "        encoder.layers[0]._name  = 'input_image'\n",
    "        # Decoder block1, from Encoder output\n",
    "        encoder_output = encoder.output\n",
    "        conv_0 = Conv2D(512, 3, activation='relu', padding='same')(encoder_output)\n",
    "        conv_0_up = Conv2DTranspose(256, 3, strides=2, activation='relu', padding='same')(conv_0)\n",
    "        \n",
    "        # Decoder block 1, concat block with encoder block 5\n",
    "        concat_1 = concatenate([encoder.get_layer('block5_conv3').output, conv_0_up])\n",
    "        conv_1 = Conv2D(512, 3, activation='relu', padding='same')(concat_1)\n",
    "        conv_1_up =  Conv2DTranspose(256, 3, strides=2, activation='relu', padding='same')(conv_1)\n",
    "        \n",
    "        # Decoder block 2, concat block with encoder block 4\n",
    "        concat_2 = concatenate([encoder.get_layer('block4_conv3').output, conv_1_up])\n",
    "        conv_2 = Conv2D(512, (3, 3), activation='relu', padding='same')(concat_2)\n",
    "        conv_2_up =  Conv2DTranspose(256, 3, strides=2, activation='relu', padding='same')(conv_2)\n",
    "        \n",
    "        # Decoder block 3, concat block with encoder block 3\n",
    "        concat_3 = concatenate([encoder.get_layer('block3_conv3').output, conv_2_up])\n",
    "        conv_3 = Conv2D(256, (3, 3), activation='relu', padding='same')(concat_3)\n",
    "        conv_3_up =  Conv2DTranspose(128, 3, strides=2, activation='relu', padding='same')(conv_3)\n",
    "        \n",
    "        # Decoder block 4, concat block with encoder block 2\n",
    "        concat_4 = concatenate([encoder.get_layer('block2_conv2').output, conv_3_up])\n",
    "        conv_4 = Conv2D(128, (3, 3), activation='relu', padding='same')(concat_4)\n",
    "        conv_4_up =  Conv2DTranspose(64, 3, strides=2, activation='relu', padding='same')(conv_4)\n",
    "        \n",
    "        # Decoder block 5, concat block with encoder block 1\n",
    "        concat_5 = concatenate([encoder.get_layer('block1_conv2').output, conv_4_up])\n",
    "        conv_5 = Conv2D(32, 3, activation='relu', padding='same')(concat_5)\n",
    "        \n",
    "        outputs = Conv2D(num_classes, 1, activation='softmax', name='output_mask')(conv_5)\n",
    "        \n",
    "        return Model(inputs=encoder.layers[0].input, outputs=outputs, name='VGGUNet')\n",
    "    \n",
    "    def summary(self):\n",
    "        print(self.model.summary())\n",
    "\n",
    "    def train(self, training_data, validation_data, epochs):\n",
    "        self.model.fit(training_data, validation_data=validation_data, epochs=epochs)\n",
    "    \n",
    "    def predict(self, X):\n",
    "        return np.squeeze(self.model.predict(X))\n",
    "\n",
    "def post_processing(fg_bg_pred, kernel_dims):\n",
    "    \"\"\"Apply morhpolical transformations of closing\n",
    "    and opening\"\"\"\n",
    "    kernel = np.ones((kernel_dims, kernel_dims),np.uint8)\n",
    "    fg_bg_pred = cv2.morphologyEx(fg_bg_pred, cv2.MORPH_OPEN, kernel)\n",
    "    fg_bg_pred = cv2.morphologyEx(fg_bg_pred, cv2.MORPH_CLOSE, kernel)\n",
    "    return fg_bg_pred\n",
    "\n",
    "def set_corner_segmentation(fg_bg_pred, corner_pred):\n",
    "    result = fg_bg_pred.copy()\n",
    "    corner_pred = (corner_pred > 0.5).astype(np.uint8)\n",
    "    contours, _ = cv2.findContours(corner_pred, cv2.RETR_EXTERNAL, cv2.CHAIN_APPROX_SIMPLE)\n",
    "    areas = np.array([cv2.contourArea(contour) for contour in contours])\n",
    "    # Draw a centered rectangle for the 4 largest contour areas\n",
    "    for index in areas.argsort()[-4:][::-1]:\n",
    "        x, y, w, h = cv2.boundingRect(contours[index])\n",
    "        result = cv2.rectangle(result.astype(np.float32), (x, y),\n",
    "                              (x + HYPER_PARAMS['CORNER_RECT_DIMS'][0],\n",
    "                               y + HYPER_PARAMS['CORNER_RECT_DIMS'][1]), 2, -1)\n",
    "    return result\n",
    "        \n",
    "def test_predictions(num_classes, vgg_unet, test_images, test_masks, morph_dims, plot=True):\n",
    "    predict_count = 0\n",
    "    total_score = 0\n",
    "    for image, mask in zip(test_images, test_masks) :\n",
    "        predict_count += 1\n",
    "        pred = vgg_unet.predict(image)\n",
    "        fg_bg_pred = pred[:, :, 0:2]\n",
    "        fg_bg_pred = np.argmax(fg_bg_pred, axis=-1).astype(np.float32)\n",
    "        fg_bg_pred = post_processing(fg_bg_pred, morph_dims)\n",
    "        score = accuracy_score(fg_bg_pred.flatten(), mask.flatten().round())\n",
    "        if num_classes == 3:\n",
    "            corner_pred = pred[:, :, 2]\n",
    "            final_image = set_corner_segmentation(fg_bg_pred, corner_pred)\n",
    "        else:\n",
    "            final_image = fg_bg_pred\n",
    "        print(\"Prediction #{0}, accuracy:{1}%\".format(predict_count, round(score *100, 2)) )\n",
    "        total_score += score\n",
    "        if plot:\n",
    "            show_image(final_image)\n",
    "            plt.show()\n",
    "    print(\"Average accuracy:{0}%\".format(round(total_score/predict_count *100, 2)) )  "
   ]
  },
  {
   "cell_type": "code",
   "execution_count": 23,
   "metadata": {
    "scrolled": true
   },
   "outputs": [],
   "source": [
    "vgg_unet = VGGUnet(learning_rate=HYPER_PARAMS['MODEL_LEARN_RATE'])"
   ]
  },
  {
   "cell_type": "code",
   "execution_count": 24,
   "metadata": {
    "scrolled": true
   },
   "outputs": [
    {
     "name": "stdout",
     "output_type": "stream",
     "text": [
      "Model: \"VGGUNet\"\n",
      "__________________________________________________________________________________________________\n",
      "Layer (type)                    Output Shape         Param #     Connected to                     \n",
      "==================================================================================================\n",
      "input_image (InputLayer)        [(None, 192, 256, 3) 0                                            \n",
      "__________________________________________________________________________________________________\n",
      "block1_conv1 (Conv2D)           (None, 192, 256, 64) 1792        input_image[0][0]                \n",
      "__________________________________________________________________________________________________\n",
      "block1_conv2 (Conv2D)           (None, 192, 256, 64) 36928       block1_conv1[0][0]               \n",
      "__________________________________________________________________________________________________\n",
      "block1_pool (MaxPooling2D)      (None, 96, 128, 64)  0           block1_conv2[0][0]               \n",
      "__________________________________________________________________________________________________\n",
      "block2_conv1 (Conv2D)           (None, 96, 128, 128) 73856       block1_pool[0][0]                \n",
      "__________________________________________________________________________________________________\n",
      "block2_conv2 (Conv2D)           (None, 96, 128, 128) 147584      block2_conv1[0][0]               \n",
      "__________________________________________________________________________________________________\n",
      "block2_pool (MaxPooling2D)      (None, 48, 64, 128)  0           block2_conv2[0][0]               \n",
      "__________________________________________________________________________________________________\n",
      "block3_conv1 (Conv2D)           (None, 48, 64, 256)  295168      block2_pool[0][0]                \n",
      "__________________________________________________________________________________________________\n",
      "block3_conv2 (Conv2D)           (None, 48, 64, 256)  590080      block3_conv1[0][0]               \n",
      "__________________________________________________________________________________________________\n",
      "block3_conv3 (Conv2D)           (None, 48, 64, 256)  590080      block3_conv2[0][0]               \n",
      "__________________________________________________________________________________________________\n",
      "block3_pool (MaxPooling2D)      (None, 24, 32, 256)  0           block3_conv3[0][0]               \n",
      "__________________________________________________________________________________________________\n",
      "block4_conv1 (Conv2D)           (None, 24, 32, 512)  1180160     block3_pool[0][0]                \n",
      "__________________________________________________________________________________________________\n",
      "block4_conv2 (Conv2D)           (None, 24, 32, 512)  2359808     block4_conv1[0][0]               \n",
      "__________________________________________________________________________________________________\n",
      "block4_conv3 (Conv2D)           (None, 24, 32, 512)  2359808     block4_conv2[0][0]               \n",
      "__________________________________________________________________________________________________\n",
      "block4_pool (MaxPooling2D)      (None, 12, 16, 512)  0           block4_conv3[0][0]               \n",
      "__________________________________________________________________________________________________\n",
      "block5_conv1 (Conv2D)           (None, 12, 16, 512)  2359808     block4_pool[0][0]                \n",
      "__________________________________________________________________________________________________\n",
      "block5_conv2 (Conv2D)           (None, 12, 16, 512)  2359808     block5_conv1[0][0]               \n",
      "__________________________________________________________________________________________________\n",
      "block5_conv3 (Conv2D)           (None, 12, 16, 512)  2359808     block5_conv2[0][0]               \n",
      "__________________________________________________________________________________________________\n",
      "block5_pool (MaxPooling2D)      (None, 6, 8, 512)    0           block5_conv3[0][0]               \n",
      "__________________________________________________________________________________________________\n",
      "conv2d (Conv2D)                 (None, 6, 8, 512)    2359808     block5_pool[0][0]                \n",
      "__________________________________________________________________________________________________\n",
      "conv2d_transpose (Conv2DTranspo (None, 12, 16, 256)  1179904     conv2d[0][0]                     \n",
      "__________________________________________________________________________________________________\n",
      "concatenate (Concatenate)       (None, 12, 16, 768)  0           block5_conv3[0][0]               \n",
      "                                                                 conv2d_transpose[0][0]           \n",
      "__________________________________________________________________________________________________\n",
      "conv2d_1 (Conv2D)               (None, 12, 16, 512)  3539456     concatenate[0][0]                \n",
      "__________________________________________________________________________________________________\n",
      "conv2d_transpose_1 (Conv2DTrans (None, 24, 32, 256)  1179904     conv2d_1[0][0]                   \n",
      "__________________________________________________________________________________________________\n",
      "concatenate_1 (Concatenate)     (None, 24, 32, 768)  0           block4_conv3[0][0]               \n",
      "                                                                 conv2d_transpose_1[0][0]         \n",
      "__________________________________________________________________________________________________\n",
      "conv2d_2 (Conv2D)               (None, 24, 32, 512)  3539456     concatenate_1[0][0]              \n",
      "__________________________________________________________________________________________________\n",
      "conv2d_transpose_2 (Conv2DTrans (None, 48, 64, 256)  1179904     conv2d_2[0][0]                   \n",
      "__________________________________________________________________________________________________\n",
      "concatenate_2 (Concatenate)     (None, 48, 64, 512)  0           block3_conv3[0][0]               \n",
      "                                                                 conv2d_transpose_2[0][0]         \n",
      "__________________________________________________________________________________________________\n",
      "conv2d_3 (Conv2D)               (None, 48, 64, 256)  1179904     concatenate_2[0][0]              \n",
      "__________________________________________________________________________________________________\n",
      "conv2d_transpose_3 (Conv2DTrans (None, 96, 128, 128) 295040      conv2d_3[0][0]                   \n",
      "__________________________________________________________________________________________________\n",
      "concatenate_3 (Concatenate)     (None, 96, 128, 256) 0           block2_conv2[0][0]               \n",
      "                                                                 conv2d_transpose_3[0][0]         \n",
      "__________________________________________________________________________________________________\n",
      "conv2d_4 (Conv2D)               (None, 96, 128, 128) 295040      concatenate_3[0][0]              \n",
      "__________________________________________________________________________________________________\n",
      "conv2d_transpose_4 (Conv2DTrans (None, 192, 256, 64) 73792       conv2d_4[0][0]                   \n",
      "__________________________________________________________________________________________________\n",
      "concatenate_4 (Concatenate)     (None, 192, 256, 128 0           block1_conv2[0][0]               \n",
      "                                                                 conv2d_transpose_4[0][0]         \n",
      "__________________________________________________________________________________________________\n",
      "conv2d_5 (Conv2D)               (None, 192, 256, 32) 36896       concatenate_4[0][0]              \n",
      "__________________________________________________________________________________________________\n",
      "output_mask (Conv2D)            (None, 192, 256, 3)  99          conv2d_5[0][0]                   \n",
      "==================================================================================================\n",
      "Total params: 29,573,891\n",
      "Trainable params: 29,573,891\n",
      "Non-trainable params: 0\n",
      "__________________________________________________________________________________________________\n",
      "None\n"
     ]
    }
   ],
   "source": [
    "vgg_unet.summary()"
   ]
  },
  {
   "cell_type": "markdown",
   "metadata": {},
   "source": [
    "# Background, Foreground and Corner Segmentation\n",
    "\n",
    "This 3-class prediction produces slightly lower accuracy for background and foreground classification, <br>\n",
    "hence a 2-class model is additionaly implemented, for a final accuracy to compare with the GMM.\n"
   ]
  },
  {
   "cell_type": "markdown",
   "metadata": {},
   "source": [
    "### Training"
   ]
  },
  {
   "cell_type": "code",
   "execution_count": 38,
   "metadata": {
    "scrolled": true
   },
   "outputs": [],
   "source": [
    "NUM_CLASSES = 3"
   ]
  },
  {
   "cell_type": "code",
   "execution_count": 25,
   "metadata": {
    "scrolled": true
   },
   "outputs": [],
   "source": [
    "training_data, validation_data, test_images_, test_masks_ = preprocess_image_data(\n",
    "                                                            train_images, train_masks, train_masks_corners,\\\n",
    "                                                            validate_images, validate_masks, validate_masks_corners,\\\n",
    "                                                            test_images, test_masks, test_masks_corners,\n",
    "                                                            num_classes = NUM_CLASSES)"
   ]
  },
  {
   "cell_type": "code",
   "execution_count": 26,
   "metadata": {
    "scrolled": true
   },
   "outputs": [],
   "source": [
    "vgg_unet = VGGUnet(learning_rate=HYPER_PARAMS['MODEL_LEARN_RATE'],\n",
    "                   num_classes = NUM_CLASSES)"
   ]
  },
  {
   "cell_type": "code",
   "execution_count": 27,
   "metadata": {
    "scrolled": true
   },
   "outputs": [
    {
     "name": "stdout",
     "output_type": "stream",
     "text": [
      "Epoch 1/10\n",
      "136/136 [==============================] - 153s 1s/step - loss: 0.4700 - accuracy: 0.7316 - val_loss: 0.1925 - val_accuracy: 0.8919\n",
      "Epoch 2/10\n",
      "136/136 [==============================] - 162s 1s/step - loss: 0.1000 - accuracy: 0.9471 - val_loss: 0.0689 - val_accuracy: 0.9657\n",
      "Epoch 3/10\n",
      "136/136 [==============================] - 160s 1s/step - loss: 0.0552 - accuracy: 0.9729 - val_loss: 0.0472 - val_accuracy: 0.9760\n",
      "Epoch 4/10\n",
      "136/136 [==============================] - 161s 1s/step - loss: 0.0424 - accuracy: 0.9777 - val_loss: 0.0387 - val_accuracy: 0.9785\n",
      "Epoch 5/10\n",
      "136/136 [==============================] - 161s 1s/step - loss: 0.0337 - accuracy: 0.9805 - val_loss: 0.0312 - val_accuracy: 0.9814\n",
      "Epoch 6/10\n",
      "136/136 [==============================] - 167s 1s/step - loss: 0.0262 - accuracy: 0.9841 - val_loss: 0.0293 - val_accuracy: 0.9831\n",
      "Epoch 7/10\n",
      "136/136 [==============================] - 170s 1s/step - loss: 0.0225 - accuracy: 0.9863 - val_loss: 0.0255 - val_accuracy: 0.9848\n",
      "Epoch 8/10\n",
      "136/136 [==============================] - 167s 1s/step - loss: 0.0216 - accuracy: 0.9868 - val_loss: 0.0260 - val_accuracy: 0.9845\n",
      "Epoch 9/10\n",
      "136/136 [==============================] - 181s 1s/step - loss: 0.0188 - accuracy: 0.9884 - val_loss: 0.0269 - val_accuracy: 0.9845\n",
      "Epoch 10/10\n",
      "136/136 [==============================] - 188s 1s/step - loss: 0.0167 - accuracy: 0.9896 - val_loss: 0.0274 - val_accuracy: 0.9844\n"
     ]
    }
   ],
   "source": [
    "vgg_unet.train(training_data, validation_data, epochs=HYPER_PARAMS['MODEL_LEARN_EPOCHS'])"
   ]
  },
  {
   "cell_type": "markdown",
   "metadata": {},
   "source": [
    "### Test predictions"
   ]
  },
  {
   "cell_type": "code",
   "execution_count": 39,
   "metadata": {
    "scrolled": false
   },
   "outputs": [
    {
     "name": "stdout",
     "output_type": "stream",
     "text": [
      "Prediction #1, accuracy:98.95%\n"
     ]
    },
    {
     "data": {
      "image/png": "[encoded data removed]",
      "text/plain": [
       "<Figure size 432x288 with 1 Axes>"
      ]
     },
     "metadata": {},
     "output_type": "display_data"
    },
    {
     "name": "stdout",
     "output_type": "stream",
     "text": [
      "Prediction #2, accuracy:98.55%\n"
     ]
    },
    {
     "data": {
      "image/png": "[encoded data removed]",
      "text/plain": [
       "<Figure size 432x288 with 1 Axes>"
      ]
     },
     "metadata": {},
     "output_type": "display_data"
    },
    {
     "name": "stdout",
     "output_type": "stream",
     "text": [
      "Prediction #3, accuracy:99.2%\n"
     ]
    },
    {
     "data": {
      "image/png": "[encoded data removed]",
      "text/plain": [
       "<Figure size 432x288 with 1 Axes>"
      ]
     },
     "metadata": {},
     "output_type": "display_data"
    },
    {
     "name": "stdout",
     "output_type": "stream",
     "text": [
      "Prediction #4, accuracy:98.9%\n"
     ]
    },
    {
     "data": {
      "image/png": "[encoded data removed]",
      "text/plain": [
       "<Figure size 432x288 with 1 Axes>"
      ]
     },
     "metadata": {},
     "output_type": "display_data"
    },
    {
     "name": "stdout",
     "output_type": "stream",
     "text": [
      "Prediction #5, accuracy:98.91%\n"
     ]
    },
    {
     "data": {
      "image/png": "[encoded data removed]",
      "text/plain": [
       "<Figure size 432x288 with 1 Axes>"
      ]
     },
     "metadata": {},
     "output_type": "display_data"
    },
    {
     "name": "stdout",
     "output_type": "stream",
     "text": [
      "Prediction #6, accuracy:99.01%\n"
     ]
    },
    {
     "data": {
      "image/png": "[encoded data removed]",
      "text/plain": [
       "<Figure size 432x288 with 1 Axes>"
      ]
     },
     "metadata": {},
     "output_type": "display_data"
    },
    {
     "name": "stdout",
     "output_type": "stream",
     "text": [
      "Prediction #7, accuracy:98.75%\n"
     ]
    },
    {
     "data": {
      "image/png": "[encoded data removed]",
      "text/plain": [
       "<Figure size 432x288 with 1 Axes>"
      ]
     },
     "metadata": {},
     "output_type": "display_data"
    },
    {
     "name": "stdout",
     "output_type": "stream",
     "text": [
      "Average accuracy:98.9%\n"
     ]
    }
   ],
   "source": [
    "test_predictions(NUM_CLASSES, vgg_unet, test_images_, test_masks_, HYPER_PARAMS['MORPH_KERNEL_DIMS'])"
   ]
  },
  {
   "cell_type": "markdown",
   "metadata": {},
   "source": [
    "# Background and Foreground\n",
    "This 2-class prediction produces improved accuracy for background and foreground classification."
   ]
  },
  {
   "cell_type": "markdown",
   "metadata": {},
   "source": [
    "### Training"
   ]
  },
  {
   "cell_type": "code",
   "execution_count": 40,
   "metadata": {
    "scrolled": true
   },
   "outputs": [],
   "source": [
    "NUM_CLASSES = 2"
   ]
  },
  {
   "cell_type": "code",
   "execution_count": 41,
   "metadata": {
    "scrolled": true
   },
   "outputs": [],
   "source": [
    "training_data, validation_data, test_images_, test_masks_ = preprocess_image_data(\n",
    "                                                            train_images, train_masks, train_masks_corners,\\\n",
    "                                                            validate_images, validate_masks, validate_masks_corners,\\\n",
    "                                                            test_images, test_masks, test_masks_corners,\n",
    "                                                            num_classes = NUM_CLASSES)"
   ]
  },
  {
   "cell_type": "code",
   "execution_count": 42,
   "metadata": {
    "scrolled": true
   },
   "outputs": [],
   "source": [
    "vgg_unet = VGGUnet(learning_rate=HYPER_PARAMS['MODEL_LEARN_RATE'],\n",
    "                   num_classes = NUM_CLASSES)"
   ]
  },
  {
   "cell_type": "code",
   "execution_count": 43,
   "metadata": {
    "scrolled": true
   },
   "outputs": [
    {
     "name": "stdout",
     "output_type": "stream",
     "text": [
      "Epoch 1/10\n",
      "136/136 [==============================] - 165s 1s/step - loss: 0.4411 - accuracy: 0.7918 - val_loss: 0.1608 - val_accuracy: 0.9363\n",
      "Epoch 2/10\n",
      "136/136 [==============================] - 170s 1s/step - loss: 0.0884 - accuracy: 0.9646 - val_loss: 0.0445 - val_accuracy: 0.9821\n",
      "Epoch 3/10\n",
      "136/136 [==============================] - 175s 1s/step - loss: 0.0413 - accuracy: 0.9837 - val_loss: 0.0330 - val_accuracy: 0.9863\n",
      "Epoch 4/10\n",
      "136/136 [==============================] - 178s 1s/step - loss: 0.0296 - accuracy: 0.9882 - val_loss: 0.0287 - val_accuracy: 0.9882\n",
      "Epoch 5/10\n",
      "136/136 [==============================] - 182s 1s/step - loss: 0.0241 - accuracy: 0.9903 - val_loss: 0.0262 - val_accuracy: 0.9894\n",
      "Epoch 6/10\n",
      "136/136 [==============================] - 181s 1s/step - loss: 0.0204 - accuracy: 0.9917 - val_loss: 0.0242 - val_accuracy: 0.9903\n",
      "Epoch 7/10\n",
      "136/136 [==============================] - 177s 1s/step - loss: 0.0179 - accuracy: 0.9926 - val_loss: 0.0237 - val_accuracy: 0.9907\n",
      "Epoch 8/10\n",
      "136/136 [==============================] - 171s 1s/step - loss: 0.0160 - accuracy: 0.9934 - val_loss: 0.0237 - val_accuracy: 0.9909\n",
      "Epoch 9/10\n",
      "136/136 [==============================] - 163s 1s/step - loss: 0.0148 - accuracy: 0.9938 - val_loss: 0.0235 - val_accuracy: 0.9909\n",
      "Epoch 10/10\n",
      "136/136 [==============================] - 163s 1s/step - loss: 0.0146 - accuracy: 0.9939 - val_loss: 0.0310 - val_accuracy: 0.9896\n"
     ]
    }
   ],
   "source": [
    "vgg_unet.train(training_data, validation_data, epochs=HYPER_PARAMS['MODEL_LEARN_EPOCHS'])"
   ]
  },
  {
   "cell_type": "markdown",
   "metadata": {},
   "source": [
    "### Test predictions"
   ]
  },
  {
   "cell_type": "code",
   "execution_count": 44,
   "metadata": {
    "scrolled": false
   },
   "outputs": [
    {
     "name": "stdout",
     "output_type": "stream",
     "text": [
      "Prediction #1, accuracy:99.18%\n"
     ]
    },
    {
     "data": {
      "image/png": "[encoded data removed]",
      "text/plain": [
       "<Figure size 432x288 with 1 Axes>"
      ]
     },
     "metadata": {},
     "output_type": "display_data"
    },
    {
     "name": "stdout",
     "output_type": "stream",
     "text": [
      "Prediction #2, accuracy:99.14%\n"
     ]
    },
    {
     "data": {
      "image/png": "[encoded data removed]",
      "text/plain": [
       "<Figure size 432x288 with 1 Axes>"
      ]
     },
     "metadata": {},
     "output_type": "display_data"
    },
    {
     "name": "stdout",
     "output_type": "stream",
     "text": [
      "Prediction #3, accuracy:99.36%\n"
     ]
    },
    {
     "data": {
      "image/png": "[encoded data removed]",
      "text/plain": [
       "<Figure size 432x288 with 1 Axes>"
      ]
     },
     "metadata": {},
     "output_type": "display_data"
    },
    {
     "name": "stdout",
     "output_type": "stream",
     "text": [
      "Prediction #4, accuracy:99.12%\n"
     ]
    },
    {
     "data": {
      "image/png": "[encoded data removed]",
      "text/plain": [
       "<Figure size 432x288 with 1 Axes>"
      ]
     },
     "metadata": {},
     "output_type": "display_data"
    },
    {
     "name": "stdout",
     "output_type": "stream",
     "text": [
      "Prediction #5, accuracy:98.98%\n"
     ]
    },
    {
     "data": {
      "image/png": "[encoded data removed]",
      "text/plain": [
       "<Figure size 432x288 with 1 Axes>"
      ]
     },
     "metadata": {},
     "output_type": "display_data"
    },
    {
     "name": "stdout",
     "output_type": "stream",
     "text": [
      "Prediction #6, accuracy:99.08%\n"
     ]
    },
    {
     "data": {
      "image/png": "[encoded data removed]",
      "text/plain": [
       "<Figure size 432x288 with 1 Axes>"
      ]
     },
     "metadata": {},
     "output_type": "display_data"
    },
    {
     "name": "stdout",
     "output_type": "stream",
     "text": [
      "Prediction #7, accuracy:99.17%\n"
     ]
    },
    {
     "data": {
      "image/png": "[encoded data removed]",
      "text/plain": [
       "<Figure size 432x288 with 1 Axes>"
      ]
     },
     "metadata": {},
     "output_type": "display_data"
    },
    {
     "name": "stdout",
     "output_type": "stream",
     "text": [
      "Average accuracy:99.15%\n"
     ]
    }
   ],
   "source": [
    "test_predictions(NUM_CLASSES, vgg_unet, test_images_, test_masks_, HYPER_PARAMS['MORPH_KERNEL_DIMS'])"
   ]
  },
  {
   "cell_type": "markdown",
   "metadata": {},
   "source": [
    "## 6-Fold Cross-Validation\n",
    "Since the data set is limited, cross-validation might be used to evaluate the skill of the GMM for the unseen test data. A 6-Fold method is used, which splits the data into 6 groups of 8 puzzle pieces each. The method is popular since it results in a less biased estimate of the model's skill than other methods. The procedure used follows:\n",
    "- Shuffle the test set data randomly\n",
    "- Split the data set randomly into the 6 groups (with 8 image data each.)\n",
    "- Then for each of these groups\n",
    " - Assign the group as a test set\n",
    " - Use all the remaining groups as the training set\n",
    " - Fit the model on the training set and evaluate it using the test set\n",
    " - Compute the score and discard the model\n",
    "- Model performance is then the mean value of all scores"
   ]
  },
  {
   "cell_type": "code",
   "execution_count": null,
   "metadata": {
    "scrolled": true
   },
   "outputs": [],
   "source": []
  }
 ],
 "metadata": {
  "kernelspec": {
   "display_name": "Python 3",
   "language": "python",
   "name": "python3"
  },
  "language_info": {
   "codemirror_mode": {
    "name": "ipython",
    "version": 3
   },
   "file_extension": ".py",
   "mimetype": "text/x-python",
   "name": "python",
   "nbconvert_exporter": "python",
   "pygments_lexer": "ipython3",
   "version": "3.7.6"
  }
 },
 "nbformat": 4,
 "nbformat_minor": 4
}
