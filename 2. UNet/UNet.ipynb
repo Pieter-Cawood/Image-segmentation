{
 "cells": [
  {
   "cell_type": "code",
   "execution_count": 1,
   "metadata": {
    "scrolled": true
   },
   "outputs": [],
   "source": [
    "import time\n",
    "import tensorflow as tf\n",
    "from tensorflow.keras.applications.vgg16 import VGG16\n",
    "from skimage import img_as_float32\n",
    "from tensorflow.keras.models import Model\n",
    "from tensorflow.keras.optimizers import Adam\n",
    "from tensorflow.keras.layers import Conv2D, Conv2DTranspose, concatenate, Dense, Softmax\n",
    "from IPython.display import SVG\n",
    "from tensorflow.keras.utils import model_to_dot\n",
    "from natsort import natsorted\n",
    "import matplotlib.pyplot as plt\n",
    "from glob import glob\n",
    "import json\n",
    "from functools import partial\n",
    "import numpy as np\n",
    "from cachier import cachier\n",
    "from tqdm import tqdm\n",
    "import imageio\n",
    "import cv2 as cv2\n",
    "from math import pi, e, sqrt, cos, sin\n",
    "from scipy.stats import norm, multivariate_normal\n",
    "from scipy.spatial.distance import euclidean\n",
    "from sklearn.metrics import accuracy_score\n",
    "import os\n",
    "from collections import defaultdict\n",
    "os.environ[\"CUDA_VISIBLE_DEVICES\"] = '2'"
   ]
  },
  {
   "cell_type": "code",
   "execution_count": 3,
   "metadata": {
    "scrolled": true
   },
   "outputs": [],
   "source": [
    "ztqdm = partial(tqdm, position=0, leave=True)\n",
    "cachier = partial(cachier, pickle_reload=False, cache_dir='data/cache')"
   ]
  },
  {
   "cell_type": "code",
   "execution_count": 4,
   "metadata": {
    "scrolled": true
   },
   "outputs": [
    {
     "name": "stderr",
     "output_type": "stream",
     "text": [
      "Loading Images: 100%|██████████████████████████████████████████████████████████████████| 48/48 [00:01<00:00, 34.66it/s]\n",
      "Loading Masks: 100%|██████████████████████████████████████████████████████████████████| 48/48 [00:00<00:00, 226.45it/s]\n"
     ]
    }
   ],
   "source": [
    "SIZE = (768, 1024)\n",
    "NEW_SIZE = (256, 192)\n",
    "DATA_PATH_PAIRS = list(zip(\n",
    "    natsorted(glob(f'../data/images-{SIZE[1]}x{SIZE[0]}/*.png')),\n",
    "    natsorted(glob(f'../data/masks-{SIZE[1]}x{SIZE[0]}/*.png')),\n",
    "))\n",
    "DATA_IMGS = np.array(\n",
    "    [cv2.resize(img_as_float32(imageio.imread(img_path)), NEW_SIZE) \n",
    "     for img_path, _ in tqdm(DATA_PATH_PAIRS, 'Loading Images')])\n",
    "DATA_MSKS = np.array(\n",
    "    [cv2.resize(img_as_float32(imageio.imread(msk_path)), NEW_SIZE, interpolation = cv2.INTER_NEAREST) \n",
    "     for _, msk_path in tqdm(DATA_PATH_PAIRS, 'Loading Masks')])"
   ]
  },
  {
   "cell_type": "code",
   "execution_count": 2,
   "metadata": {
    "scrolled": true
   },
   "outputs": [],
   "source": [
    "HYPER_PARAMS = {\n",
    "                'MODEL_LEARN_EPOCHS' : 20,\n",
    "                'MODEL_LEARN_RATE' : 1e-5,\n",
    "                'BASE_IMAGE_SIZE' : (768, 1024),\n",
    "                'SCALED_IMAGE_SIZE' : (192, 256),\n",
    "                'CORNER_RECT_DIMS' : (10, 10),\n",
    "                'MORPH_KERNEL_DIMS' : 5\n",
    "               }"
   ]
  },
  {
   "cell_type": "code",
   "execution_count": 5,
   "metadata": {
    "scrolled": true
   },
   "outputs": [],
   "source": [
    "with open(f'../data/corners.json', mode='r') as f:\n",
    "    DATA_CORNER_NAMES, DATA_CORNERS = json.load(f)\n",
    "    DATA_CORNERS = np.array(DATA_CORNERS)"
   ]
  },
  {
   "cell_type": "code",
   "execution_count": 6,
   "metadata": {
    "scrolled": true
   },
   "outputs": [],
   "source": [
    "def normalise_data(data):\n",
    "    return np.subtract(data, np.min(data))/ np.subtract(np.max(data), np.min(data))\n",
    "\n",
    "def show_image(image,cs=False,cmap= None, title=None):\n",
    "    if cs:\n",
    "        norm_img = normalise_data(image)\n",
    "    else:\n",
    "        norm_img = image\n",
    "    plt.title(title)\n",
    "    plt.imshow(norm_img, cmap= cmap)\n",
    "    plt.xticks([])\n",
    "    plt.yticks([])"
   ]
  },
  {
   "cell_type": "code",
   "execution_count": 7,
   "metadata": {
    "scrolled": true
   },
   "outputs": [],
   "source": [
    "def get_corner_targets(image_ratios, masks, indices):\n",
    "    corner_targets = []\n",
    "    index_count = 0\n",
    "    for corner_ratios in image_ratios[indices]:\n",
    "        corner_mask = masks[indices[index_count]].copy()\n",
    "        for corner_ratio in corner_ratios:\n",
    "            y = int(corner_ratio[1] * HYPER_PARAMS['SCALED_IMAGE_SIZE'][0])\n",
    "            x = int(corner_ratio[0] * HYPER_PARAMS['SCALED_IMAGE_SIZE'][1])\n",
    "            w =  HYPER_PARAMS['CORNER_RECT_DIMS'][0]\n",
    "            h =  HYPER_PARAMS['CORNER_RECT_DIMS'][1]\n",
    "            # Third class between 0 and 255\n",
    "            corner_mask = cv2.rectangle(corner_mask, \n",
    "                                        (int(x - w / 2), int(y - h / 2)),\n",
    "                                        (int(x + w / 2), int(y + h / 2)),\n",
    "                                        (2, 2, 2), \n",
    "                                        -1)\n",
    "                \n",
    "        corner_targets.append(corner_mask)\n",
    "        index_count += 1\n",
    "    return np.array(corner_targets)\n",
    "    \n",
    "def train_test_split(images, masks, corner_ratios, train_size=0.7, validation_size=0.15, test_size=0.15):\n",
    "    \"\"\"\n",
    "    Split a set of images and masks according to a random specified set sizes.\n",
    "\n",
    "    \"\"\"\n",
    "    # Get indices\n",
    "    all_indices = np.arange(len(images))\n",
    "    np.random.shuffle(all_indices)\n",
    "    train_indices = all_indices[0: int(len(images)* train_size) + 1]\n",
    "    validate_inidices = all_indices[len(train_indices): len(train_indices) + int(len(images)* validation_size)]\n",
    "    test_indices = all_indices[len(train_indices)+len(validate_inidices): len(train_indices)+len(validate_inidices)+ int(len(images)* test_size)]\n",
    "    # Train data\n",
    "    train_images = np.array([images[i] for i in train_indices])\n",
    "    train_masks = np.array([masks[i] for i in train_indices])\n",
    "    train_masks_corners = get_corner_targets(corner_ratios, masks, train_indices)\n",
    "    # Validate data \n",
    "    validate_images = np.array([images[i] for i in validate_inidices])\n",
    "    validate_masks = np.array([masks[i] for i in validate_inidices])\n",
    "    validate_masks_corners = get_corner_targets(corner_ratios, masks, validate_inidices)\n",
    "    # Test data  \n",
    "    test_images = np.array([images[i] for i in test_indices])\n",
    "    test_masks = np.array([masks[i] for i in test_indices])\n",
    "    test_masks_corners = get_corner_targets(corner_ratios, masks, test_indices)\n",
    "        \n",
    "    return train_images, train_masks, train_masks_corners,\\\n",
    "           validate_images, validate_masks, validate_masks_corners,\\\n",
    "           test_images, test_masks, test_masks_corners\n",
    "\n",
    "\n",
    "def get_augmented_lists(num_classes, image, mask, gaus=(3, 3)):\n",
    "    \"\"\"\n",
    "    Returns RGB, Gaussian blurred, vertically flipped and horizontally flipped image\n",
    "    and mask augmentations.\n",
    "    \"\"\"\n",
    "        \n",
    "    # RGB image\n",
    "    image_list = [\n",
    "        np.expand_dims(normalise_data(image.astype(np.float32)), axis=0)]\n",
    "    mask_list = [\n",
    "        tf.one_hot(\n",
    "        np.expand_dims(mask.astype(np.int32), axis=0),\n",
    "        depth=num_classes,\n",
    "        dtype=tf.int32)]\n",
    "        \n",
    "    # Gaussian blurred image\n",
    "    image_ = cv2.GaussianBlur(image, gaus, 0).astype(np.float32)  \n",
    "    image_list.append(\n",
    "        np.expand_dims(normalise_data(image_.astype(np.float32)), axis=0))\n",
    "    mask_list.append(\n",
    "                tf.one_hot(\n",
    "                np.expand_dims(mask.astype(np.int32), axis=0),\n",
    "                depth=num_classes,\n",
    "                dtype=tf.int32)\n",
    "                )\n",
    "        \n",
    "    # Vertical flip image \n",
    "    image_ = cv2.flip(image, 0)\n",
    "    image_list.append(\n",
    "        np.expand_dims(normalise_data(image_.astype(np.float32)), axis=0))\n",
    "    mask_ = cv2.flip(mask, 0)\n",
    "    mask_list.append(\n",
    "                tf.one_hot(\n",
    "                np.expand_dims(mask_.astype(np.int32), axis=0),\n",
    "                depth=num_classes,\n",
    "                dtype=tf.int32)\n",
    "                )\n",
    "        \n",
    "    # Horizontal flip image\n",
    "    image_ = cv2.flip(image, 1)\n",
    "    image_list.append(\n",
    "        np.expand_dims(normalise_data(image_.astype(np.float32)), axis=0))\n",
    "    mask_ = cv2.flip(mask, 1)\n",
    "    mask_list.append(\n",
    "                tf.one_hot(\n",
    "                np.expand_dims(mask_.astype(np.int32), axis=0),\n",
    "                depth=num_classes,\n",
    "                dtype=tf.int32)\n",
    "                )\n",
    "    return image_list, mask_list"
   ]
  },
  {
   "cell_type": "markdown",
   "metadata": {},
   "source": [
    "# Train, validation and training split\n",
    "Split data randomly into sets of 70% training, 15% validation and 15% testing"
   ]
  },
  {
   "cell_type": "code",
   "execution_count": 8,
   "metadata": {
    "scrolled": true
   },
   "outputs": [],
   "source": [
    "train_images, train_masks, train_masks_corners, \\\n",
    "validate_images, validate_masks, validate_masks_corners, \\\n",
    "test_images, test_masks, test_masks_corners = train_test_split(DATA_IMGS, DATA_MSKS, DATA_CORNERS,\n",
    "                                                              train_size=0.7, validation_size=0.15, test_size=0.15)"
   ]
  },
  {
   "cell_type": "code",
   "execution_count": 9,
   "metadata": {
    "scrolled": true
   },
   "outputs": [
    {
     "data": {
      "image/png": "[encoded data removed]",
      "text/plain": [
       "<Figure size 432x288 with 1 Axes>"
      ]
     },
     "metadata": {},
     "output_type": "display_data"
    }
   ],
   "source": [
    "show_image(train_images[3])"
   ]
  },
  {
   "cell_type": "code",
   "execution_count": 10,
   "metadata": {
    "scrolled": true
   },
   "outputs": [
    {
     "data": {
      "image/png": "[encoded data removed]",
      "text/plain": [
       "<Figure size 432x288 with 1 Axes>"
      ]
     },
     "metadata": {},
     "output_type": "display_data"
    }
   ],
   "source": [
    "show_image(train_masks[3], cmap='gray')"
   ]
  },
  {
   "cell_type": "code",
   "execution_count": 11,
   "metadata": {
    "scrolled": true
   },
   "outputs": [
    {
     "data": {
      "image/png": "[encoded data removed]",
      "text/plain": [
       "<Figure size 432x288 with 1 Axes>"
      ]
     },
     "metadata": {},
     "output_type": "display_data"
    }
   ],
   "source": [
    "show_image(train_masks_corners[3])"
   ]
  },
  {
   "cell_type": "markdown",
   "metadata": {},
   "source": [
    "# Pre-process data:\n",
    "Create augmented training set (Includes pre-processing of images and masks)"
   ]
  },
  {
   "cell_type": "code",
   "execution_count": 12,
   "metadata": {
    "scrolled": true
   },
   "outputs": [],
   "source": [
    "def preprocess_image_data(train_images, train_masks, train_masks_corners,\n",
    "                          validate_images, validate_masks, validate_masks_corners,\n",
    "                          test_images=None, test_masks=None, test_masks_corners=None, num_classes=3):\n",
    "    \"\"\"Apply augmentation to training set, and one hot encode masks for model training and predictions\"\"\"\n",
    "\n",
    "    augmented_data = []\n",
    "    augmented_masks = []\n",
    "    validate_images_ = []\n",
    "    validate_masks_ = []\n",
    "    test_images_ = []\n",
    "    test_masks_ = []\n",
    "    \n",
    "    if num_classes == 3:\n",
    "        train_masks = train_masks_corners\n",
    "        validate_masks = validate_masks_corners\n",
    "    \n",
    "    # Augmented training data\n",
    "    for train_image, train_mask in zip(train_images, train_masks):\n",
    "        image_list, mask_list = get_augmented_lists(num_classes, train_image, train_mask)\n",
    "        augmented_data += image_list\n",
    "        augmented_masks += mask_list\n",
    "    \n",
    "    # Validation data\n",
    "    for validate_image, validate_mask in zip(validate_images, validate_masks):\n",
    "        validate_images_.append(np.expand_dims(normalise_data(validate_image), axis=0))\n",
    "        validate_masks_.append(\n",
    "                                tf.one_hot(\n",
    "                                np.expand_dims(validate_mask.astype(np.int32), axis=0),\n",
    "                                depth=num_classes,\n",
    "                                dtype=tf.int32))\n",
    "    # Optional testing data\n",
    "    if test_images is not None:\n",
    "        for test_image, test_mask in zip(test_images, test_masks):\n",
    "            test_images_.append(np.expand_dims(normalise_data(test_image), axis=0))\n",
    "            test_masks_.append(test_mask)\n",
    "    \n",
    "    # Create tf dataset\n",
    "    training_data = tf.data.Dataset.from_tensor_slices((\n",
    "        {\n",
    "            'input_image': augmented_data\n",
    "        },\n",
    "        {\n",
    "            'output_mask': augmented_masks\n",
    "        }))\n",
    "\n",
    "    validation_data = tf.data.Dataset.from_tensor_slices((\n",
    "        {\n",
    "            'input_image': validate_images_\n",
    "        },\n",
    "        {\n",
    "            'output_mask': validate_masks_\n",
    "        }))    \n",
    "        \n",
    "    return training_data, validation_data, test_images_, test_masks_"
   ]
  },
  {
   "cell_type": "markdown",
   "metadata": {},
   "source": [
    "## VGG-16\n",
    "\n",
    "The VGG16 model proposed was tested using the ImageNet data set, which contains over 15 million hand labeled high-resolution images, that belong to around 22-thousand categories. The model was trained for weeks, and pre-trained models are commonly available using deep learning APIs."
   ]
  },
  {
   "cell_type": "code",
   "execution_count": 13,
   "metadata": {
    "scrolled": true
   },
   "outputs": [
    {
     "name": "stdout",
     "output_type": "stream",
     "text": [
      "Model: \"vgg16\"\n",
      "_________________________________________________________________\n",
      "Layer (type)                 Output Shape              Param #   \n",
      "=================================================================\n",
      "input_1 (InputLayer)         [(None, 192, 256, 3)]     0         \n",
      "_________________________________________________________________\n",
      "block1_conv1 (Conv2D)        (None, 192, 256, 64)      1792      \n",
      "_________________________________________________________________\n",
      "block1_conv2 (Conv2D)        (None, 192, 256, 64)      36928     \n",
      "_________________________________________________________________\n",
      "block1_pool (MaxPooling2D)   (None, 96, 128, 64)       0         \n",
      "_________________________________________________________________\n",
      "block2_conv1 (Conv2D)        (None, 96, 128, 128)      73856     \n",
      "_________________________________________________________________\n",
      "block2_conv2 (Conv2D)        (None, 96, 128, 128)      147584    \n",
      "_________________________________________________________________\n",
      "block2_pool (MaxPooling2D)   (None, 48, 64, 128)       0         \n",
      "_________________________________________________________________\n",
      "block3_conv1 (Conv2D)        (None, 48, 64, 256)       295168    \n",
      "_________________________________________________________________\n",
      "block3_conv2 (Conv2D)        (None, 48, 64, 256)       590080    \n",
      "_________________________________________________________________\n",
      "block3_conv3 (Conv2D)        (None, 48, 64, 256)       590080    \n",
      "_________________________________________________________________\n",
      "block3_pool (MaxPooling2D)   (None, 24, 32, 256)       0         \n",
      "_________________________________________________________________\n",
      "block4_conv1 (Conv2D)        (None, 24, 32, 512)       1180160   \n",
      "_________________________________________________________________\n",
      "block4_conv2 (Conv2D)        (None, 24, 32, 512)       2359808   \n",
      "_________________________________________________________________\n",
      "block4_conv3 (Conv2D)        (None, 24, 32, 512)       2359808   \n",
      "_________________________________________________________________\n",
      "block4_pool (MaxPooling2D)   (None, 12, 16, 512)       0         \n",
      "_________________________________________________________________\n",
      "block5_conv1 (Conv2D)        (None, 12, 16, 512)       2359808   \n",
      "_________________________________________________________________\n",
      "block5_conv2 (Conv2D)        (None, 12, 16, 512)       2359808   \n",
      "_________________________________________________________________\n",
      "block5_conv3 (Conv2D)        (None, 12, 16, 512)       2359808   \n",
      "_________________________________________________________________\n",
      "block5_pool (MaxPooling2D)   (None, 6, 8, 512)         0         \n",
      "=================================================================\n",
      "Total params: 14,714,688\n",
      "Trainable params: 14,714,688\n",
      "Non-trainable params: 0\n",
      "_________________________________________________________________\n"
     ]
    }
   ],
   "source": [
    "vgg16_pretrained = VGG16(include_top=False, weights='imagenet', input_shape=(192,256,3))\n",
    "vgg16_pretrained.summary()"
   ]
  },
  {
   "cell_type": "markdown",
   "metadata": {},
   "source": [
    "## The U-Net architecture\n",
    "U-Net was originally published as a convolutional network for biomedical image segmentation. The U-Net model was named after its U-shape that consists of two paths, which are commonly referred to in deep learning as the encoder- and decoder networks. U-Net's encoder captures the context of input images, and it contains a symmetric decoder that allows to localization using a technique called upsampling (fractional convolution or transposed convolution.)\n",
    "<br><br>\n",
    "![Unet](resources/Unet.PNG)\n",
    "\n",
    "\n",
    "### VGG16-U-Net\n",
    "The idea is to use the pre-trained VGG16 model as the encoder to a U-Net model, and also to construct a symmetric decoder network."
   ]
  },
  {
   "cell_type": "code",
   "execution_count": 14,
   "metadata": {
    "scrolled": true
   },
   "outputs": [],
   "source": [
    "class VGGUnet(object):\n",
    "    \n",
    "    def __init__(self, input_shape=(192, 256, 3), num_classes=3, learning_rate=1e-4):\n",
    "        self.input_shape = input_shape\n",
    "        self.num_classes = num_classes\n",
    "        self.model = self._build_model(self.input_shape, self.num_classes)\n",
    "        self.optimizer = Adam(learning_rate=learning_rate)\n",
    "        self.model.compile(optimizer=self.optimizer, loss='binary_crossentropy', metrics=['accuracy'])\n",
    "        \n",
    "    def _build_model(self, input_shape, num_classes):\n",
    "        \"\"\"Builds a UNet model from Keras' pretrained VGG16 model.\"\"\"\n",
    "        encoder = VGG16(include_top=False, weights='imagenet', input_shape=input_shape)\n",
    "        encoder.layers[0]._name  = 'input_image'\n",
    "        # Decoder block1, from Encoder output\n",
    "        encoder_output = encoder.output\n",
    "        conv_0 = Conv2D(512, 3, activation='relu', padding='same')(encoder_output)\n",
    "        conv_0_up = Conv2DTranspose(256, 3, strides=2, activation='relu', padding='same')(conv_0)\n",
    "        \n",
    "        # Decoder block 1, concat block with encoder block 5\n",
    "        concat_1 = concatenate([encoder.get_layer('block5_conv3').output, conv_0_up])\n",
    "        conv_1 = Conv2D(512, 3, activation='relu', padding='same')(concat_1)\n",
    "        conv_1_up =  Conv2DTranspose(256, 3, strides=2, activation='relu', padding='same')(conv_1)\n",
    "        \n",
    "        # Decoder block 2, concat block with encoder block 4\n",
    "        concat_2 = concatenate([encoder.get_layer('block4_conv3').output, conv_1_up])\n",
    "        conv_2 = Conv2D(512, (3, 3), activation='relu', padding='same')(concat_2)\n",
    "        conv_2_up =  Conv2DTranspose(256, 3, strides=2, activation='relu', padding='same')(conv_2)\n",
    "        \n",
    "        # Decoder block 3, concat block with encoder block 3\n",
    "        concat_3 = concatenate([encoder.get_layer('block3_conv3').output, conv_2_up])\n",
    "        conv_3 = Conv2D(256, (3, 3), activation='relu', padding='same')(concat_3)\n",
    "        conv_3_up =  Conv2DTranspose(128, 3, strides=2, activation='relu', padding='same')(conv_3)\n",
    "        \n",
    "        # Decoder block 4, concat block with encoder block 2\n",
    "        concat_4 = concatenate([encoder.get_layer('block2_conv2').output, conv_3_up])\n",
    "        conv_4 = Conv2D(128, (3, 3), activation='relu', padding='same')(concat_4)\n",
    "        conv_4_up =  Conv2DTranspose(64, 3, strides=2, activation='relu', padding='same')(conv_4)\n",
    "        \n",
    "        # Decoder block 5, concat block with encoder block 1\n",
    "        concat_5 = concatenate([encoder.get_layer('block1_conv2').output, conv_4_up])\n",
    "        conv_5 = Conv2D(32, 3, activation='relu', padding='same')(concat_5)\n",
    "        \n",
    "        outputs = Conv2D(num_classes, 1, activation='softmax', name='output_mask')(conv_5)\n",
    "        \n",
    "        return Model(inputs=encoder.layers[0].input, outputs=outputs, name='VGGUNet')\n",
    "    \n",
    "    def summary(self):\n",
    "        print(self.model.summary())\n",
    "\n",
    "    def train(self, training_data, validation_data, epochs):\n",
    "        self.model.fit(training_data, validation_data=validation_data, epochs=epochs)\n",
    "    \n",
    "    def predict(self, X):\n",
    "        return np.squeeze(self.model.predict(X))\n",
    "\n",
    "def post_processing(fg_bg_pred, kernel_dims):\n",
    "    \"\"\"Apply morhpolical transformations of closing\n",
    "    and opening\"\"\"\n",
    "    kernel = np.ones((kernel_dims, kernel_dims),np.uint8)\n",
    "    fg_bg_pred = cv2.morphologyEx(fg_bg_pred, cv2.MORPH_OPEN, kernel)\n",
    "    fg_bg_pred = cv2.morphologyEx(fg_bg_pred, cv2.MORPH_CLOSE, kernel)\n",
    "    return fg_bg_pred\n",
    "\n",
    "def set_corner_segmentation(fg_bg_pred, corner_pred):\n",
    "    result = fg_bg_pred.copy()\n",
    "    corner_pred = (corner_pred > 0.5).astype(np.uint8)\n",
    "    contours, _ = cv2.findContours(corner_pred, cv2.RETR_EXTERNAL, cv2.CHAIN_APPROX_SIMPLE)\n",
    "    areas = np.array([cv2.contourArea(contour) for contour in contours])\n",
    "    # Draw a centered rectangle for the 4 largest contour areas\n",
    "    for index in areas.argsort()[-4:][::-1]:\n",
    "        x, y, w, h = cv2.boundingRect(contours[index])\n",
    "        result = cv2.rectangle(result.astype(np.float32), (x, y),\n",
    "                              (x + HYPER_PARAMS['CORNER_RECT_DIMS'][0],\n",
    "                               y + HYPER_PARAMS['CORNER_RECT_DIMS'][1]), 2, -1)\n",
    "    return result\n",
    "        \n",
    "def test_predictions(num_classes, vgg_unet, test_images, test_masks, morph_dims, plot=True):\n",
    "    predict_count = 0\n",
    "    total_score = 0\n",
    "    for image, mask in zip(test_images, test_masks) :\n",
    "        predict_count += 1\n",
    "        pred = vgg_unet.predict(image)\n",
    "        fg_bg_pred = pred[:, :, 0:2]\n",
    "        fg_bg_pred = np.argmax(fg_bg_pred, axis=-1).astype(np.float32)\n",
    "        fg_bg_pred = post_processing(fg_bg_pred, morph_dims)\n",
    "        score = accuracy_score(fg_bg_pred.flatten(), mask.flatten().round())\n",
    "        if num_classes == 3:\n",
    "            corner_pred = pred[:, :, 2]\n",
    "            final_image = set_corner_segmentation(fg_bg_pred, corner_pred)\n",
    "        else:\n",
    "            final_image = fg_bg_pred\n",
    "        print(\"Prediction #{0}, accuracy:{1}%\".format(predict_count, round(score *100, 2)) )\n",
    "        total_score += score\n",
    "        if plot:\n",
    "            show_image(final_image)\n",
    "            plt.show()\n",
    "    print(\"Average accuracy:{0}%\".format(round(total_score/predict_count *100, 2)) )  "
   ]
  },
  {
   "cell_type": "code",
   "execution_count": 15,
   "metadata": {
    "scrolled": true
   },
   "outputs": [],
   "source": [
    "vgg_unet = VGGUnet(learning_rate=HYPER_PARAMS['MODEL_LEARN_RATE'])"
   ]
  },
  {
   "cell_type": "code",
   "execution_count": 16,
   "metadata": {
    "scrolled": true
   },
   "outputs": [
    {
     "name": "stdout",
     "output_type": "stream",
     "text": [
      "Model: \"VGGUNet\"\n",
      "__________________________________________________________________________________________________\n",
      "Layer (type)                    Output Shape         Param #     Connected to                     \n",
      "==================================================================================================\n",
      "input_image (InputLayer)        [(None, 192, 256, 3) 0                                            \n",
      "__________________________________________________________________________________________________\n",
      "block1_conv1 (Conv2D)           (None, 192, 256, 64) 1792        input_image[0][0]                \n",
      "__________________________________________________________________________________________________\n",
      "block1_conv2 (Conv2D)           (None, 192, 256, 64) 36928       block1_conv1[0][0]               \n",
      "__________________________________________________________________________________________________\n",
      "block1_pool (MaxPooling2D)      (None, 96, 128, 64)  0           block1_conv2[0][0]               \n",
      "__________________________________________________________________________________________________\n",
      "block2_conv1 (Conv2D)           (None, 96, 128, 128) 73856       block1_pool[0][0]                \n",
      "__________________________________________________________________________________________________\n",
      "block2_conv2 (Conv2D)           (None, 96, 128, 128) 147584      block2_conv1[0][0]               \n",
      "__________________________________________________________________________________________________\n",
      "block2_pool (MaxPooling2D)      (None, 48, 64, 128)  0           block2_conv2[0][0]               \n",
      "__________________________________________________________________________________________________\n",
      "block3_conv1 (Conv2D)           (None, 48, 64, 256)  295168      block2_pool[0][0]                \n",
      "__________________________________________________________________________________________________\n",
      "block3_conv2 (Conv2D)           (None, 48, 64, 256)  590080      block3_conv1[0][0]               \n",
      "__________________________________________________________________________________________________\n",
      "block3_conv3 (Conv2D)           (None, 48, 64, 256)  590080      block3_conv2[0][0]               \n",
      "__________________________________________________________________________________________________\n",
      "block3_pool (MaxPooling2D)      (None, 24, 32, 256)  0           block3_conv3[0][0]               \n",
      "__________________________________________________________________________________________________\n",
      "block4_conv1 (Conv2D)           (None, 24, 32, 512)  1180160     block3_pool[0][0]                \n",
      "__________________________________________________________________________________________________\n",
      "block4_conv2 (Conv2D)           (None, 24, 32, 512)  2359808     block4_conv1[0][0]               \n",
      "__________________________________________________________________________________________________\n",
      "block4_conv3 (Conv2D)           (None, 24, 32, 512)  2359808     block4_conv2[0][0]               \n",
      "__________________________________________________________________________________________________\n",
      "block4_pool (MaxPooling2D)      (None, 12, 16, 512)  0           block4_conv3[0][0]               \n",
      "__________________________________________________________________________________________________\n",
      "block5_conv1 (Conv2D)           (None, 12, 16, 512)  2359808     block4_pool[0][0]                \n",
      "__________________________________________________________________________________________________\n",
      "block5_conv2 (Conv2D)           (None, 12, 16, 512)  2359808     block5_conv1[0][0]               \n",
      "__________________________________________________________________________________________________\n",
      "block5_conv3 (Conv2D)           (None, 12, 16, 512)  2359808     block5_conv2[0][0]               \n",
      "__________________________________________________________________________________________________\n",
      "block5_pool (MaxPooling2D)      (None, 6, 8, 512)    0           block5_conv3[0][0]               \n",
      "__________________________________________________________________________________________________\n",
      "conv2d (Conv2D)                 (None, 6, 8, 512)    2359808     block5_pool[0][0]                \n",
      "__________________________________________________________________________________________________\n",
      "conv2d_transpose (Conv2DTranspo (None, 12, 16, 256)  1179904     conv2d[0][0]                     \n",
      "__________________________________________________________________________________________________\n",
      "concatenate (Concatenate)       (None, 12, 16, 768)  0           block5_conv3[0][0]               \n",
      "                                                                 conv2d_transpose[0][0]           \n",
      "__________________________________________________________________________________________________\n",
      "conv2d_1 (Conv2D)               (None, 12, 16, 512)  3539456     concatenate[0][0]                \n",
      "__________________________________________________________________________________________________\n",
      "conv2d_transpose_1 (Conv2DTrans (None, 24, 32, 256)  1179904     conv2d_1[0][0]                   \n",
      "__________________________________________________________________________________________________\n",
      "concatenate_1 (Concatenate)     (None, 24, 32, 768)  0           block4_conv3[0][0]               \n",
      "                                                                 conv2d_transpose_1[0][0]         \n",
      "__________________________________________________________________________________________________\n",
      "conv2d_2 (Conv2D)               (None, 24, 32, 512)  3539456     concatenate_1[0][0]              \n",
      "__________________________________________________________________________________________________\n",
      "conv2d_transpose_2 (Conv2DTrans (None, 48, 64, 256)  1179904     conv2d_2[0][0]                   \n",
      "__________________________________________________________________________________________________\n",
      "concatenate_2 (Concatenate)     (None, 48, 64, 512)  0           block3_conv3[0][0]               \n",
      "                                                                 conv2d_transpose_2[0][0]         \n",
      "__________________________________________________________________________________________________\n",
      "conv2d_3 (Conv2D)               (None, 48, 64, 256)  1179904     concatenate_2[0][0]              \n",
      "__________________________________________________________________________________________________\n",
      "conv2d_transpose_3 (Conv2DTrans (None, 96, 128, 128) 295040      conv2d_3[0][0]                   \n",
      "__________________________________________________________________________________________________\n",
      "concatenate_3 (Concatenate)     (None, 96, 128, 256) 0           block2_conv2[0][0]               \n",
      "                                                                 conv2d_transpose_3[0][0]         \n",
      "__________________________________________________________________________________________________\n",
      "conv2d_4 (Conv2D)               (None, 96, 128, 128) 295040      concatenate_3[0][0]              \n",
      "__________________________________________________________________________________________________\n",
      "conv2d_transpose_4 (Conv2DTrans (None, 192, 256, 64) 73792       conv2d_4[0][0]                   \n",
      "__________________________________________________________________________________________________\n",
      "concatenate_4 (Concatenate)     (None, 192, 256, 128 0           block1_conv2[0][0]               \n",
      "                                                                 conv2d_transpose_4[0][0]         \n",
      "__________________________________________________________________________________________________\n",
      "conv2d_5 (Conv2D)               (None, 192, 256, 32) 36896       concatenate_4[0][0]              \n",
      "__________________________________________________________________________________________________\n",
      "output_mask (Conv2D)            (None, 192, 256, 3)  99          conv2d_5[0][0]                   \n",
      "==================================================================================================\n",
      "Total params: 29,573,891\n",
      "Trainable params: 29,573,891\n",
      "Non-trainable params: 0\n",
      "__________________________________________________________________________________________________\n",
      "None\n"
     ]
    }
   ],
   "source": [
    "vgg_unet.summary()"
   ]
  },
  {
   "cell_type": "markdown",
   "metadata": {},
   "source": [
    "# Background, Foreground and Corner Segmentation\n",
    "\n",
    "This 3-class prediction produces slightly lower accuracy for background and foreground classification, <br>\n",
    "hence a 2-class model is additionaly implemented, for a final accuracy to compare with the GMM.\n",
    "\n",
    "<u> Class: </u> <br>\n",
    "0 : Background <br>\n",
    "1 : Foreground <br>\n",
    "2 : Corner \n"
   ]
  },
  {
   "cell_type": "markdown",
   "metadata": {},
   "source": [
    "### Training"
   ]
  },
  {
   "cell_type": "code",
   "execution_count": 17,
   "metadata": {
    "scrolled": true
   },
   "outputs": [],
   "source": [
    "NUM_CLASSES = 3"
   ]
  },
  {
   "cell_type": "code",
   "execution_count": 18,
   "metadata": {
    "scrolled": true
   },
   "outputs": [],
   "source": [
    "training_data, validation_data, test_images_, test_masks_ = preprocess_image_data(\n",
    "                                                            train_images, train_masks, train_masks_corners,\\\n",
    "                                                            validate_images, validate_masks, validate_masks_corners,\\\n",
    "                                                            test_images, test_masks, test_masks_corners,\n",
    "                                                            num_classes = NUM_CLASSES)"
   ]
  },
  {
   "cell_type": "code",
   "execution_count": 19,
   "metadata": {
    "scrolled": true
   },
   "outputs": [],
   "source": [
    "vgg_unet = VGGUnet(learning_rate=HYPER_PARAMS['MODEL_LEARN_RATE'],\n",
    "                   num_classes = NUM_CLASSES)"
   ]
  },
  {
   "cell_type": "code",
   "execution_count": 20,
   "metadata": {
    "scrolled": true
   },
   "outputs": [
    {
     "name": "stdout",
     "output_type": "stream",
     "text": [
      "Epoch 1/20\n",
      "136/136 [==============================] - 164s 1s/step - loss: 0.2016 - accuracy: 0.8832 - val_loss: 0.1080 - val_accuracy: 0.9423\n",
      "Epoch 2/20\n",
      "136/136 [==============================] - 162s 1s/step - loss: 0.0840 - accuracy: 0.9574 - val_loss: 0.0571 - val_accuracy: 0.9726\n",
      "Epoch 3/20\n",
      "136/136 [==============================] - 172s 1s/step - loss: 0.0538 - accuracy: 0.9743 - val_loss: 0.0449 - val_accuracy: 0.9783\n",
      "Epoch 4/20\n",
      "136/136 [==============================] - 173s 1s/step - loss: 0.0422 - accuracy: 0.9785 - val_loss: 0.0370 - val_accuracy: 0.9796\n",
      "Epoch 5/20\n",
      "136/136 [==============================] - 169s 1s/step - loss: 0.0307 - accuracy: 0.9821 - val_loss: 0.0272 - val_accuracy: 0.9837\n",
      "Epoch 6/20\n",
      "136/136 [==============================] - 172s 1s/step - loss: 0.0231 - accuracy: 0.9860 - val_loss: 0.0228 - val_accuracy: 0.9861\n",
      "Epoch 7/20\n",
      "136/136 [==============================] - 172s 1s/step - loss: 0.0197 - accuracy: 0.9879 - val_loss: 0.0207 - val_accuracy: 0.9872\n",
      "Epoch 8/20\n",
      "136/136 [==============================] - 171s 1s/step - loss: 0.0177 - accuracy: 0.9891 - val_loss: 0.0194 - val_accuracy: 0.9881\n",
      "Epoch 9/20\n",
      "136/136 [==============================] - 172s 1s/step - loss: 0.0169 - accuracy: 0.9895 - val_loss: 0.0204 - val_accuracy: 0.9872\n",
      "Epoch 10/20\n",
      "136/136 [==============================] - 172s 1s/step - loss: 0.0177 - accuracy: 0.9890 - val_loss: 0.0207 - val_accuracy: 0.9872\n",
      "Epoch 11/20\n",
      "136/136 [==============================] - 166s 1s/step - loss: 0.0173 - accuracy: 0.9893 - val_loss: 0.0237 - val_accuracy: 0.9857\n",
      "Epoch 12/20\n",
      "136/136 [==============================] - 172s 1s/step - loss: 0.0151 - accuracy: 0.9906 - val_loss: 0.0225 - val_accuracy: 0.9865\n",
      "Epoch 13/20\n",
      "136/136 [==============================] - 168s 1s/step - loss: 0.0138 - accuracy: 0.9914 - val_loss: 0.0210 - val_accuracy: 0.9875\n",
      "Epoch 14/20\n",
      "136/136 [==============================] - 170s 1s/step - loss: 0.0129 - accuracy: 0.9920 - val_loss: 0.0196 - val_accuracy: 0.9884\n",
      "Epoch 15/20\n",
      "136/136 [==============================] - 173s 1s/step - loss: 0.0122 - accuracy: 0.9924 - val_loss: 0.0177 - val_accuracy: 0.9894\n",
      "Epoch 16/20\n",
      "136/136 [==============================] - 176s 1s/step - loss: 0.0113 - accuracy: 0.9929 - val_loss: 0.0171 - val_accuracy: 0.9899\n",
      "Epoch 17/20\n",
      "136/136 [==============================] - 171s 1s/step - loss: 0.0106 - accuracy: 0.9933 - val_loss: 0.0169 - val_accuracy: 0.9900\n",
      "Epoch 18/20\n",
      "136/136 [==============================] - 170s 1s/step - loss: 0.0101 - accuracy: 0.9936 - val_loss: 0.0166 - val_accuracy: 0.9903\n",
      "Epoch 19/20\n",
      "136/136 [==============================] - 166s 1s/step - loss: 0.0099 - accuracy: 0.9937 - val_loss: 0.0162 - val_accuracy: 0.9903\n",
      "Epoch 20/20\n",
      "136/136 [==============================] - 169s 1s/step - loss: 0.0102 - accuracy: 0.9936 - val_loss: 0.0203 - val_accuracy: 0.9878\n"
     ]
    }
   ],
   "source": [
    "vgg_unet.train(training_data, validation_data, epochs=HYPER_PARAMS['MODEL_LEARN_EPOCHS'])"
   ]
  },
  {
   "cell_type": "markdown",
   "metadata": {},
   "source": [
    "### Test predictions"
   ]
  },
  {
   "cell_type": "code",
   "execution_count": 21,
   "metadata": {
    "scrolled": false
   },
   "outputs": [
    {
     "name": "stdout",
     "output_type": "stream",
     "text": [
      "Prediction #1, accuracy:98.91%\n"
     ]
    },
    {
     "data": {
      "image/png": "[encoded data removed]",
      "text/plain": [
       "<Figure size 432x288 with 1 Axes>"
      ]
     },
     "metadata": {},
     "output_type": "display_data"
    },
    {
     "name": "stdout",
     "output_type": "stream",
     "text": [
      "Prediction #2, accuracy:98.51%\n"
     ]
    },
    {
     "data": {
      "image/png": "[encoded data removed]",
      "text/plain": [
       "<Figure size 432x288 with 1 Axes>"
      ]
     },
     "metadata": {},
     "output_type": "display_data"
    },
    {
     "name": "stdout",
     "output_type": "stream",
     "text": [
      "Prediction #3, accuracy:99.08%\n"
     ]
    },
    {
     "data": {
      "image/png": "[encoded data removed]",
      "text/plain": [
       "<Figure size 432x288 with 1 Axes>"
      ]
     },
     "metadata": {},
     "output_type": "display_data"
    },
    {
     "name": "stdout",
     "output_type": "stream",
     "text": [
      "Prediction #4, accuracy:99.35%\n"
     ]
    },
    {
     "data": {
      "image/png": "[encoded data removed]",
      "text/plain": [
       "<Figure size 432x288 with 1 Axes>"
      ]
     },
     "metadata": {},
     "output_type": "display_data"
    },
    {
     "name": "stdout",
     "output_type": "stream",
     "text": [
      "Prediction #5, accuracy:99.13%\n"
     ]
    },
    {
     "data": {
      "image/png": "[encoded data removed]",
      "text/plain": [
       "<Figure size 432x288 with 1 Axes>"
      ]
     },
     "metadata": {},
     "output_type": "display_data"
    },
    {
     "name": "stdout",
     "output_type": "stream",
     "text": [
      "Prediction #6, accuracy:99.21%\n"
     ]
    },
    {
     "data": {
      "image/png": "[encoded data removed]",
      "text/plain": [
       "<Figure size 432x288 with 1 Axes>"
      ]
     },
     "metadata": {},
     "output_type": "display_data"
    },
    {
     "name": "stdout",
     "output_type": "stream",
     "text": [
      "Prediction #7, accuracy:99.03%\n"
     ]
    },
    {
     "data": {
      "image/png": "[encoded data removed]",
      "text/plain": [
       "<Figure size 432x288 with 1 Axes>"
      ]
     },
     "metadata": {},
     "output_type": "display_data"
    },
    {
     "name": "stdout",
     "output_type": "stream",
     "text": [
      "Average accuracy:99.03%\n"
     ]
    }
   ],
   "source": [
    "test_predictions(NUM_CLASSES, vgg_unet, test_images_, test_masks_, HYPER_PARAMS['MORPH_KERNEL_DIMS'])"
   ]
  },
  {
   "cell_type": "markdown",
   "metadata": {},
   "source": [
    "# Background and Foreground\n",
    "This 2-class prediction produces improved accuracy for background and foreground classification.\n",
    "\n",
    "<u> Class: </u> <br>\n",
    "0 : Background <br>\n",
    "1 : Foreground <br>\n",
    "\n",
    "## 6-Fold Cross-Validation\n",
    "Since the data set is limited, cross-validation might be used to evaluate the skill of the UNet for the unseen test data. A 6-Fold method is used, which splits the data into 6 groups of 8 puzzle pieces each. The method is popular since it results in a less biased estimate of the model's skill than other methods. The procedure used follows:\n",
    "- Shuffle the test set data randomly\n",
    "- Split the data set randomly into the 6 groups (with 8 image data each.)\n",
    "- Then for each of these groups\n",
    " - Assign the group as a test set\n",
    " - Use all the remaining groups as the training set\n",
    " - Fit the model on the training set and evaluate it using the test set\n",
    " - Compute the score and discard the model\n",
    "- Model performance is then the mean value of all scores"
   ]
  },
  {
   "cell_type": "code",
   "execution_count": 24,
   "metadata": {},
   "outputs": [],
   "source": [
    "def test_predictions_cv(num_classes, vgg_unet, test_images, test_masks, morph_dims, plot=True):\n",
    "    predict_count = 0\n",
    "    total_score = 0\n",
    "    for image, mask in zip(test_images, test_masks) :\n",
    "        predict_count += 1\n",
    "        pred = vgg_unet.predict(image)\n",
    "        fg_bg_pred = pred[:, :, 0:2]\n",
    "        fg_bg_pred = np.argmax(fg_bg_pred, axis=-1).astype(np.float32)\n",
    "        fg_bg_pred = post_processing(fg_bg_pred, morph_dims)\n",
    "        score = accuracy_score(fg_bg_pred.flatten(), mask.flatten().round())\n",
    "        if num_classes == 3:\n",
    "            corner_pred = pred[:, :, 2]\n",
    "            final_image = set_corner_segmentation(fg_bg_pred, corner_pred)\n",
    "        else:\n",
    "            final_image = fg_bg_pred\n",
    "        print(\"Prediction #{0}, accuracy:{1}%\".format(predict_count, round(score *100, 2)) )\n",
    "        total_score += score\n",
    "        if plot:\n",
    "            show_image(final_image)\n",
    "            plt.show()\n",
    "    print(\"Average accuracy:{0}%\".format(round(total_score/predict_count *100, 2)) )  \n",
    "    return round(total_score/predict_count *100, 2)"
   ]
  },
  {
   "cell_type": "code",
   "execution_count": 25,
   "metadata": {
    "scrolled": true
   },
   "outputs": [],
   "source": [
    "def cross_val_manager(folds = 6):\n",
    "    #initialize accuracy list\n",
    "    acc = []\n",
    "    \n",
    "    # copy the data\n",
    "    data_imgs = DATA_IMGS.copy()\n",
    "    data_msks = DATA_MSKS.copy()\n",
    "    \n",
    "    #create groups\n",
    "    #create a random array containing the index of each img number in the data set\n",
    "    #each row of this array will be a group\n",
    "    img_indices = np.random.choice(np.arange(0, data_imgs.shape[0]), replace=False, size=(folds, int(data_imgs.shape[0]/folds)))\n",
    "    \n",
    "    \n",
    "    #main loop that selects one group of images as the test set and the remainder as the training sets\n",
    "    for i in range(img_indices.shape[0]):\n",
    "        print('Fold: {}'.format(i))\n",
    "        training_indices = []\n",
    "        testing_indices = img_indices[i]\n",
    "        for row in range(img_indices.shape[0]):\n",
    "\n",
    "            if row != i:\n",
    "                #print('row: {}'.format(row))\n",
    "                training_indices.append(list(img_indices[row]))\n",
    "        training_indices = np.asarray(training_indices)\n",
    "        #print('\\ntest: {}'. format(testing_indices))\n",
    "        #print('\\ntrain: {}'.format(training_indices))\n",
    "\n",
    "        #flatten the array\n",
    "        train_indices = training_indices.flatten()\n",
    "        \n",
    "        #get training imgs and masks\n",
    "        train_imgs = np.array([data_imgs[i] for i in train_indices])\n",
    "        train_msks = np.array([data_msks[j] for j in train_indices])\n",
    "        #train_masks_corners = get_corner_targets(DATA_CORNERS, data_msks, train_indices)\n",
    "        \n",
    "        #get test imgs and masks\n",
    "        test_imgs = np.array([data_imgs[i] for i in testing_indices])\n",
    "        test_msks = np.array([data_msks[j] for j in testing_indices])\n",
    "        #test_masks_corners = get_corner_targets(DATA_CORNERS, test_msks, testing_indices)\n",
    "        \n",
    "        #define number of classes\n",
    "        NUM_CLASSES = 3\n",
    "        \n",
    "        augmented_data = []\n",
    "        augmented_masks = []\n",
    "        test_images_ = []\n",
    "        test_masks_ = []\n",
    "\n",
    "        # Augmented training data\n",
    "        for train_image, train_mask in zip(train_imgs, train_msks):\n",
    "            image_list, mask_list = get_augmented_lists(NUM_CLASSES, train_image, train_mask)\n",
    "            augmented_data += image_list\n",
    "            augmented_masks += mask_list\n",
    "            \n",
    "        # Optional testing data\n",
    "        if test_imgs is not None:\n",
    "            for test_image, test_mask in zip(test_imgs, test_msks):\n",
    "                test_images_.append(np.expand_dims(normalise_data(test_image), axis=0))\n",
    "                test_masks_.append(test_mask)\n",
    "        \n",
    "        # Create tf dataset\n",
    "        training_data = tf.data.Dataset.from_tensor_slices((\n",
    "            {\n",
    "                'input_image': augmented_data\n",
    "            },\n",
    "            {\n",
    "                'output_mask': augmented_masks\n",
    "            }))        \n",
    "        \n",
    "        #Create model\n",
    "        vgg_unet = VGGUnet(learning_rate=HYPER_PARAMS['MODEL_LEARN_RATE'],\n",
    "                   num_classes = NUM_CLASSES)\n",
    "        \n",
    "        #Train Model with training group\n",
    "        vgg_unet.train(training_data, [], epochs=HYPER_PARAMS['MODEL_LEARN_EPOCHS'])\n",
    "        \n",
    "        #Test Model with test group\n",
    "        group_acc = test_predictions_cv(NUM_CLASSES, vgg_unet, test_images_, test_masks_, HYPER_PARAMS['MORPH_KERNEL_DIMS'])\n",
    "        \n",
    "        #append accuracy to acc list\n",
    "        acc.append(group_acc)\n",
    "        \n",
    "    print('\\nThe accuracy scores achieved for each fold:')\n",
    "    print(acc)\n",
    "    \n",
    "    final_acc = sum(acc)/len(acc)\n",
    "    print('\\nThe final accuracy of the system: {}'.format(final_acc))"
   ]
  },
  {
   "cell_type": "code",
   "execution_count": 26,
   "metadata": {
    "scrolled": false
   },
   "outputs": [
    {
     "name": "stdout",
     "output_type": "stream",
     "text": [
      "Fold: 0\n",
      "Epoch 1/20\n",
      "160/160 [==============================] - 172s 1s/step - loss: 0.3837 - accuracy: 0.7788\n",
      "Epoch 2/20\n",
      "160/160 [==============================] - 184s 1s/step - loss: 0.0703 - accuracy: 0.9585\n",
      "Epoch 3/20\n",
      "160/160 [==============================] - 190s 1s/step - loss: 0.0360 - accuracy: 0.9787\n",
      "Epoch 4/20\n",
      "160/160 [==============================] - 197s 1s/step - loss: 0.0243 - accuracy: 0.9855\n",
      "Epoch 5/20\n",
      "160/160 [==============================] - 204s 1s/step - loss: 0.0193 - accuracy: 0.9883\n",
      "Epoch 6/20\n",
      "160/160 [==============================] - 203s 1s/step - loss: 0.0166 - accuracy: 0.9898\n",
      "Epoch 7/20\n",
      "160/160 [==============================] - 208s 1s/step - loss: 0.0148 - accuracy: 0.9909\n",
      "Epoch 8/20\n",
      "160/160 [==============================] - 203s 1s/step - loss: 0.0134 - accuracy: 0.9917\n",
      "Epoch 9/20\n",
      "160/160 [==============================] - 196s 1s/step - loss: 0.0123 - accuracy: 0.9924\n",
      "Epoch 10/20\n",
      "160/160 [==============================] - 188s 1s/step - loss: 0.0114 - accuracy: 0.9929\n",
      "Epoch 11/20\n",
      "160/160 [==============================] - 194s 1s/step - loss: 0.0107 - accuracy: 0.9933\n",
      "Epoch 12/20\n",
      "160/160 [==============================] - 189s 1s/step - loss: 0.0101 - accuracy: 0.9937\n",
      "Epoch 13/20\n",
      "160/160 [==============================] - 195s 1s/step - loss: 0.0097 - accuracy: 0.9940\n",
      "Epoch 14/20\n",
      "160/160 [==============================] - 190s 1s/step - loss: 0.0099 - accuracy: 0.9938\n",
      "Epoch 15/20\n",
      "160/160 [==============================] - 194s 1s/step - loss: 0.0115 - accuracy: 0.9929\n",
      "Epoch 16/20\n",
      "160/160 [==============================] - 202s 1s/step - loss: 0.0116 - accuracy: 0.9928\n",
      "Epoch 17/20\n",
      "160/160 [==============================] - 205s 1s/step - loss: 0.0107 - accuracy: 0.9934\n",
      "Epoch 18/20\n",
      "160/160 [==============================] - 213s 1s/step - loss: 0.0094 - accuracy: 0.9941\n",
      "Epoch 19/20\n",
      "160/160 [==============================] - 196s 1s/step - loss: 0.0085 - accuracy: 0.9947\n",
      "Epoch 20/20\n",
      "160/160 [==============================] - 190s 1s/step - loss: 0.0077 - accuracy: 0.9952\n",
      "Prediction #1, accuracy:99.07%\n"
     ]
    },
    {
     "data": {
      "image/png": "[encoded data removed]",
      "text/plain": [
       "<Figure size 432x288 with 1 Axes>"
      ]
     },
     "metadata": {},
     "output_type": "display_data"
    },
    {
     "name": "stdout",
     "output_type": "stream",
     "text": [
      "Prediction #2, accuracy:99.56%\n"
     ]
    },
    {
     "data": {
      "image/png": "[encoded data removed]",
      "text/plain": [
       "<Figure size 432x288 with 1 Axes>"
      ]
     },
     "metadata": {},
     "output_type": "display_data"
    },
    {
     "name": "stdout",
     "output_type": "stream",
     "text": [
      "Prediction #3, accuracy:99.49%\n"
     ]
    },
    {
     "data": {
      "image/png": "[encoded data removed]",
      "text/plain": [
       "<Figure size 432x288 with 1 Axes>"
      ]
     },
     "metadata": {},
     "output_type": "display_data"
    },
    {
     "name": "stdout",
     "output_type": "stream",
     "text": [
      "Prediction #4, accuracy:99.62%\n"
     ]
    },
    {
     "data": {
      "image/png": "[encoded data removed]",
      "text/plain": [
       "<Figure size 432x288 with 1 Axes>"
      ]
     },
     "metadata": {},
     "output_type": "display_data"
    },
    {
     "name": "stdout",
     "output_type": "stream",
     "text": [
      "Prediction #5, accuracy:99.24%\n"
     ]
    },
    {
     "data": {
      "image/png": "[encoded data removed]",
      "text/plain": [
       "<Figure size 432x288 with 1 Axes>"
      ]
     },
     "metadata": {},
     "output_type": "display_data"
    },
    {
     "name": "stdout",
     "output_type": "stream",
     "text": [
      "Prediction #6, accuracy:99.47%\n"
     ]
    },
    {
     "data": {
      "image/png": "[encoded data removed]",
      "text/plain": [
       "<Figure size 432x288 with 1 Axes>"
      ]
     },
     "metadata": {},
     "output_type": "display_data"
    },
    {
     "name": "stdout",
     "output_type": "stream",
     "text": [
      "Prediction #7, accuracy:99.3%\n"
     ]
    },
    {
     "data": {
      "image/png": "[encoded data removed]",
      "text/plain": [
       "<Figure size 432x288 with 1 Axes>"
      ]
     },
     "metadata": {},
     "output_type": "display_data"
    },
    {
     "name": "stdout",
     "output_type": "stream",
     "text": [
      "Prediction #8, accuracy:99.4%\n"
     ]
    },
    {
     "data": {
      "image/png": "[encoded data removed]",
      "text/plain": [
       "<Figure size 432x288 with 1 Axes>"
      ]
     },
     "metadata": {},
     "output_type": "display_data"
    },
    {
     "name": "stdout",
     "output_type": "stream",
     "text": [
      "Average accuracy:99.39%\n",
      "Fold: 1\n",
      "Epoch 1/20\n",
      "160/160 [==============================] - 196s 1s/step - loss: 0.2336 - accuracy: 0.8579\n",
      "Epoch 2/20\n",
      "160/160 [==============================] - 192s 1s/step - loss: 0.0514 - accuracy: 0.9700\n",
      "Epoch 3/20\n",
      "160/160 [==============================] - 198s 1s/step - loss: 0.0252 - accuracy: 0.9852\n",
      "Epoch 4/20\n",
      "160/160 [==============================] - 201s 1s/step - loss: 0.0219 - accuracy: 0.9870\n",
      "Epoch 5/20\n",
      "160/160 [==============================] - 207s 1s/step - loss: 0.0172 - accuracy: 0.9896\n",
      "Epoch 6/20\n",
      "160/160 [==============================] - 208s 1s/step - loss: 0.0153 - accuracy: 0.9907\n",
      "Epoch 7/20\n",
      "160/160 [==============================] - 207s 1s/step - loss: 0.0135 - accuracy: 0.9916\n",
      "Epoch 8/20\n",
      "160/160 [==============================] - 210s 1s/step - loss: 0.0123 - accuracy: 0.9924\n",
      "Epoch 9/20\n",
      "160/160 [==============================] - 199s 1s/step - loss: 0.0112 - accuracy: 0.9930\n",
      "Epoch 10/20\n",
      "160/160 [==============================] - 194s 1s/step - loss: 0.0104 - accuracy: 0.9936\n",
      "Epoch 11/20\n",
      "160/160 [==============================] - 201s 1s/step - loss: 0.0097 - accuracy: 0.9940\n",
      "Epoch 12/20\n",
      "160/160 [==============================] - 203s 1s/step - loss: 0.0090 - accuracy: 0.9944\n",
      "Epoch 13/20\n",
      "160/160 [==============================] - 208s 1s/step - loss: 0.0086 - accuracy: 0.9947\n",
      "Epoch 14/20\n",
      "160/160 [==============================] - 207s 1s/step - loss: 0.0082 - accuracy: 0.9949\n",
      "Epoch 15/20\n",
      "160/160 [==============================] - 198s 1s/step - loss: 0.0080 - accuracy: 0.9950\n",
      "Epoch 16/20\n",
      "160/160 [==============================] - 192s 1s/step - loss: 0.0083 - accuracy: 0.9947\n",
      "Epoch 17/20\n",
      "160/160 [==============================] - 213s 1s/step - loss: 0.0093 - accuracy: 0.9941\n",
      "Epoch 18/20\n",
      "160/160 [==============================] - 239s 1s/step - loss: 0.0093 - accuracy: 0.9942\n",
      "Epoch 19/20\n",
      "160/160 [==============================] - 231s 1s/step - loss: 0.0083 - accuracy: 0.9948\n",
      "Epoch 20/20\n",
      "160/160 [==============================] - 212s 1s/step - loss: 0.0080 - accuracy: 0.9950\n",
      "Prediction #1, accuracy:99.36%\n"
     ]
    },
    {
     "data": {
      "image/png": "[encoded data removed]",
      "text/plain": [
       "<Figure size 432x288 with 1 Axes>"
      ]
     },
     "metadata": {},
     "output_type": "display_data"
    },
    {
     "name": "stdout",
     "output_type": "stream",
     "text": [
      "Prediction #2, accuracy:99.21%\n"
     ]
    },
    {
     "data": {
      "image/png": "[encoded data removed]",
      "text/plain": [
       "<Figure size 432x288 with 1 Axes>"
      ]
     },
     "metadata": {},
     "output_type": "display_data"
    },
    {
     "name": "stdout",
     "output_type": "stream",
     "text": [
      "Prediction #3, accuracy:99.38%\n"
     ]
    },
    {
     "data": {
      "image/png": "[encoded data removed]",
      "text/plain": [
       "<Figure size 432x288 with 1 Axes>"
      ]
     },
     "metadata": {},
     "output_type": "display_data"
    },
    {
     "name": "stdout",
     "output_type": "stream",
     "text": [
      "Prediction #4, accuracy:99.16%\n"
     ]
    },
    {
     "data": {
      "image/png": "[encoded data removed]",
      "text/plain": [
       "<Figure size 432x288 with 1 Axes>"
      ]
     },
     "metadata": {},
     "output_type": "display_data"
    },
    {
     "name": "stdout",
     "output_type": "stream",
     "text": [
      "Prediction #5, accuracy:99.44%\n"
     ]
    },
    {
     "data": {
      "image/png": "[encoded data removed]",
      "text/plain": [
       "<Figure size 432x288 with 1 Axes>"
      ]
     },
     "metadata": {},
     "output_type": "display_data"
    },
    {
     "name": "stdout",
     "output_type": "stream",
     "text": [
      "Prediction #6, accuracy:98.86%\n"
     ]
    },
    {
     "data": {
      "image/png": "[encoded data removed]",
      "text/plain": [
       "<Figure size 432x288 with 1 Axes>"
      ]
     },
     "metadata": {},
     "output_type": "display_data"
    },
    {
     "name": "stdout",
     "output_type": "stream",
     "text": [
      "Prediction #7, accuracy:99.56%\n"
     ]
    },
    {
     "data": {
      "image/png": "[encoded data removed]",
      "text/plain": [
       "<Figure size 432x288 with 1 Axes>"
      ]
     },
     "metadata": {},
     "output_type": "display_data"
    },
    {
     "name": "stdout",
     "output_type": "stream",
     "text": [
      "Prediction #8, accuracy:99.04%\n"
     ]
    },
    {
     "data": {
      "image/png": "[encoded data removed]",
      "text/plain": [
       "<Figure size 432x288 with 1 Axes>"
      ]
     },
     "metadata": {},
     "output_type": "display_data"
    },
    {
     "name": "stdout",
     "output_type": "stream",
     "text": [
      "Average accuracy:99.25%\n",
      "Fold: 2\n",
      "Epoch 1/20\n",
      "160/160 [==============================] - 213s 1s/step - loss: 0.3993 - accuracy: 0.7697\n",
      "Epoch 2/20\n",
      "160/160 [==============================] - 217s 1s/step - loss: 0.0868 - accuracy: 0.9488\n",
      "Epoch 3/20\n",
      "160/160 [==============================] - 213s 1s/step - loss: 0.0361 - accuracy: 0.9790\n",
      "Epoch 4/20\n",
      "160/160 [==============================] - 216s 1s/step - loss: 0.0246 - accuracy: 0.9855\n",
      "Epoch 5/20\n",
      "160/160 [==============================] - 216s 1s/step - loss: 0.0193 - accuracy: 0.9885\n",
      "Epoch 6/20\n",
      "160/160 [==============================] - 216s 1s/step - loss: 0.0166 - accuracy: 0.9899\n",
      "Epoch 7/20\n",
      "160/160 [==============================] - 219s 1s/step - loss: 0.0149 - accuracy: 0.9909\n",
      "Epoch 8/20\n",
      "160/160 [==============================] - 218s 1s/step - loss: 0.0135 - accuracy: 0.9917\n",
      "Epoch 9/20\n",
      "160/160 [==============================] - 217s 1s/step - loss: 0.0125 - accuracy: 0.9923\n",
      "Epoch 10/20\n",
      "160/160 [==============================] - 218s 1s/step - loss: 0.0117 - accuracy: 0.9928\n",
      "Epoch 11/20\n",
      "160/160 [==============================] - 218s 1s/step - loss: 0.0110 - accuracy: 0.9932\n",
      "Epoch 12/20\n",
      "160/160 [==============================] - 218s 1s/step - loss: 0.0104 - accuracy: 0.9936\n",
      "Epoch 13/20\n",
      "160/160 [==============================] - 219s 1s/step - loss: 0.0100 - accuracy: 0.9938\n",
      "Epoch 14/20\n",
      "160/160 [==============================] - 214s 1s/step - loss: 0.0101 - accuracy: 0.9937\n",
      "Epoch 15/20\n",
      "160/160 [==============================] - 215s 1s/step - loss: 0.0112 - accuracy: 0.9931\n",
      "Epoch 16/20\n",
      "160/160 [==============================] - 217s 1s/step - loss: 0.0117 - accuracy: 0.9928\n",
      "Epoch 17/20\n",
      "160/160 [==============================] - 216s 1s/step - loss: 0.0106 - accuracy: 0.9935\n",
      "Epoch 18/20\n",
      "160/160 [==============================] - 215s 1s/step - loss: 0.0092 - accuracy: 0.9943\n",
      "Epoch 19/20\n",
      "160/160 [==============================] - 218s 1s/step - loss: 0.0083 - accuracy: 0.9949\n",
      "Epoch 20/20\n",
      "160/160 [==============================] - 214s 1s/step - loss: 0.0077 - accuracy: 0.9952\n",
      "Prediction #1, accuracy:99.63%\n"
     ]
    },
    {
     "data": {
      "image/png": "[encoded data removed]",
      "text/plain": [
       "<Figure size 432x288 with 1 Axes>"
      ]
     },
     "metadata": {},
     "output_type": "display_data"
    },
    {
     "name": "stdout",
     "output_type": "stream",
     "text": [
      "Prediction #2, accuracy:99.28%\n"
     ]
    },
    {
     "data": {
      "image/png": "[encoded data removed]",
      "text/plain": [
       "<Figure size 432x288 with 1 Axes>"
      ]
     },
     "metadata": {},
     "output_type": "display_data"
    },
    {
     "name": "stdout",
     "output_type": "stream",
     "text": [
      "Prediction #3, accuracy:99.56%\n"
     ]
    },
    {
     "data": {
      "image/png": "[encoded data removed]",
      "text/plain": [
       "<Figure size 432x288 with 1 Axes>"
      ]
     },
     "metadata": {},
     "output_type": "display_data"
    },
    {
     "name": "stdout",
     "output_type": "stream",
     "text": [
      "Prediction #4, accuracy:99.5%\n"
     ]
    },
    {
     "data": {
      "image/png": "[encoded data removed]",
      "text/plain": [
       "<Figure size 432x288 with 1 Axes>"
      ]
     },
     "metadata": {},
     "output_type": "display_data"
    },
    {
     "name": "stdout",
     "output_type": "stream",
     "text": [
      "Prediction #5, accuracy:99.46%\n"
     ]
    },
    {
     "data": {
      "image/png": "[encoded data removed]",
      "text/plain": [
       "<Figure size 432x288 with 1 Axes>"
      ]
     },
     "metadata": {},
     "output_type": "display_data"
    },
    {
     "name": "stdout",
     "output_type": "stream",
     "text": [
      "Prediction #6, accuracy:99.48%\n"
     ]
    },
    {
     "data": {
      "image/png": "[encoded data removed]",
      "text/plain": [
       "<Figure size 432x288 with 1 Axes>"
      ]
     },
     "metadata": {},
     "output_type": "display_data"
    },
    {
     "name": "stdout",
     "output_type": "stream",
     "text": [
      "Prediction #7, accuracy:99.49%\n"
     ]
    },
    {
     "data": {
      "image/png": "[encoded data removed]",
      "text/plain": [
       "<Figure size 432x288 with 1 Axes>"
      ]
     },
     "metadata": {},
     "output_type": "display_data"
    },
    {
     "name": "stdout",
     "output_type": "stream",
     "text": [
      "Prediction #8, accuracy:99.33%\n"
     ]
    },
    {
     "data": {
      "image/png": "[encoded data removed]",
      "text/plain": [
       "<Figure size 432x288 with 1 Axes>"
      ]
     },
     "metadata": {},
     "output_type": "display_data"
    },
    {
     "name": "stdout",
     "output_type": "stream",
     "text": [
      "Average accuracy:99.46%\n",
      "Fold: 3\n",
      "Epoch 1/20\n",
      "160/160 [==============================] - 211s 1s/step - loss: 0.4359 - accuracy: 0.7350\n",
      "Epoch 2/20\n",
      "160/160 [==============================] - 215s 1s/step - loss: 0.0586 - accuracy: 0.9664\n",
      "Epoch 3/20\n",
      "160/160 [==============================] - 216s 1s/step - loss: 0.0270 - accuracy: 0.9843\n",
      "Epoch 4/20\n",
      "160/160 [==============================] - 217s 1s/step - loss: 0.0196 - accuracy: 0.9883\n",
      "Epoch 5/20\n",
      "160/160 [==============================] - 219s 1s/step - loss: 0.0161 - accuracy: 0.9903\n",
      "Epoch 6/20\n",
      "160/160 [==============================] - 215s 1s/step - loss: 0.0137 - accuracy: 0.9917\n",
      "Epoch 7/20\n",
      "160/160 [==============================] - 215s 1s/step - loss: 0.0120 - accuracy: 0.9926\n",
      "Epoch 8/20\n",
      "160/160 [==============================] - 216s 1s/step - loss: 0.0108 - accuracy: 0.9933\n",
      "Epoch 9/20\n",
      "160/160 [==============================] - 216s 1s/step - loss: 0.0102 - accuracy: 0.9937\n",
      "Epoch 10/20\n",
      "160/160 [==============================] - 218s 1s/step - loss: 0.0114 - accuracy: 0.9931\n",
      "Epoch 11/20\n",
      "160/160 [==============================] - 208s 1s/step - loss: 0.0102 - accuracy: 0.9937\n",
      "Epoch 12/20\n",
      "160/160 [==============================] - 189s 1s/step - loss: 0.0101 - accuracy: 0.9937\n",
      "Epoch 13/20\n",
      "160/160 [==============================] - 190s 1s/step - loss: 0.0104 - accuracy: 0.9935\n",
      "Epoch 14/20\n",
      "160/160 [==============================] - 195s 1s/step - loss: 0.0116 - accuracy: 0.9928\n",
      "Epoch 15/20\n",
      "160/160 [==============================] - 202s 1s/step - loss: 0.0113 - accuracy: 0.9930\n",
      "Epoch 16/20\n",
      "160/160 [==============================] - 200s 1s/step - loss: 0.0094 - accuracy: 0.9941\n",
      "Epoch 17/20\n",
      "160/160 [==============================] - 195s 1s/step - loss: 0.0085 - accuracy: 0.9947\n",
      "Epoch 18/20\n",
      "160/160 [==============================] - 195s 1s/step - loss: 0.0077 - accuracy: 0.9952\n",
      "Epoch 19/20\n",
      "160/160 [==============================] - 194s 1s/step - loss: 0.0071 - accuracy: 0.9955\n",
      "Epoch 20/20\n",
      "160/160 [==============================] - 195s 1s/step - loss: 0.0066 - accuracy: 0.9958\n",
      "Prediction #1, accuracy:99.19%\n"
     ]
    },
    {
     "data": {
      "image/png": "[encoded data removed]",
      "text/plain": [
       "<Figure size 432x288 with 1 Axes>"
      ]
     },
     "metadata": {},
     "output_type": "display_data"
    },
    {
     "name": "stdout",
     "output_type": "stream",
     "text": [
      "Prediction #2, accuracy:99.35%\n"
     ]
    },
    {
     "data": {
      "image/png": "[encoded data removed]",
      "text/plain": [
       "<Figure size 432x288 with 1 Axes>"
      ]
     },
     "metadata": {},
     "output_type": "display_data"
    },
    {
     "name": "stdout",
     "output_type": "stream",
     "text": [
      "Prediction #3, accuracy:99.31%\n"
     ]
    },
    {
     "data": {
      "image/png": "[encoded data removed]",
      "text/plain": [
       "<Figure size 432x288 with 1 Axes>"
      ]
     },
     "metadata": {},
     "output_type": "display_data"
    },
    {
     "name": "stdout",
     "output_type": "stream",
     "text": [
      "Prediction #4, accuracy:99.15%\n"
     ]
    },
    {
     "data": {
      "image/png": "[encoded data removed]",
      "text/plain": [
       "<Figure size 432x288 with 1 Axes>"
      ]
     },
     "metadata": {},
     "output_type": "display_data"
    },
    {
     "name": "stdout",
     "output_type": "stream",
     "text": [
      "Prediction #5, accuracy:99.5%\n"
     ]
    },
    {
     "data": {
      "image/png": "[encoded data removed]",
      "text/plain": [
       "<Figure size 432x288 with 1 Axes>"
      ]
     },
     "metadata": {},
     "output_type": "display_data"
    },
    {
     "name": "stdout",
     "output_type": "stream",
     "text": [
      "Prediction #6, accuracy:99.24%\n"
     ]
    },
    {
     "data": {
      "image/png": "[encoded data removed]",
      "text/plain": [
       "<Figure size 432x288 with 1 Axes>"
      ]
     },
     "metadata": {},
     "output_type": "display_data"
    },
    {
     "name": "stdout",
     "output_type": "stream",
     "text": [
      "Prediction #7, accuracy:99.49%\n"
     ]
    },
    {
     "data": {
      "image/png": "[encoded data removed]",
      "text/plain": [
       "<Figure size 432x288 with 1 Axes>"
      ]
     },
     "metadata": {},
     "output_type": "display_data"
    },
    {
     "name": "stdout",
     "output_type": "stream",
     "text": [
      "Prediction #8, accuracy:99.09%\n"
     ]
    },
    {
     "data": {
      "image/png": "[encoded data removed]",
      "text/plain": [
       "<Figure size 432x288 with 1 Axes>"
      ]
     },
     "metadata": {},
     "output_type": "display_data"
    },
    {
     "name": "stdout",
     "output_type": "stream",
     "text": [
      "Average accuracy:99.29%\n",
      "Fold: 4\n",
      "Epoch 1/20\n",
      "160/160 [==============================] - 194s 1s/step - loss: 0.1887 - accuracy: 0.8761\n",
      "Epoch 2/20\n",
      "160/160 [==============================] - 193s 1s/step - loss: 0.0384 - accuracy: 0.9776\n",
      "Epoch 3/20\n",
      "160/160 [==============================] - 196s 1s/step - loss: 0.0264 - accuracy: 0.9845\n",
      "Epoch 4/20\n",
      "160/160 [==============================] - 196s 1s/step - loss: 0.0180 - accuracy: 0.9892\n",
      "Epoch 5/20\n",
      "160/160 [==============================] - 197s 1s/step - loss: 0.0149 - accuracy: 0.9909\n",
      "Epoch 6/20\n",
      "160/160 [==============================] - 196s 1s/step - loss: 0.0130 - accuracy: 0.9920\n",
      "Epoch 7/20\n",
      "160/160 [==============================] - 196s 1s/step - loss: 0.0117 - accuracy: 0.9928\n",
      "Epoch 8/20\n",
      "160/160 [==============================] - 196s 1s/step - loss: 0.0106 - accuracy: 0.9935\n",
      "Epoch 9/20\n",
      "160/160 [==============================] - 196s 1s/step - loss: 0.0098 - accuracy: 0.9940\n",
      "Epoch 10/20\n",
      "160/160 [==============================] - 195s 1s/step - loss: 0.0092 - accuracy: 0.9943\n",
      "Epoch 11/20\n",
      "160/160 [==============================] - 193s 1s/step - loss: 0.0089 - accuracy: 0.9945\n",
      "Epoch 12/20\n",
      "160/160 [==============================] - 194s 1s/step - loss: 0.0093 - accuracy: 0.9942\n",
      "Epoch 13/20\n",
      "160/160 [==============================] - 196s 1s/step - loss: 0.0107 - accuracy: 0.9934\n",
      "Epoch 14/20\n",
      "160/160 [==============================] - 196s 1s/step - loss: 0.0106 - accuracy: 0.9935\n",
      "Epoch 15/20\n",
      "160/160 [==============================] - 195s 1s/step - loss: 0.0093 - accuracy: 0.9942\n",
      "Epoch 16/20\n",
      "160/160 [==============================] - 198s 1s/step - loss: 0.0083 - accuracy: 0.9949\n",
      "Epoch 17/20\n",
      "160/160 [==============================] - 201s 1s/step - loss: 0.0076 - accuracy: 0.9953\n",
      "Epoch 18/20\n",
      "160/160 [==============================] - 204s 1s/step - loss: 0.0071 - accuracy: 0.9956\n",
      "Epoch 19/20\n",
      "160/160 [==============================] - 203s 1s/step - loss: 0.0067 - accuracy: 0.9958\n",
      "Epoch 20/20\n",
      "160/160 [==============================] - 197s 1s/step - loss: 0.0064 - accuracy: 0.9960\n",
      "Prediction #1, accuracy:97.82%\n"
     ]
    },
    {
     "data": {
      "image/png": "[encoded data removed]",
      "text/plain": [
       "<Figure size 432x288 with 1 Axes>"
      ]
     },
     "metadata": {},
     "output_type": "display_data"
    },
    {
     "name": "stdout",
     "output_type": "stream",
     "text": [
      "Prediction #2, accuracy:99.37%\n"
     ]
    },
    {
     "data": {
      "image/png": "[encoded data removed]",
      "text/plain": [
       "<Figure size 432x288 with 1 Axes>"
      ]
     },
     "metadata": {},
     "output_type": "display_data"
    },
    {
     "name": "stdout",
     "output_type": "stream",
     "text": [
      "Prediction #3, accuracy:99.16%\n"
     ]
    },
    {
     "data": {
      "image/png": "[encoded data removed]",
      "text/plain": [
       "<Figure size 432x288 with 1 Axes>"
      ]
     },
     "metadata": {},
     "output_type": "display_data"
    },
    {
     "name": "stdout",
     "output_type": "stream",
     "text": [
      "Prediction #4, accuracy:99.08%\n"
     ]
    },
    {
     "data": {
      "image/png": "[encoded data removed]",
      "text/plain": [
       "<Figure size 432x288 with 1 Axes>"
      ]
     },
     "metadata": {},
     "output_type": "display_data"
    },
    {
     "name": "stdout",
     "output_type": "stream",
     "text": [
      "Prediction #5, accuracy:99.11%\n"
     ]
    },
    {
     "data": {
      "image/png": "[encoded data removed]",
      "text/plain": [
       "<Figure size 432x288 with 1 Axes>"
      ]
     },
     "metadata": {},
     "output_type": "display_data"
    },
    {
     "name": "stdout",
     "output_type": "stream",
     "text": [
      "Prediction #6, accuracy:98.84%\n"
     ]
    },
    {
     "data": {
      "image/png": "[encoded data removed]",
      "text/plain": [
       "<Figure size 432x288 with 1 Axes>"
      ]
     },
     "metadata": {},
     "output_type": "display_data"
    },
    {
     "name": "stdout",
     "output_type": "stream",
     "text": [
      "Prediction #7, accuracy:99.34%\n"
     ]
    },
    {
     "data": {
      "image/png": "[encoded data removed]",
      "text/plain": [
       "<Figure size 432x288 with 1 Axes>"
      ]
     },
     "metadata": {},
     "output_type": "display_data"
    },
    {
     "name": "stdout",
     "output_type": "stream",
     "text": [
      "Prediction #8, accuracy:99.43%\n"
     ]
    },
    {
     "data": {
      "image/png": "[encoded data removed]",
      "text/plain": [
       "<Figure size 432x288 with 1 Axes>"
      ]
     },
     "metadata": {},
     "output_type": "display_data"
    },
    {
     "name": "stdout",
     "output_type": "stream",
     "text": [
      "Average accuracy:99.02%\n",
      "Fold: 5\n",
      "Epoch 1/20\n",
      "160/160 [==============================] - 192s 1s/step - loss: 0.6072 - accuracy: 0.6252\n",
      "Epoch 2/20\n",
      "160/160 [==============================] - 195s 1s/step - loss: 0.0466 - accuracy: 0.9734\n",
      "Epoch 3/20\n",
      "160/160 [==============================] - 197s 1s/step - loss: 0.0270 - accuracy: 0.9841\n",
      "Epoch 4/20\n",
      "160/160 [==============================] - 196s 1s/step - loss: 0.0218 - accuracy: 0.9870\n",
      "Epoch 5/20\n",
      "160/160 [==============================] - 195s 1s/step - loss: 0.0177 - accuracy: 0.9893\n",
      "Epoch 6/20\n",
      "160/160 [==============================] - 196s 1s/step - loss: 0.0151 - accuracy: 0.9908\n",
      "Epoch 7/20\n",
      "160/160 [==============================] - 196s 1s/step - loss: 0.0134 - accuracy: 0.9918\n",
      "Epoch 8/20\n",
      "160/160 [==============================] - 195s 1s/step - loss: 0.0121 - accuracy: 0.9926\n",
      "Epoch 9/20\n",
      "160/160 [==============================] - 194s 1s/step - loss: 0.0110 - accuracy: 0.9932\n",
      "Epoch 10/20\n",
      "160/160 [==============================] - 192s 1s/step - loss: 0.0102 - accuracy: 0.9936\n",
      "Epoch 11/20\n",
      "160/160 [==============================] - 192s 1s/step - loss: 0.0097 - accuracy: 0.9939\n",
      "Epoch 12/20\n",
      "160/160 [==============================] - 192s 1s/step - loss: 0.0097 - accuracy: 0.9939\n",
      "Epoch 13/20\n",
      "160/160 [==============================] - 193s 1s/step - loss: 0.0091 - accuracy: 0.9943\n",
      "Epoch 14/20\n",
      "160/160 [==============================] - 194s 1s/step - loss: 0.0089 - accuracy: 0.9944\n",
      "Epoch 15/20\n",
      "160/160 [==============================] - 195s 1s/step - loss: 0.0099 - accuracy: 0.9938\n",
      "Epoch 16/20\n",
      "160/160 [==============================] - 195s 1s/step - loss: 0.0104 - accuracy: 0.9935\n",
      "Epoch 17/20\n",
      "160/160 [==============================] - 195s 1s/step - loss: 0.0103 - accuracy: 0.9935\n",
      "Epoch 18/20\n",
      "160/160 [==============================] - 195s 1s/step - loss: 0.0096 - accuracy: 0.9940\n",
      "Epoch 19/20\n",
      "160/160 [==============================] - 195s 1s/step - loss: 0.0084 - accuracy: 0.9947\n",
      "Epoch 20/20\n",
      "160/160 [==============================] - 194s 1s/step - loss: 0.0076 - accuracy: 0.9953\n",
      "Prediction #1, accuracy:99.37%\n"
     ]
    },
    {
     "data": {
      "image/png": "[encoded data removed]",
      "text/plain": [
       "<Figure size 432x288 with 1 Axes>"
      ]
     },
     "metadata": {},
     "output_type": "display_data"
    },
    {
     "name": "stdout",
     "output_type": "stream",
     "text": [
      "Prediction #2, accuracy:99.2%\n"
     ]
    },
    {
     "data": {
      "image/png": "[encoded data removed]",
      "text/plain": [
       "<Figure size 432x288 with 1 Axes>"
      ]
     },
     "metadata": {},
     "output_type": "display_data"
    },
    {
     "name": "stdout",
     "output_type": "stream",
     "text": [
      "Prediction #3, accuracy:99.28%\n"
     ]
    },
    {
     "data": {
      "image/png": "[encoded data removed]",
      "text/plain": [
       "<Figure size 432x288 with 1 Axes>"
      ]
     },
     "metadata": {},
     "output_type": "display_data"
    },
    {
     "name": "stdout",
     "output_type": "stream",
     "text": [
      "Prediction #4, accuracy:99.65%\n"
     ]
    },
    {
     "data": {
      "image/png": "[encoded data removed]",
      "text/plain": [
       "<Figure size 432x288 with 1 Axes>"
      ]
     },
     "metadata": {},
     "output_type": "display_data"
    },
    {
     "name": "stdout",
     "output_type": "stream",
     "text": [
      "Prediction #5, accuracy:98.99%\n"
     ]
    },
    {
     "data": {
      "image/png": "[encoded data removed]",
      "text/plain": [
       "<Figure size 432x288 with 1 Axes>"
      ]
     },
     "metadata": {},
     "output_type": "display_data"
    },
    {
     "name": "stdout",
     "output_type": "stream",
     "text": [
      "Prediction #6, accuracy:99.34%\n"
     ]
    },
    {
     "data": {
      "image/png": "[encoded data removed]",
      "text/plain": [
       "<Figure size 432x288 with 1 Axes>"
      ]
     },
     "metadata": {},
     "output_type": "display_data"
    },
    {
     "name": "stdout",
     "output_type": "stream",
     "text": [
      "Prediction #7, accuracy:99.08%\n"
     ]
    },
    {
     "data": {
      "image/png": "[encoded data removed]",
      "text/plain": [
       "<Figure size 432x288 with 1 Axes>"
      ]
     },
     "metadata": {},
     "output_type": "display_data"
    },
    {
     "name": "stdout",
     "output_type": "stream",
     "text": [
      "Prediction #8, accuracy:99.22%\n"
     ]
    },
    {
     "data": {
      "image/png": "[encoded data removed]",
      "text/plain": [
       "<Figure size 432x288 with 1 Axes>"
      ]
     },
     "metadata": {},
     "output_type": "display_data"
    },
    {
     "name": "stdout",
     "output_type": "stream",
     "text": [
      "Average accuracy:99.27%\n",
      "\n",
      "The accuracy scores achieved for each fold:\n",
      "[99.39, 99.25, 99.46, 99.29, 99.02, 99.27]\n",
      "\n",
      "The final accuracy of the system: 99.27999999999999\n"
     ]
    }
   ],
   "source": [
    "cross_val_manager(folds = 6)"
   ]
  },
  {
   "cell_type": "code",
   "execution_count": null,
   "metadata": {},
   "outputs": [],
   "source": []
  }
 ],
 "metadata": {
  "kernelspec": {
   "display_name": "Python 3",
   "language": "python",
   "name": "python3"
  },
  "language_info": {
   "codemirror_mode": {
    "name": "ipython",
    "version": 3
   },
   "file_extension": ".py",
   "mimetype": "text/x-python",
   "name": "python",
   "nbconvert_exporter": "python",
   "pygments_lexer": "ipython3",
   "version": "3.7.6"
  }
 },
 "nbformat": 4,
 "nbformat_minor": 4
}
